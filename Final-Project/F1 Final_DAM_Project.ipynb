{
 "cells": [
  {
   "cell_type": "markdown",
   "metadata": {},
   "source": [
    "# Impact of Stock Portfolio Diversification on Portfolio Risks"
   ]
  },
  {
   "cell_type": "markdown",
   "metadata": {},
   "source": [
    "# Abstract"
   ]
  },
  {
   "cell_type": "markdown",
   "metadata": {},
   "source": [
    "This project aims to explore the intricate relationship between stock portfolio diversification and the consequent reduction in portfolio risks. With a focus on how the number of stocks and sectors within a portfolio correlates with risk mitigation, the study delves into understanding the dynamics of diversification in investment portfolios. The central research questions probe the impact of diversification levels on overall risk reduction, the correlation between the number of stocks/sectors and the decrease in risks, and the quest for an optimal diversification level.\n"
   ]
  },
  {
   "cell_type": "markdown",
   "metadata": {},
   "source": [
    "# Introduction"
   ]
  },
  {
   "cell_type": "markdown",
   "metadata": {},
   "source": [
    "The aim of this project is to analyse how the level of diversification in a stock portfolio influences the overall reduction in portfolio risks. We will explore the correlation between the number of stocks or sectors in a portfolio and the corresponding decrease in portfolio risks. Additionally, we will investigate whether there exists an optimal diversification level beyond which further additions do not significantly reduce risks.\n",
    "\n",
    "Team Members\n",
    "\n",
    "1. Dharani Goalla\n",
    "2. Sahil Kakkar\n",
    "3. Venkata Narasa Reddy Boreddy"
   ]
  },
  {
   "cell_type": "markdown",
   "metadata": {},
   "source": [
    "### Research Questions:"
   ]
  },
  {
   "cell_type": "markdown",
   "metadata": {},
   "source": [
    "1. How does the level of stock portfolio diversification impact the reduction of overall portfolio risks?\n",
    "<br>\n",
    "2.\tExplore the correlation between the number of stocks or sectors in a portfolio and the corresponding decrease in portfolio risks.\n",
    "<br>\n",
    "3.\tInvestigate if there exists an optimal diversification level beyond which further additions do not significantly reduce risks.\n",
    "<br>"
   ]
  },
  {
   "cell_type": "markdown",
   "metadata": {},
   "source": [
    "## Research Approach\n",
    "\n",
    "Utilizing data sources such as the Alpha Vantage API for stock prices and volume, and Yahoo Finance for sector information, the project employs web scraping and API methods for data sourcing. The subsequent data integration and transformation process is meticulously planned. Analytical methods encompass correlation coefficient calculations and interpolation models to ascertain the point of diminishing returns in risk reduction. The project's ultimate goal is to identify whether an optimal level of diversification exists, beyond which additional diversification does not significantly contribute to risk mitigation.\n"
   ]
  },
  {
   "cell_type": "markdown",
   "metadata": {},
   "source": [
    "# 1. Data Integration and Transformation Pipeline:"
   ]
  },
  {
   "cell_type": "code",
   "execution_count": 1,
   "metadata": {
    "id": "pMm-BIlRAHD9"
   },
   "outputs": [],
   "source": [
    "import requests\n",
    "import pandas as pd\n",
    "import csv\n",
    "import psycopg2\n",
    "from psycopg2 import sql\n",
    "import time\n",
    "from concurrent.futures import ThreadPoolExecutor\n",
    "from bs4 import BeautifulSoup"
   ]
  },
  {
   "cell_type": "code",
   "execution_count": 2,
   "metadata": {
    "id": "cFpHDUDZCl8l"
   },
   "outputs": [],
   "source": [
    "# Alpha Vantage API key1d\n",
    "api_key = \"9FBRN4C607Z33XM0\"\n",
    "APLHA_VANTAGE_BASE_URL = 'https://www.alphavantage.co/query'"
   ]
  },
  {
   "cell_type": "markdown",
   "metadata": {
    "id": "dC854_KMAJCk"
   },
   "source": [
    "#Database Connection in Python\n",
    "\n",
    "The get_db_connection function creates a connection to a PostgreSQL database using psycopg2.\n",
    "\n",
    "Parameters: No external parameters required.\n",
    "Returns: A connection object to the  database\n",
    "\n",
    "NOTE: Adjust the host, database, user, and password as per your configuration."
   ]
  },
  {
   "cell_type": "code",
   "execution_count": 4,
   "metadata": {
    "id": "bMmCBljKAHD-"
   },
   "outputs": [],
   "source": [
    "# Function to get a database connection\n",
    "def get_db_connection():\n",
    "    '''creates and returns a connection object to the PostgreSQL database.'''\n",
    "    return psycopg2.connect(\n",
    "        host=\"localhost\",\n",
    "        database=\"STOCKS\", # Database name\n",
    "        user=\"postgres\", # your username\n",
    "        password=\"123456789\" #your\n",
    "    )\n",
    "  \n"
   ]
  },
  {
   "cell_type": "markdown",
   "metadata": {
    "id": "qxitPc3NFrXS"
   },
   "source": [
    "# 1.1 NYSE Symbols Fetcher\n",
    "\n",
    "The fetch_symbols function retrieves a list of active listing symbols from the NYSE exchange using the Alpha Vantage API.\n",
    "\n",
    "# Workflow:\n",
    "\n",
    "1. Calls the Alpha Vantage API with LISTING_STATUS function.\n",
    "Parses the CSV response to a pandas DataFrame.\n",
    "\n",
    "2. Filters the DataFrame to include only NYSE stocks.\n",
    "\n",
    "# Returns:\n",
    " A DataFrame with columns: 'symbol', 'name', 'exchange', 'assetType'.\n",
    "\n",
    "# Requirements:\n",
    "\n",
    "Requests and csv libraries for API call and CSV parsing.\n",
    "pandas for DataFrame operations."
   ]
  },
  {
   "cell_type": "code",
   "execution_count": 5,
   "metadata": {
    "id": "cZ2pwxzzAHD_",
    "outputId": "23f355cf-0045-4bac-90e1-99fe765083c2"
   },
   "outputs": [],
   "source": [
    "# Function to fetch symbols from Alpha Vantage\n",
    "def fetch_symbols():\n",
    "    '''Fetches active listing symbols from NYSE exchange'''\n",
    "    function = 'LISTING_STATUS'\n",
    "    symbols_url = f'{APLHA_VANTAGE_BASE_URL}?function={function}&apikey={api_key}'\n",
    "    response = requests.get(symbols_url)\n",
    "    decoded_content = response.content.decode('utf-8')\n",
    "    csv_reader = csv.reader(decoded_content.splitlines(), delimiter=',')\n",
    "    symbols_list = list(csv_reader)\n",
    "    columns = symbols_list[0]\n",
    "    symbols_df = pd.DataFrame(symbols_list[1:], columns=columns)\n",
    "\n",
    "    # Filter for NYSE and Stocks\n",
    "    nyse_stocks = symbols_df[(symbols_df['exchange'] == 'NYSE') & (symbols_df['assetType'] == 'Stock')]\n",
    "\n",
    "    return nyse_stocks[['symbol', 'name', 'exchange', 'assetType']]\n"
   ]
  },
  {
   "cell_type": "markdown",
   "metadata": {
    "id": "1-KV1Dd5INNp"
   },
   "source": [
    "# 1.2 Data Insertion into PostgreSQL Database\n",
    "\n",
    "The insert_data_into_database function inserts data into a PostgreSQL database from two DataFrames: df_symbols and df_stock_data.\n",
    "\n",
    "# Process:\n",
    "\n",
    "**Symbols Table Insertion**: Iterates over df_symbols, inserting each symbol into the symbols table. Utilizes ON CONFLICT to avoid duplicates and populates symbol_id_dict with returned IDs.\n",
    "\n",
    "**Stock Data Insertion**: Iterates over df_stock_data, using symbol_id_dict to fetch the corresponding ID and inserts each row into the stock_data table.\n",
    "\n",
    "# Parameters:\n",
    "\n",
    "conn: Database connection object.\n",
    "df_symbols: DataFrame with symbol information.\n",
    "df_stock_data: DataFrame with stock market data.\n",
    "\n",
    "# Error Handling:\n",
    "\n",
    "Catches exceptions during insertion, printing the error message.\n",
    "Ensures the cursor is closed in the finally block.\n",
    "\n",
    "# Transaction Management:\n",
    "\n",
    "Commits data after inserting symbols and stock data to ensure database integrity.\n"
   ]
  },
  {
   "cell_type": "code",
   "execution_count": 6,
   "metadata": {
    "id": "qRGQZF4RDBZH"
   },
   "outputs": [],
   "source": [
    "# Function to insert data into the PostgreSQL database\n",
    "def insert_data_into_database(conn, df_symbols, df_stock_data):\n",
    "    '''Inserts symbols and stock time series data in to respective tables stock_data and symbols'''\n",
    "    try:\n",
    "        # Create a cursor\n",
    "        cursor = conn.cursor()\n",
    "\n",
    "        # Insert data into symbols table and create symbol_id dictionary\n",
    "        symbol_id_dict = {}\n",
    "        for index, row in df_symbols.iterrows():\n",
    "\n",
    "            insert_query = sql.SQL(\"\"\"\n",
    "                INSERT INTO symbols (symbol, name, exchange, asset_type)\n",
    "                VALUES (%s, %s, %s, %s)\n",
    "                ON CONFLICT (symbol) DO NOTHING\n",
    "                RETURNING id\n",
    "            \"\"\")\n",
    "            cursor.execute(insert_query, (row['symbol'], row['name'], row['exchange'], row['assetType']))\n",
    "            result = cursor.fetchone()\n",
    "            if result:\n",
    "                symbol_id_dict[row['symbol']] = result[0]\n",
    "\n",
    "        # Commit the symbols data\n",
    "        conn.commit()\n",
    "\n",
    "        # Insert data into stock_data table using symbol_id dictionary\n",
    "        for index, row in df_stock_data.iterrows():\n",
    "            symbol_id = symbol_id_dict.get(row['symbol'])\n",
    "            if symbol_id is not None:\n",
    "                # Insert into stock_data table\n",
    "                insert_query = sql.SQL(\"\"\"\n",
    "                    INSERT INTO stock_data (symbol_id, date, open, high, low, close, volume)\n",
    "                    VALUES (%s, %s, %s, %s, %s, %s, %s)\n",
    "                \"\"\")\n",
    "                cursor.execute(insert_query, (symbol_id, row['date'], row['open'], row['high'], row['low'], row['close'], row['volume']))\n",
    "\n",
    "        # Commit the stock data\n",
    "        conn.commit()\n",
    "\n",
    "    except Exception as e:\n",
    "        print(f\"Error inserting data into database: {e}\")\n",
    "\n",
    "    finally:\n",
    "        # Close the cursor\n",
    "        cursor.close()"
   ]
  },
  {
   "cell_type": "markdown",
   "metadata": {
    "id": "ZBbGnwH1Jp7T"
   },
   "source": [
    "# 1.3 Fetching Stock Data from Alpha Vantage\n",
    "\n",
    "The fetch_stock_data function retrieves daily time series data for a specified stock symbol from the Alpha Vantage API.\n",
    "\n",
    "# Process:\n",
    "\n",
    "**API Request**: Sends a request to the Alpha Vantage API with the symbol, function (TIME_SERIES_DAILY), and output format (JSON).\n",
    "\n",
    "**Data Processing**: If the request is successful, the function converts the JSON response to a Pandas DataFrame, with columns cleaned to remove non-alphabetic characters and dates parsed accordingly. A 'symbol' column is also added to the DataFrame.\n",
    "\n",
    "**Error Handling**: Catches and prints any exceptions or non-200 status codes, returning None in these cases.\n",
    "\n",
    "# Parameters:\n",
    "\n",
    "**symbol**: The stock symbol for which the data is being fetched.\n",
    "\n",
    "# Returns:\n",
    "\n",
    "A Pandas DataFrame with columns corresponding to date, open, high, low, close, and volume of the stock for each day."
   ]
  },
  {
   "cell_type": "code",
   "execution_count": 10,
   "metadata": {
    "id": "6vc4xwgvDLjf"
   },
   "outputs": [],
   "source": [
    "# Function to fetch stock data for a symbol from Alpha Vantage\n",
    "def fetch_stock_data(symbol):\n",
    "    '''retrieves daily time series data for a specified stock symbol from the Alpha Vantage API.'''\n",
    "    try:\n",
    "        function = \"TIME_SERIES_DAILY\"\n",
    "        output_format = \"json\"\n",
    "\n",
    "        url = f\"{APLHA_VANTAGE_BASE_URL}?function={function}&symbol={symbol}&outputsize=full&apikey={api_key}&datatype={output_format}\"\n",
    "        response = requests.get(url)\n",
    "        if response.status_code == 200:\n",
    "            data = response.json()\n",
    "            if output_format == \"json\":\n",
    "                df = pd.DataFrame.from_dict(data[\"Time Series (Daily)\"]).T\n",
    "                df.index = pd.to_datetime(df.index)\n",
    "                df.columns = [\"\".join(filter(str.isalpha, col)) for col in df.columns]\n",
    "                df = df.rename_axis(\"date\").reset_index()\n",
    "                df['symbol'] = symbol  # Add symbol column\n",
    "                return df\n",
    "        else:\n",
    "            print(f\"Error fetching data for {symbol}. Status code: {response.status_code}\")\n",
    "            return None\n",
    "    except Exception as e:\n",
    "        print(f\"Error fetching data for symbol:{symbol} {e}\")\n",
    "        return None\n",
    "\n",
    "\n",
    "    "
   ]
  },
  {
   "cell_type": "markdown",
   "metadata": {
    "id": "mS2aSn5VLNU7"
   },
   "source": [
    "# 1.4 Populating Stock Data\n",
    "\n",
    "The populate_stocks function automates the process of populating stock data into a PostgreSQL database by fetching symbols and their respective stock data.\n",
    "\n",
    "# Process:\n",
    "\n",
    "**Fetch Symbols**: Retrieves symbols using fetch_symbols and resets its index for easy iteration.\n",
    "\n",
    "**Database Connection:** Establishes a connection to the database and fetches existing symbols to avoid duplication.\n",
    "\n",
    "**Data Filtering:** Eliminates symbols already present in the database from the newly fetched symbols list.\n",
    "\n",
    "**Batch Processing:**\n",
    "1. The symbols are processed in batches (default size: 29) to manage API requests and database operations efficiently.\n",
    "\n",
    "2. For each batch, stock data is fetched concurrently using ThreadPoolExecutor.\n",
    "3. Filters out any None values resulting from failed API requests.\n",
    "4. Merges individual DataFrames into a single DataFrame.\n",
    "5. Inserts the fetched data into the database using insert_data_into_database.\n",
    "**API Rate Limiting:** Includes a 60-second delay between batches to comply with API rate limits.\n",
    "**Database Connection Closure:** Closes the database connection after completing the data insertion."
   ]
  },
  {
   "cell_type": "code",
   "execution_count": 11,
   "metadata": {
    "id": "dEM6cp17DSmn"
   },
   "outputs": [
    {
     "name": "stdout",
     "output_type": "stream",
     "text": [
      "      index symbol                                         name exchange  \\\n",
      "1005   3958   FLYX                EG Acquisition Corp - Class A     NYSE   \n",
      "1006   3959  FLYXW  EG Acquisition Corp - Warrants (28/05/2028)     NYSE   \n",
      "\n",
      "     assetType  \n",
      "1005     Stock  \n",
      "1006     Stock  \n"
     ]
    }
   ],
   "source": [
    "\n",
    "def populate_stocks():\n",
    "    '''Populates symbols and stocks time series with batch processing mechanism'''\n",
    "    # Fetch symbols\n",
    "    symbols_df = fetch_symbols().reset_index()\n",
    "    # print(symbols_df)\n",
    "    # Establish a database connection\n",
    "    conn = get_db_connection()\n",
    "    cursor = conn.cursor()\n",
    "    query = \"SELECT * FROM symbols;\"\n",
    "    select_query = sql.SQL(query)\n",
    "    cursor.execute(select_query)\n",
    "    data = cursor.fetchall()\n",
    "    symbols_db = [symbol[1] for symbol in data]\n",
    "    # Filter out symbols present in the database from symbols_df\n",
    "    symbols_df = symbols_df[~symbols_df['symbol'].isin(symbols_db)]\n",
    "\n",
    "\n",
    "# Use the connection to execute the query and fetch data into a DataFrame\n",
    "    print(symbols_df)\n",
    "    # Fetch stock data for each symbol in batches\n",
    "    batch_size = 29\n",
    "    for i in range(0, len(symbols_df), batch_size):\n",
    "        symbols_batch = symbols_df.iloc[i:i + batch_size]\n",
    "        # Fetch stock data for each symbol in the batch using ThreadPoolExecutor\n",
    "        with ThreadPoolExecutor(max_workers=batch_size) as executor:\n",
    "            stock_data_batch = list(executor.map(fetch_stock_data, symbols_batch['symbol']))\n",
    "            # Filter out None values (failed requests)\n",
    "            stock_data_batch = [data for data in stock_data_batch if data is not None]\n",
    "\n",
    "            # Convert the list of DataFrames to a single DataFrame\n",
    "            stock_data_df = pd.concat(stock_data_batch, ignore_index=True)\n",
    "\n",
    "            # Insert data into the PostgreSQL database\n",
    "            insert_data_into_database(conn, symbols_batch, stock_data_df)\n",
    "\n",
    "            # Introduce a delay to stay within API rate limits\n",
    "            time.sleep(60)  # Delay for 1 minute before the next batch\n",
    "\n",
    "    # Close the database connection\n",
    "    conn.close()\n",
    "\n",
    "populate_stocks()"
   ]
  },
  {
   "cell_type": "markdown",
   "metadata": {
    "id": "ryA33sPKND9T"
   },
   "source": [
    "# 1.5 Function: Get Sector from Alpha Vantage API\n",
    "\n",
    "The get_sector_from_api function is designed to retrieve the sector information for a specific stock symbol using the Alpha Vantage API.\n",
    "\n",
    "# Functionality:\n",
    "\n",
    "# Purpose: Fetches the sector of a given stock symbol.\n",
    "\n",
    "# Parameters:\n",
    "**symbol**: The stock symbol for which the sector information is required.\n",
    "\n",
    "# Process:\n",
    "\n",
    "1. Constructs the API request URL incorporating the function (OVERVIEW), stock symbol, and API key.\n",
    "2. Sends a GET request to the Alpha Vantage API.\n",
    "3. Parses the JSON response to extract the sector information.\n",
    "\n",
    "# Return Value:\n",
    "Returns the sector of the given stock symbol. If the sector information is not available, returns None."
   ]
  },
  {
   "cell_type": "code",
   "execution_count": 12,
   "metadata": {
    "id": "RogC5yfgCcfV"
   },
   "outputs": [],
   "source": [
    "# Function to get the sector from the Alpha Vantage API\n",
    "def get_sector_from_api(symbol):\n",
    "    '''Fetches sector data using Aplha vontage api using OVERVIEW Function'''\n",
    "    url = f\"{APLHA_VANTAGE_BASE_URL}?function=OVERVIEW&symbol={symbol}&apikey={api_key}\"\n",
    "    r = requests.get(url)\n",
    "    data = r.json()\n",
    "    return data.get('Sector', None)"
   ]
  },
  {
   "cell_type": "markdown",
   "metadata": {
    "id": "mq33-ip7N4vj"
   },
   "source": [
    "# 1.6 Function: Get Symbol Sector from Yahoo Finance\n",
    "\n",
    "# Overview\n",
    "The function get_symbol_sector scrapes sector information for a given stock symbol from Yahoo Finance using BeautifulSoup.\n",
    "\n",
    "# Functionality\n",
    "Purpose: Extracts sector data of a specific stock symbol.\n",
    "\n",
    "# Parameters:\n",
    "symbol: The stock symbol for which sector data is required.\n",
    "\n",
    "# Process:\n",
    "1. Constructs the URL for the Yahoo Finance profile page of the stock.\n",
    "2. Performs an HTTP GET request to fetch the page content.\n",
    "3. Parses the HTML content using BeautifulSoup to find the sector data.\n",
    "\n",
    "# Return Value: The sector name if found; otherwise, returns None.\n",
    "\n",
    "# Limitations\n",
    "1. This method is not fully reliable: only about 30% of the symbols' sectors could be retrieved.\n",
    "2. The limitation arises due to BeautifulSoup's inability to interact with dynamic content on web pages.\n",
    "\n",
    "# Function: Populate Sectors\n",
    "The populate_sectors function updates the 'symbols' table in a PostgreSQL database with sector information for symbols where this data is currently missing.\n",
    "\n",
    "# Process:\n",
    "1. Connects to the database.\n",
    "2. Retrieves symbols with missing sector information.\n",
    "3. For each symbol, fetches the sector using get_symbol_sector.\n",
    "4. Updates the database with the fetched sector information.\n",
    "5. Commits changes and closes the connection.\n",
    "\n",
    "# Note\n",
    "The scraping approach is subject to the layout and accessibility of Yahoo Finance's webpage and may require updates if the site structure changes.\n",
    "To enhance reliability, consider using a more interactive scraping tool or an official finance API."
   ]
  },
  {
   "cell_type": "code",
   "execution_count": 13,
   "metadata": {
    "id": "lvEzw26VMxPg"
   },
   "outputs": [
    {
     "name": "stdout",
     "output_type": "stream",
     "text": [
      "86\n",
      "<Response [404]>\n",
      "<Response [404]>\n",
      "<Response [404]>\n",
      "<Response [404]>\n",
      "<Response [404]>\n",
      "<Response [404]>\n",
      "<Response [404]>\n",
      "<Response [404]>\n",
      "<Response [404]>\n",
      "<Response [404]>\n",
      "<Response [404]>\n",
      "<Response [404]>\n",
      "<Response [404]>\n",
      "<Response [404]>\n",
      "<Response [404]>\n",
      "<Response [404]>\n",
      "<Response [404]>\n",
      "<Response [404]>\n",
      "<Response [404]>\n",
      "<Response [404]>\n",
      "<Response [404]>\n",
      "<Response [404]>\n",
      "<Response [404]>\n",
      "<Response [404]>\n",
      "<Response [404]>\n",
      "<Response [404]>\n",
      "<Response [404]>\n",
      "<Response [404]>\n",
      "<Response [404]>\n",
      "<Response [404]>\n",
      "<Response [404]>\n",
      "<Response [404]>\n",
      "<Response [404]>\n",
      "<Response [404]>\n",
      "<Response [404]>\n",
      "<Response [404]>\n",
      "<Response [404]>\n",
      "<Response [404]>\n",
      "<Response [404]>\n",
      "<Response [404]>\n",
      "<Response [404]>\n",
      "<Response [404]>\n",
      "<Response [404]>\n",
      "<Response [404]>\n",
      "<Response [404]>\n",
      "<Response [404]>\n",
      "<Response [404]>\n",
      "<Response [404]>\n",
      "<Response [404]>\n",
      "<Response [404]>\n",
      "<Response [404]>\n",
      "<Response [404]>\n",
      "<Response [404]>\n",
      "<Response [404]>\n",
      "<Response [404]>\n",
      "<Response [404]>\n",
      "<Response [404]>\n",
      "<Response [404]>\n",
      "<Response [404]>\n",
      "<Response [404]>\n",
      "<Response [404]>\n",
      "<Response [404]>\n",
      "<Response [404]>\n",
      "<Response [404]>\n",
      "<Response [404]>\n",
      "<Response [404]>\n",
      "<Response [404]>\n",
      "<Response [404]>\n",
      "<Response [404]>\n",
      "<Response [404]>\n",
      "<Response [404]>\n",
      "<Response [404]>\n",
      "<Response [404]>\n",
      "<Response [404]>\n",
      "<Response [404]>\n",
      "<Response [404]>\n",
      "<Response [404]>\n",
      "<Response [404]>\n",
      "<Response [404]>\n",
      "<Response [404]>\n",
      "<Response [404]>\n",
      "<Response [404]>\n",
      "<Response [404]>\n",
      "<Response [404]>\n",
      "<Response [404]>\n",
      "<Response [404]>\n"
     ]
    }
   ],
   "source": [
    "# Function to get the sector from Yahoo Finance using BeautifulSoup\n",
    "def get_symbol_sector(symbol):\n",
    "    url = f\"https://finance.yahoo.com/quote/{symbol}/profile\"\n",
    "    response = requests.get(url)\n",
    "    print(response)\n",
    "    if response.status_code == 200:\n",
    "        soup = BeautifulSoup(response.text, 'html.parser')\n",
    "        target_element = soup.find('div', class_='asset-profile-container')\n",
    "        sector_element = target_element.find('span', string='Sector(s)')\n",
    "        if sector_element:\n",
    "            sector_data = sector_element.find_next('span', class_='Fw(600)').string\n",
    "            return sector_data.strip()\n",
    "    return None\n",
    "\n",
    "def populate_sectors():\n",
    "    conn = get_db_connection()\n",
    "    cursor = conn.cursor()\n",
    "    query = \"SELECT * FROM symbols WHERE sector IS NULL\"\n",
    "    select_query = sql.SQL(query)\n",
    "    cursor.execute(select_query)\n",
    "    data = cursor.fetchall()\n",
    "    symbols_db = [symbol[1] for symbol in data]\n",
    "    print(len(symbols_db))\n",
    "    for symbol in symbols_db:\n",
    "        sector = get_symbol_sector(symbol)\n",
    "        update_query = sql.SQL(\"UPDATE symbols SET sector = %s WHERE symbol = %s\")\n",
    "        cursor.execute(update_query, (sector, symbol))\n",
    "        conn.commit()\n",
    "        time.sleep(1)\n",
    "    conn.close()\n",
    "\n",
    "populate_sectors()"
   ]
  },
  {
   "cell_type": "markdown",
   "metadata": {
    "id": "c6ukQEb4RHXI"
   },
   "source": [
    "# 1.7 Function: Get Symbol Sector Using Selenium\n",
    "\n",
    "# Overview\n",
    "This function get_symbol_sector_selenium extracts sector information for a given stock symbol from Yahoo Finance using Selenium WebDriver.\n",
    "\n",
    "# Functionality\n",
    "**Purpose:** To retrieve sector data for a specific stock symbol with enhanced accuracy.\n",
    "**Parameters:**\n",
    "**symbol**: The stock symbol for which sector data is required.\n",
    "**driver:** An instance of Selenium WebDriver.\n",
    "\n",
    "# Process:\n",
    "1. Generates the correct URL for the Yahoo Finance profile of the stock.\n",
    "2. Navigates to the URL using the Selenium WebDriver.\n",
    "3. Waits for the necessary element (sector information) to load.\n",
    "4. Extracts and returns the sector information.\n",
    "\n",
    "# Return Value: The sector name if found; otherwise, returns None.\n",
    "\n",
    "# Function: Populate Sectors with Selenium\n",
    "The function populate_sectors_selenium updates the 'symbols' table in a PostgreSQL database with sector information, using Selenium for web scraping.\n",
    "\n",
    "#Process:\n",
    "1. Sets up a headless Chrome WebDriver.\n",
    "2. Connects to the database and fetches symbols with missing sector information.\n",
    "3. For each symbol, uses Selenium to fetch the sector.\n",
    "4. Updates the database with the fetched sector information.\n",
    "5. Commits changes and closes both the database connection and WebDriver.\n",
    "\n",
    "# Note\n",
    "Selenium allows dynamic interaction with web pages, offering improved accuracy over static scraping methods like BeautifulSoup.\n",
    "This method is more robust against changes in web page structure but also more resource-intensive. We have achieved upto 85% of sector data with this approach and 15% had failed due to missing sector info in yahoo finance\n",
    "# Limitations\n",
    "Performance: Selenium is generally slower compared to direct HTTP requests.\n",
    "Complexity: Requires handling WebDriver setup and maintenance.\n"
   ]
  },
  {
   "cell_type": "code",
   "execution_count": null,
   "metadata": {
    "id": "T0ZViZymMyEK"
   },
   "outputs": [],
   "source": [
    "from selenium import webdriver\n",
    "from selenium.webdriver.common.by import By\n",
    "from selenium.webdriver.support.ui import WebDriverWait\n",
    "from selenium.webdriver.support import expected_conditions as EC\n",
    "from webdriver_manager.chrome import ChromeDriverManager\n",
    "from selenium.webdriver.chrome.options import Options\n",
    "\n",
    "def get_symbol_sector_selenium(symbol, driver):\n",
    "    '''Getting the sector data using selenium'''\n",
    "    first_hyphen_index = symbol.find('-')\n",
    "    modified_string = symbol[:first_hyphen_index + 1] + symbol[first_hyphen_index + 1:].replace('-', '')\n",
    "    url = f\"https://finance.yahoo.com/quote/{modified_string}/profile\"\n",
    "    driver.get(url)\n",
    "    try:\n",
    "        # Wait for the target element to be present\n",
    "        target_element = WebDriverWait(driver, 5).until(\n",
    "          EC.presence_of_element_located((By.CLASS_NAME, \"asset-profile-container\"))\n",
    "        )\n",
    "        sector_element = target_element.find_element(By.XPATH, \"//span[text()='Sector(s)']/following-sibling::span[@class='Fw(600)']\")\n",
    "        return sector_element.text.strip()\n",
    "    except Exception as e:\n",
    "        print(f\"Error getting sector for {symbol}: {e}\")\n",
    "        return None\n",
    "\n",
    "def populate_sectors_selenium():\n",
    "    '''Populating the sector data using selenium'''\n",
    "    chrome_options = Options()\n",
    "    chrome_options.add_argument('--no-sandbox')\n",
    "    chrome_options.add_argument('--disable-dev-shm-usage')\n",
    "    chrome_options.add_argument('--headless')  # We can remove this line if you want to see the browser\n",
    "    driver = webdriver.Chrome(options=chrome_options)\n",
    "    try:\n",
    "        conn = get_db_connection()\n",
    "        cursor = conn.cursor()\n",
    "        query = \"SELECT * FROM symbols WHERE sector IS NULL order by symbol ASC\"\n",
    "        select_query = sql.SQL(query)\n",
    "        cursor.execute(select_query)\n",
    "        data = cursor.fetchall()\n",
    "        symbols_db = [symbol[1] for symbol in data]\n",
    "\n",
    "        for symbol in symbols_db:\n",
    "            sector = get_symbol_sector_selenium(symbol, driver)\n",
    "            print(symbol,sector)\n",
    "            if sector is not None:\n",
    "                update_query = sql.SQL(\"UPDATE symbols SET sector = %s WHERE symbol = %s\")\n",
    "                cursor.execute(update_query, (sector, symbol))\n",
    "                conn.commit()\n",
    "\n",
    "        print(\"Sectors populated successfully!\")\n",
    "    except Exception as e:\n",
    "        print(f\"Error: {e}\")\n",
    "\n",
    "    finally:\n",
    "        # Close database connection and WebDriver\n",
    "        conn.close()\n",
    "        driver.quit()\n",
    "\n",
    "populate_sectors_selenium()\n"
   ]
  },
  {
   "cell_type": "markdown",
   "metadata": {
    "id": "vPEP51rmT3ke"
   },
   "source": [
    "# 1.8 Function: Populate Missing Sectors\n",
    "\n",
    "# Overview\n",
    "The function populate_missing_sectors aims to update the sectors for stock symbols in a database where this information is currently missing.\n",
    "\n",
    "# Functionality\n",
    "**Purpose:** To populate the 'sector' field for stock symbols in the 'symbols' table of a PostgreSQL database using web scrapping.\n",
    "\n",
    "**Database Interaction:** Queries the database for stock symbols without sector information and updates them.\n",
    "**Concurrency:** Utilizes multi-threading for efficient data processing.\n",
    "**Batch Processing:** Handles symbols in batches to optimize performance and manage API rate limits.\n",
    "\n",
    "#Process\n",
    "\n",
    " **Database Connection:** Establishes a connection to the PostgreSQL database.\n",
    " **Data Retrieval:** Fetches symbols with missing sector information.\n",
    " ** Batch Processing:**\n",
    "1. Processes symbols in batches of 30.\n",
    "2. For each batch, retrieves sector information in parallel using ThreadPoolExecutor.\n",
    "3. Updates the database with the retrieved sector information.\n",
    "**API Throttling:** Introduces a delay between batches to comply with API rate limits.\n",
    "**Database Update:** Commits the updates to the database.\n",
    "**Clean-up:** Closes the database connection upon completion."
   ]
  },
  {
   "cell_type": "code",
   "execution_count": 15,
   "metadata": {
    "id": "28IsRFItM5DU"
   },
   "outputs": [
    {
     "name": "stdout",
     "output_type": "stream",
     "text": [
      "['FG-W', 'BC/PC', 'BWA-W', 'HZON-WS', 'K-W', 'KIO-R', 'KLG-W', 'KNF-W', 'KVUE-W', 'LAAC-W', 'LAC-W', 'LH-W', 'NTEST-A', 'NTEST-B', 'NTEST-C', 'NTEST-G', 'NTEST-J', 'NTEST-L', 'NTEST-M', 'NTEST-N', 'NTEST-O', 'NTEST-P', 'NTEST-Q', 'NTEST-Z', 'IGR-R-W', 'ISG', 'PDX', 'WS', 'ZEV-WS', 'MDU-W', 'STZ-B', 'BC/PA', 'BOAC-U', 'BOAC-WS', 'DSX-WS', 'CR-W', 'TMAC', 'TMAC-U', 'VLTO-W', 'WS-W', 'VSTS-W', 'VTS-W', 'VYX-W', 'EOCW', 'EXTO-W', 'FLAG-WS', 'ARMK-W', 'BC/PB', 'CCV-WS', 'HTPA-U', 'ICNC-U', 'KIO-R-W', 'LGV-WS', 'NEE-P-Q', 'FGN', 'NTEST-K', 'OWL-WS', 'IGR-R', 'PHIN-W', 'JNJ-WD', 'MBC-W', 'NATL-W', 'ALLG-WS', 'NRUC', 'RBT-WS', 'SPHR-W', 'RSF-R', 'RSF-R-W', 'USX', 'BN-W', 'BBLN', 'BOAC', 'CBX', 'CCV', 'TGR-WS', 'WOR-W', 'WPC-W', 'AXAC-R', 'CCV-U', 'CRHC-U', 'CXT-W', 'EFC-P-D', 'EFC-P-E', 'ZKH', 'FLYX', 'FLYXW']\n"
     ]
    }
   ],
   "source": [
    "def populate_missing_sectors():\n",
    "    '''populating missing sector using alpha vantage API'''\n",
    "    conn = get_db_connection()\n",
    "    cursor = conn.cursor()\n",
    "    query = \"SELECT * FROM symbols WHERE sector IS NULL\"\n",
    "    select_query = sql.SQL(query)\n",
    "    cursor.execute(select_query)\n",
    "    data = cursor.fetchall()\n",
    "    symbols_db = [symbol[1] for symbol in data]\n",
    "    print(symbols_db)\n",
    "    batch_size = 30\n",
    "    for i in range(0, len(symbols_db), batch_size):\n",
    "        symbols_batch = symbols_db[i:i + batch_size]\n",
    "        # Use concurrent.futures.ThreadPoolExecutor for parallel execution\n",
    "        with ThreadPoolExecutor() as executor:\n",
    "            # Map the get_sector function to each symbol in parallel\n",
    "            sectors = list(executor.map(get_sector_from_api, symbols_batch))\n",
    "            for symbol, sector in zip(symbols_batch, sectors):\n",
    "                update_query = sql.SQL(\"UPDATE symbols SET sector = %s WHERE symbol = %s\")\n",
    "                cursor.execute(update_query, (sector, symbol))\n",
    "            conn.commit()\n",
    "            time.sleep(40)\n",
    "        # Update the sectors in the database\n",
    "    conn.close()\n",
    "populate_missing_sectors()"
   ]
  },
  {
   "cell_type": "markdown",
   "metadata": {},
   "source": [
    "# 2. Data Preparation and Portfolio Construction "
   ]
  },
  {
   "cell_type": "markdown",
   "metadata": {},
   "source": [
    "## 2.1 Loading Data base into python enivornment"
   ]
  },
  {
   "cell_type": "code",
   "execution_count": 16,
   "metadata": {
    "id": "-LjoLYdsAHEA",
    "outputId": "92bdb071-9d18-4dff-f699-be1663d2a7d3",
    "scrolled": false
   },
   "outputs": [
    {
     "name": "stdout",
     "output_type": "stream",
     "text": [
      "       id   symbol                                               name  \\\n",
      "0     894     ECCX                     Eagle Point Credit Company Inc   \n",
      "1     911   EGGF-U  EG Acquisition Corp - Units (1 Ord Share Class...   \n",
      "2     912  EGGF-WS        EG Acquisition Corp - Warrants (28/05/2028)   \n",
      "3     925     ELAN                           Elanco Animal Health Inc   \n",
      "4     926      ELC                              Entergy Louisiana LLC   \n",
      "...   ...      ...                                                ...   \n",
      "2749  776    CXT-W            Crane NXT Co. ExDistribution WhenIssued   \n",
      "2750    2  EFC-P-D                            Ellington Financial Inc   \n",
      "2751    3  EFC-P-E                            Ellington Financial Inc   \n",
      "2752    5     FLYX                      EG Acquisition Corp - Class A   \n",
      "2753    6    FLYXW        EG Acquisition Corp - Warrants (28/05/2028)   \n",
      "\n",
      "     exchange asset_type                      sector  \n",
      "0        NYSE      Stock                  TECHNOLOGY  \n",
      "1        NYSE      Stock  REAL ESTATE & CONSTRUCTION  \n",
      "2        NYSE      Stock  REAL ESTATE & CONSTRUCTION  \n",
      "3        NYSE      Stock               LIFE SCIENCES  \n",
      "4        NYSE      Stock                  TECHNOLOGY  \n",
      "...       ...        ...                         ...  \n",
      "2749     NYSE      Stock                        None  \n",
      "2750     NYSE      Stock                        None  \n",
      "2751     NYSE      Stock                        None  \n",
      "2752     NYSE      Stock                        None  \n",
      "2753     NYSE      Stock                        None  \n",
      "\n",
      "[2754 rows x 6 columns]\n"
     ]
    },
    {
     "name": "stderr",
     "output_type": "stream",
     "text": [
      "C:\\Users\\Venkata Narasa Reddy\\AppData\\Local\\Temp\\ipykernel_23148\\542174356.py:5: UserWarning: pandas only supports SQLAlchemy connectable (engine/connection) or database string URI or sqlite3 DBAPI2 connection. Other DBAPI2 objects are not tested. Please consider using SQLAlchemy.\n",
      "  symbols_df = pd.read_sql(query, conn)\n"
     ]
    }
   ],
   "source": [
    "conn = get_db_connection()\n",
    "query = \"SELECT * FROM symbols;\"\n",
    "\n",
    "# Load data into DataFrame\n",
    "symbols_df = pd.read_sql(query, conn)\n",
    "print(symbols_df)\n",
    "conn.close()"
   ]
  },
  {
   "cell_type": "markdown",
   "metadata": {},
   "source": [
    "We start by establishing a connection to a database using a custom function, get_db_connection(). Once connected, we execute an SQL query to select all records from the 'symbols' table. This data is then loaded into a Pandas DataFrame, symbols_df, which allows us to easily handle and analyze the data in Python. After printing the DataFrame to review its contents, we close the database connection to maintain good database management practices and avoid leaving open, unused connections. Similarly done for stock_df below."
   ]
  },
  {
   "cell_type": "code",
   "execution_count": 17,
   "metadata": {
    "id": "LpASEJ5_AHEA",
    "outputId": "af88a033-53c0-40bb-f72f-d23688812139"
   },
   "outputs": [
    {
     "name": "stderr",
     "output_type": "stream",
     "text": [
      "C:\\Users\\Venkata Narasa Reddy\\AppData\\Local\\Temp\\ipykernel_23148\\3999285982.py:5: UserWarning: pandas only supports SQLAlchemy connectable (engine/connection) or database string URI or sqlite3 DBAPI2 connection. Other DBAPI2 objects are not tested. Please consider using SQLAlchemy.\n",
      "  stocks_df = pd.read_sql(query, conn)\n"
     ]
    },
    {
     "name": "stdout",
     "output_type": "stream",
     "text": [
      "              id  symbol_id        date   open     high    low    close  \\\n",
      "0              1          1  2023-12-15   0.26   0.4400   0.22   0.3600   \n",
      "1              2          1  2023-12-14   0.35   0.5852   0.31   0.3319   \n",
      "2              3          2  2023-12-15  20.30  20.3000  20.30  20.3000   \n",
      "3              4          2  2023-12-14  20.30  20.3000  20.30  20.3000   \n",
      "4              5          3  2023-12-15  24.00  24.9950  24.00  24.7200   \n",
      "...          ...        ...         ...    ...      ...    ...      ...   \n",
      "8535558  7019126       2957  2023-05-23   8.16   8.9700   8.02   8.7100   \n",
      "8535559  7019127       2957  2023-05-22   8.01   8.2900   7.82   8.1100   \n",
      "8535560  7019128       2957  2023-05-19   7.85   7.9700   7.67   7.6900   \n",
      "8535561  7019129       2957  2023-05-18   8.15   8.1900   7.76   7.7900   \n",
      "8535562  7019130       2957  2023-05-17   7.95   8.1817   7.80   8.1500   \n",
      "\n",
      "            volume  \n",
      "0         467945.0  \n",
      "1          18710.0  \n",
      "2            100.0  \n",
      "3              0.0  \n",
      "4           2999.0  \n",
      "...            ...  \n",
      "8535558  2506326.0  \n",
      "8535559  1953787.0  \n",
      "8535560   728903.0  \n",
      "8535561   761650.0  \n",
      "8535562   839572.0  \n",
      "\n",
      "[8535563 rows x 8 columns]\n"
     ]
    }
   ],
   "source": [
    "conn = get_db_connection()\n",
    "query = \"SELECT * FROM stock_data;\"\n",
    "\n",
    "# Load data into DataFrame\n",
    "stocks_df = pd.read_sql(query, conn)\n",
    "print(stocks_df)\n",
    "conn.close()"
   ]
  },
  {
   "cell_type": "markdown",
   "metadata": {},
   "source": [
    "## 2.2 Merging the Databases"
   ]
  },
  {
   "cell_type": "markdown",
   "metadata": {},
   "source": [
    "As we need single unified database for our analysis we are merging the both \"symbols_df\" and \"stock_df\" databases into a single data base.We merge two DataFrames, stocks_df and symbols_df, on the columns symbol_id and id respectively, creating a new DataFrame merged_df."
   ]
  },
  {
   "cell_type": "code",
   "execution_count": 63,
   "metadata": {
    "id": "JyVQGK2iAHEA",
    "outputId": "b86e04d5-81bf-4c36-ab92-c43a3b91d571",
    "scrolled": false
   },
   "outputs": [
    {
     "data": {
      "text/html": [
       "<div>\n",
       "<style scoped>\n",
       "    .dataframe tbody tr th:only-of-type {\n",
       "        vertical-align: middle;\n",
       "    }\n",
       "\n",
       "    .dataframe tbody tr th {\n",
       "        vertical-align: top;\n",
       "    }\n",
       "\n",
       "    .dataframe thead th {\n",
       "        text-align: right;\n",
       "    }\n",
       "</style>\n",
       "<table border=\"1\" class=\"dataframe\">\n",
       "  <thead>\n",
       "    <tr style=\"text-align: right;\">\n",
       "      <th></th>\n",
       "      <th>id_x</th>\n",
       "      <th>symbol_id</th>\n",
       "      <th>date</th>\n",
       "      <th>open</th>\n",
       "      <th>high</th>\n",
       "      <th>low</th>\n",
       "      <th>close</th>\n",
       "      <th>volume</th>\n",
       "      <th>id_y</th>\n",
       "      <th>symbol</th>\n",
       "      <th>name</th>\n",
       "      <th>exchange</th>\n",
       "      <th>asset_type</th>\n",
       "      <th>sector</th>\n",
       "    </tr>\n",
       "  </thead>\n",
       "  <tbody>\n",
       "    <tr>\n",
       "      <th>0</th>\n",
       "      <td>1</td>\n",
       "      <td>1</td>\n",
       "      <td>2023-12-15</td>\n",
       "      <td>0.26</td>\n",
       "      <td>0.4400</td>\n",
       "      <td>0.22</td>\n",
       "      <td>0.3600</td>\n",
       "      <td>467945.0</td>\n",
       "      <td>1</td>\n",
       "      <td>DSX-WS</td>\n",
       "      <td>Diana Shipping Inc - Warrants (14/12/2026)</td>\n",
       "      <td>NYSE</td>\n",
       "      <td>Stock</td>\n",
       "      <td>None</td>\n",
       "    </tr>\n",
       "    <tr>\n",
       "      <th>1</th>\n",
       "      <td>2</td>\n",
       "      <td>1</td>\n",
       "      <td>2023-12-14</td>\n",
       "      <td>0.35</td>\n",
       "      <td>0.5852</td>\n",
       "      <td>0.31</td>\n",
       "      <td>0.3319</td>\n",
       "      <td>18710.0</td>\n",
       "      <td>1</td>\n",
       "      <td>DSX-WS</td>\n",
       "      <td>Diana Shipping Inc - Warrants (14/12/2026)</td>\n",
       "      <td>NYSE</td>\n",
       "      <td>Stock</td>\n",
       "      <td>None</td>\n",
       "    </tr>\n",
       "    <tr>\n",
       "      <th>2</th>\n",
       "      <td>3</td>\n",
       "      <td>2</td>\n",
       "      <td>2023-12-15</td>\n",
       "      <td>20.30</td>\n",
       "      <td>20.3000</td>\n",
       "      <td>20.30</td>\n",
       "      <td>20.3000</td>\n",
       "      <td>100.0</td>\n",
       "      <td>2</td>\n",
       "      <td>EFC-P-D</td>\n",
       "      <td>Ellington Financial Inc</td>\n",
       "      <td>NYSE</td>\n",
       "      <td>Stock</td>\n",
       "      <td>None</td>\n",
       "    </tr>\n",
       "    <tr>\n",
       "      <th>3</th>\n",
       "      <td>4</td>\n",
       "      <td>2</td>\n",
       "      <td>2023-12-14</td>\n",
       "      <td>20.30</td>\n",
       "      <td>20.3000</td>\n",
       "      <td>20.30</td>\n",
       "      <td>20.3000</td>\n",
       "      <td>0.0</td>\n",
       "      <td>2</td>\n",
       "      <td>EFC-P-D</td>\n",
       "      <td>Ellington Financial Inc</td>\n",
       "      <td>NYSE</td>\n",
       "      <td>Stock</td>\n",
       "      <td>None</td>\n",
       "    </tr>\n",
       "    <tr>\n",
       "      <th>4</th>\n",
       "      <td>5</td>\n",
       "      <td>3</td>\n",
       "      <td>2023-12-15</td>\n",
       "      <td>24.00</td>\n",
       "      <td>24.9950</td>\n",
       "      <td>24.00</td>\n",
       "      <td>24.7200</td>\n",
       "      <td>2999.0</td>\n",
       "      <td>3</td>\n",
       "      <td>EFC-P-E</td>\n",
       "      <td>Ellington Financial Inc</td>\n",
       "      <td>NYSE</td>\n",
       "      <td>Stock</td>\n",
       "      <td>None</td>\n",
       "    </tr>\n",
       "  </tbody>\n",
       "</table>\n",
       "</div>"
      ],
      "text/plain": [
       "   id_x  symbol_id        date   open     high    low    close    volume  \\\n",
       "0     1          1  2023-12-15   0.26   0.4400   0.22   0.3600  467945.0   \n",
       "1     2          1  2023-12-14   0.35   0.5852   0.31   0.3319   18710.0   \n",
       "2     3          2  2023-12-15  20.30  20.3000  20.30  20.3000     100.0   \n",
       "3     4          2  2023-12-14  20.30  20.3000  20.30  20.3000       0.0   \n",
       "4     5          3  2023-12-15  24.00  24.9950  24.00  24.7200    2999.0   \n",
       "\n",
       "   id_y   symbol                                        name exchange  \\\n",
       "0     1   DSX-WS  Diana Shipping Inc - Warrants (14/12/2026)     NYSE   \n",
       "1     1   DSX-WS  Diana Shipping Inc - Warrants (14/12/2026)     NYSE   \n",
       "2     2  EFC-P-D                     Ellington Financial Inc     NYSE   \n",
       "3     2  EFC-P-D                     Ellington Financial Inc     NYSE   \n",
       "4     3  EFC-P-E                     Ellington Financial Inc     NYSE   \n",
       "\n",
       "  asset_type sector  \n",
       "0      Stock   None  \n",
       "1      Stock   None  \n",
       "2      Stock   None  \n",
       "3      Stock   None  \n",
       "4      Stock   None  "
      ]
     },
     "execution_count": 63,
     "metadata": {},
     "output_type": "execute_result"
    }
   ],
   "source": [
    "# Merging the DataFrames on the 'symbol_id' from Stocks.csv and 'id' from symbols.csv\n",
    "merged_df = pd.merge(stocks_df, symbols_df, left_on='symbol_id', right_on='id')\n",
    "\n",
    "# merged DataFrame with columns from both Stocks.csv and symbols.csv\n",
    "# Printing the first few rows of the merged DataFrame\n",
    "merged_df.head()"
   ]
  },
  {
   "cell_type": "markdown",
   "metadata": {},
   "source": [
    "## 2.3 Data Cleaning"
   ]
  },
  {
   "cell_type": "markdown",
   "metadata": {},
   "source": [
    "In our data analysis process, we aim to streamline and optimize our dataset for efficient time series analysis. To achieve this, we first remove the duplicate 'id' columns, labeled as 'id_x' and 'id_y', as they are redundant and could complicate our analysis. Next, we rename the 'symbol_id' column to 'id' for simplicity and consistency, making it easier to reference. Understanding the importance of time in our analysis, we convert the 'date' column to a datetime format, ensuring accurate temporal data handling. Finally, we set the 'date' column as the index, which is a crucial step for time series analysis, as it allows us to efficiently perform operations and analyses that are time-dependent, improving both the clarity and functionality of our dataset."
   ]
  },
  {
   "cell_type": "code",
   "execution_count": 64,
   "metadata": {
    "id": "30OhadzfAHEA",
    "outputId": "2aebff76-c9f5-4c71-d1b8-98ccf97e2775",
    "scrolled": true
   },
   "outputs": [
    {
     "data": {
      "text/html": [
       "<div>\n",
       "<style scoped>\n",
       "    .dataframe tbody tr th:only-of-type {\n",
       "        vertical-align: middle;\n",
       "    }\n",
       "\n",
       "    .dataframe tbody tr th {\n",
       "        vertical-align: top;\n",
       "    }\n",
       "\n",
       "    .dataframe thead th {\n",
       "        text-align: right;\n",
       "    }\n",
       "</style>\n",
       "<table border=\"1\" class=\"dataframe\">\n",
       "  <thead>\n",
       "    <tr style=\"text-align: right;\">\n",
       "      <th></th>\n",
       "      <th>id</th>\n",
       "      <th>open</th>\n",
       "      <th>high</th>\n",
       "      <th>low</th>\n",
       "      <th>close</th>\n",
       "      <th>volume</th>\n",
       "      <th>symbol</th>\n",
       "      <th>name</th>\n",
       "      <th>exchange</th>\n",
       "      <th>asset_type</th>\n",
       "      <th>sector</th>\n",
       "    </tr>\n",
       "    <tr>\n",
       "      <th>date</th>\n",
       "      <th></th>\n",
       "      <th></th>\n",
       "      <th></th>\n",
       "      <th></th>\n",
       "      <th></th>\n",
       "      <th></th>\n",
       "      <th></th>\n",
       "      <th></th>\n",
       "      <th></th>\n",
       "      <th></th>\n",
       "      <th></th>\n",
       "    </tr>\n",
       "  </thead>\n",
       "  <tbody>\n",
       "    <tr>\n",
       "      <th>2023-12-15</th>\n",
       "      <td>1</td>\n",
       "      <td>0.26</td>\n",
       "      <td>0.4400</td>\n",
       "      <td>0.22</td>\n",
       "      <td>0.3600</td>\n",
       "      <td>467945.0</td>\n",
       "      <td>DSX-WS</td>\n",
       "      <td>Diana Shipping Inc - Warrants (14/12/2026)</td>\n",
       "      <td>NYSE</td>\n",
       "      <td>Stock</td>\n",
       "      <td>None</td>\n",
       "    </tr>\n",
       "    <tr>\n",
       "      <th>2023-12-14</th>\n",
       "      <td>1</td>\n",
       "      <td>0.35</td>\n",
       "      <td>0.5852</td>\n",
       "      <td>0.31</td>\n",
       "      <td>0.3319</td>\n",
       "      <td>18710.0</td>\n",
       "      <td>DSX-WS</td>\n",
       "      <td>Diana Shipping Inc - Warrants (14/12/2026)</td>\n",
       "      <td>NYSE</td>\n",
       "      <td>Stock</td>\n",
       "      <td>None</td>\n",
       "    </tr>\n",
       "    <tr>\n",
       "      <th>2023-12-15</th>\n",
       "      <td>2</td>\n",
       "      <td>20.30</td>\n",
       "      <td>20.3000</td>\n",
       "      <td>20.30</td>\n",
       "      <td>20.3000</td>\n",
       "      <td>100.0</td>\n",
       "      <td>EFC-P-D</td>\n",
       "      <td>Ellington Financial Inc</td>\n",
       "      <td>NYSE</td>\n",
       "      <td>Stock</td>\n",
       "      <td>None</td>\n",
       "    </tr>\n",
       "    <tr>\n",
       "      <th>2023-12-14</th>\n",
       "      <td>2</td>\n",
       "      <td>20.30</td>\n",
       "      <td>20.3000</td>\n",
       "      <td>20.30</td>\n",
       "      <td>20.3000</td>\n",
       "      <td>0.0</td>\n",
       "      <td>EFC-P-D</td>\n",
       "      <td>Ellington Financial Inc</td>\n",
       "      <td>NYSE</td>\n",
       "      <td>Stock</td>\n",
       "      <td>None</td>\n",
       "    </tr>\n",
       "    <tr>\n",
       "      <th>2023-12-15</th>\n",
       "      <td>3</td>\n",
       "      <td>24.00</td>\n",
       "      <td>24.9950</td>\n",
       "      <td>24.00</td>\n",
       "      <td>24.7200</td>\n",
       "      <td>2999.0</td>\n",
       "      <td>EFC-P-E</td>\n",
       "      <td>Ellington Financial Inc</td>\n",
       "      <td>NYSE</td>\n",
       "      <td>Stock</td>\n",
       "      <td>None</td>\n",
       "    </tr>\n",
       "  </tbody>\n",
       "</table>\n",
       "</div>"
      ],
      "text/plain": [
       "            id   open     high    low    close    volume   symbol  \\\n",
       "date                                                                \n",
       "2023-12-15   1   0.26   0.4400   0.22   0.3600  467945.0   DSX-WS   \n",
       "2023-12-14   1   0.35   0.5852   0.31   0.3319   18710.0   DSX-WS   \n",
       "2023-12-15   2  20.30  20.3000  20.30  20.3000     100.0  EFC-P-D   \n",
       "2023-12-14   2  20.30  20.3000  20.30  20.3000       0.0  EFC-P-D   \n",
       "2023-12-15   3  24.00  24.9950  24.00  24.7200    2999.0  EFC-P-E   \n",
       "\n",
       "                                                  name exchange asset_type  \\\n",
       "date                                                                         \n",
       "2023-12-15  Diana Shipping Inc - Warrants (14/12/2026)     NYSE      Stock   \n",
       "2023-12-14  Diana Shipping Inc - Warrants (14/12/2026)     NYSE      Stock   \n",
       "2023-12-15                     Ellington Financial Inc     NYSE      Stock   \n",
       "2023-12-14                     Ellington Financial Inc     NYSE      Stock   \n",
       "2023-12-15                     Ellington Financial Inc     NYSE      Stock   \n",
       "\n",
       "           sector  \n",
       "date               \n",
       "2023-12-15   None  \n",
       "2023-12-14   None  \n",
       "2023-12-15   None  \n",
       "2023-12-14   None  \n",
       "2023-12-15   None  "
      ]
     },
     "execution_count": 64,
     "metadata": {},
     "output_type": "execute_result"
    }
   ],
   "source": [
    "# Removing the duplicate id columns\n",
    "merged_df.drop(columns=['id_x', 'id_y'], inplace=True)\n",
    "\n",
    "# Renaming the 'symbol_id' column to just 'id' \n",
    "merged_df.rename(columns={'symbol_id': 'id'}, inplace=True)\n",
    "\n",
    "# Convert the 'date' column to datetime\n",
    "merged_df['date'] = pd.to_datetime(merged_df['date'])\n",
    "\n",
    "# Set the 'date' column as the index as we plan to perform time series analysis\n",
    "merged_df.set_index('date', inplace=True)\n",
    "\n",
    "# Now the DataFrame is cleaned up and ready for analysis\n",
    "merged_df.head()"
   ]
  },
  {
   "cell_type": "code",
   "execution_count": 65,
   "metadata": {
    "id": "tp4gnCJqAHEA",
    "outputId": "1cc6a5b4-f991-47e2-e865-29041b6c008f"
   },
   "outputs": [
    {
     "name": "stdout",
     "output_type": "stream",
     "text": [
      "<class 'pandas.core.frame.DataFrame'>\n",
      "DatetimeIndex: 8535563 entries, 2023-12-15 to 1999-11-01\n",
      "Data columns (total 11 columns):\n",
      " #   Column      Dtype  \n",
      "---  ------      -----  \n",
      " 0   id          int64  \n",
      " 1   open        float64\n",
      " 2   high        float64\n",
      " 3   low         float64\n",
      " 4   close       float64\n",
      " 5   volume      float64\n",
      " 6   symbol      object \n",
      " 7   name        object \n",
      " 8   exchange    object \n",
      " 9   asset_type  object \n",
      " 10  sector      object \n",
      "dtypes: float64(5), int64(1), object(5)\n",
      "memory usage: 781.5+ MB\n",
      "None\n"
     ]
    }
   ],
   "source": [
    "# Checking the info for the merged data frame\n",
    "print(merged_df.info())"
   ]
  },
  {
   "cell_type": "code",
   "execution_count": 66,
   "metadata": {
    "id": "kEuakl5mAHEB",
    "outputId": "d3bec024-5ce4-4e5a-d8a4-81de45135073"
   },
   "outputs": [
    {
     "data": {
      "text/html": [
       "<div>\n",
       "<style scoped>\n",
       "    .dataframe tbody tr th:only-of-type {\n",
       "        vertical-align: middle;\n",
       "    }\n",
       "\n",
       "    .dataframe tbody tr th {\n",
       "        vertical-align: top;\n",
       "    }\n",
       "\n",
       "    .dataframe thead th {\n",
       "        text-align: right;\n",
       "    }\n",
       "</style>\n",
       "<table border=\"1\" class=\"dataframe\">\n",
       "  <thead>\n",
       "    <tr style=\"text-align: right;\">\n",
       "      <th></th>\n",
       "      <th>id</th>\n",
       "      <th>open</th>\n",
       "      <th>high</th>\n",
       "      <th>low</th>\n",
       "      <th>close</th>\n",
       "      <th>volume</th>\n",
       "    </tr>\n",
       "  </thead>\n",
       "  <tbody>\n",
       "    <tr>\n",
       "      <th>count</th>\n",
       "      <td>8.535563e+06</td>\n",
       "      <td>8.535563e+06</td>\n",
       "      <td>8.535563e+06</td>\n",
       "      <td>8.535563e+06</td>\n",
       "      <td>8.535563e+06</td>\n",
       "      <td>8.535563e+06</td>\n",
       "    </tr>\n",
       "    <tr>\n",
       "      <th>mean</th>\n",
       "      <td>1.681048e+03</td>\n",
       "      <td>2.087492e+02</td>\n",
       "      <td>2.102253e+02</td>\n",
       "      <td>2.070907e+02</td>\n",
       "      <td>2.086708e+02</td>\n",
       "      <td>1.730159e+06</td>\n",
       "    </tr>\n",
       "    <tr>\n",
       "      <th>std</th>\n",
       "      <td>1.108516e+03</td>\n",
       "      <td>6.725096e+03</td>\n",
       "      <td>6.762916e+03</td>\n",
       "      <td>6.679644e+03</td>\n",
       "      <td>6.720913e+03</td>\n",
       "      <td>8.263727e+06</td>\n",
       "    </tr>\n",
       "    <tr>\n",
       "      <th>min</th>\n",
       "      <td>1.000000e+00</td>\n",
       "      <td>1.000000e-04</td>\n",
       "      <td>2.000000e-04</td>\n",
       "      <td>1.000000e-04</td>\n",
       "      <td>2.000000e-04</td>\n",
       "      <td>0.000000e+00</td>\n",
       "    </tr>\n",
       "    <tr>\n",
       "      <th>25%</th>\n",
       "      <td>7.630000e+02</td>\n",
       "      <td>1.587000e+01</td>\n",
       "      <td>1.611000e+01</td>\n",
       "      <td>1.560000e+01</td>\n",
       "      <td>1.586000e+01</td>\n",
       "      <td>8.518900e+04</td>\n",
       "    </tr>\n",
       "    <tr>\n",
       "      <th>50%</th>\n",
       "      <td>1.431000e+03</td>\n",
       "      <td>2.752000e+01</td>\n",
       "      <td>2.785900e+01</td>\n",
       "      <td>2.719000e+01</td>\n",
       "      <td>2.752000e+01</td>\n",
       "      <td>3.889000e+05</td>\n",
       "    </tr>\n",
       "    <tr>\n",
       "      <th>75%</th>\n",
       "      <td>2.609000e+03</td>\n",
       "      <td>5.085000e+01</td>\n",
       "      <td>5.145000e+01</td>\n",
       "      <td>5.023000e+01</td>\n",
       "      <td>5.085000e+01</td>\n",
       "      <td>1.344732e+06</td>\n",
       "    </tr>\n",
       "    <tr>\n",
       "      <th>max</th>\n",
       "      <td>3.937000e+03</td>\n",
       "      <td>5.635490e+05</td>\n",
       "      <td>5.665700e+05</td>\n",
       "      <td>5.591000e+05</td>\n",
       "      <td>5.630728e+05</td>\n",
       "      <td>3.772638e+09</td>\n",
       "    </tr>\n",
       "  </tbody>\n",
       "</table>\n",
       "</div>"
      ],
      "text/plain": [
       "                 id          open          high           low         close  \\\n",
       "count  8.535563e+06  8.535563e+06  8.535563e+06  8.535563e+06  8.535563e+06   \n",
       "mean   1.681048e+03  2.087492e+02  2.102253e+02  2.070907e+02  2.086708e+02   \n",
       "std    1.108516e+03  6.725096e+03  6.762916e+03  6.679644e+03  6.720913e+03   \n",
       "min    1.000000e+00  1.000000e-04  2.000000e-04  1.000000e-04  2.000000e-04   \n",
       "25%    7.630000e+02  1.587000e+01  1.611000e+01  1.560000e+01  1.586000e+01   \n",
       "50%    1.431000e+03  2.752000e+01  2.785900e+01  2.719000e+01  2.752000e+01   \n",
       "75%    2.609000e+03  5.085000e+01  5.145000e+01  5.023000e+01  5.085000e+01   \n",
       "max    3.937000e+03  5.635490e+05  5.665700e+05  5.591000e+05  5.630728e+05   \n",
       "\n",
       "             volume  \n",
       "count  8.535563e+06  \n",
       "mean   1.730159e+06  \n",
       "std    8.263727e+06  \n",
       "min    0.000000e+00  \n",
       "25%    8.518900e+04  \n",
       "50%    3.889000e+05  \n",
       "75%    1.344732e+06  \n",
       "max    3.772638e+09  "
      ]
     },
     "execution_count": 66,
     "metadata": {},
     "output_type": "execute_result"
    }
   ],
   "source": [
    "# describing the basic stats of the dataframe\n",
    "merged_df.describe()"
   ]
  },
  {
   "cell_type": "code",
   "execution_count": 67,
   "metadata": {
    "id": "KFAwE7d2AHEB",
    "outputId": "c9badbcd-a367-43c0-89b0-d3912ff8dee6"
   },
   "outputs": [
    {
     "name": "stdout",
     "output_type": "stream",
     "text": [
      "id                0\n",
      "open              0\n",
      "high              0\n",
      "low               0\n",
      "close             0\n",
      "volume            0\n",
      "symbol            0\n",
      "name              0\n",
      "exchange          0\n",
      "asset_type        0\n",
      "sector        38457\n",
      "dtype: int64\n"
     ]
    }
   ],
   "source": [
    "# Check for missing values\n",
    "print(merged_df.isnull().sum())"
   ]
  },
  {
   "cell_type": "markdown",
   "metadata": {},
   "source": [
    "\n",
    "In our data cleaning process, we chose to drop rows where the 'name' or 'sector' information was missing. This decision was based on two key considerations. Firstly, these missing values represent less than 1% of our entire dataset, making their removal a minimal sacrifice for the sake of data quality. Secondly, we have already performed extensive imputation for missing symbols, addressing other significant data gaps. Thus, dropping rows with missing 'name' or 'sector' information is a strategic move to maintain the integrity of our dataset without significantly impacting its size or representativeness. This ensures that our analysis is both accurate and robust, focusing on the most complete and reliable data available."
   ]
  },
  {
   "cell_type": "code",
   "execution_count": 68,
   "metadata": {
    "id": "229Fw90-AHEB",
    "outputId": "b938ddcb-8163-4ff6-a291-44c0b35315c1"
   },
   "outputs": [
    {
     "name": "stdout",
     "output_type": "stream",
     "text": [
      "id            0\n",
      "open          0\n",
      "high          0\n",
      "low           0\n",
      "close         0\n",
      "volume        0\n",
      "symbol        0\n",
      "name          0\n",
      "exchange      0\n",
      "asset_type    0\n",
      "sector        0\n",
      "dtype: int64\n"
     ]
    }
   ],
   "source": [
    "# Drop rows where 'name' or 'sector' is missing\n",
    "merged_df.dropna(subset=['name', 'sector'], inplace=True)\n",
    "print(merged_df.isnull().sum())"
   ]
  },
  {
   "cell_type": "code",
   "execution_count": 69,
   "metadata": {
    "id": "BxcpfvwWAHEB",
    "outputId": "9a65739b-d546-4cc4-d7fe-04bb7d19ddba",
    "scrolled": false
   },
   "outputs": [
    {
     "data": {
      "image/png": "[encoded data removed]",
      "text/plain": [
       "<Figure size 1000x400 with 1 Axes>"
      ]
     },
     "metadata": {},
     "output_type": "display_data"
    },
    {
     "data": {
      "image/png": "[encoded data removed]",
      "text/plain": [
       "<Figure size 1000x400 with 1 Axes>"
      ]
     },
     "metadata": {},
     "output_type": "display_data"
    },
    {
     "data": {
      "image/png": "[encoded data removed]",
      "text/plain": [
       "<Figure size 1000x400 with 1 Axes>"
      ]
     },
     "metadata": {},
     "output_type": "display_data"
    },
    {
     "data": {
      "image/png": "[encoded data removed]",
      "text/plain": [
       "<Figure size 1000x400 with 1 Axes>"
      ]
     },
     "metadata": {},
     "output_type": "display_data"
    },
    {
     "data": {
      "image/png": "[encoded data removed]",
      "text/plain": [
       "<Figure size 1000x400 with 1 Axes>"
      ]
     },
     "metadata": {},
     "output_type": "display_data"
    }
   ],
   "source": [
    "# Checking for outliers\n",
    "import matplotlib.pyplot as plt\n",
    "\n",
    "# List of columns to check for outliers\n",
    "columns_to_check = ['open', 'high', 'low', 'close', 'volume']\n",
    "\n",
    "# Creating box plots\n",
    "for column in columns_to_check:\n",
    "    plt.figure(figsize=(10, 4))\n",
    "    plt.boxplot(merged_df[column].dropna(), vert=False)\n",
    "    plt.title(f'Box Plot for {column}')\n",
    "    plt.show()\n"
   ]
  },
  {
   "cell_type": "markdown",
   "metadata": {
    "id": "UQ9MgYumAHEB"
   },
   "source": [
    "<strong> Observation </strong> In our data analysis, while examining for outliers, we used box plots to assess key financial metrics such as 'open', 'high', 'low', 'close', and 'volume'. Indeed, we observed outliers in these distributions. However, we decided against normalizing or removing these outliers, particularly in the 'volume' data. This decision is critical for our risk analysis, as these outliers can represent significant market events or trends that are essential for understanding market volatility and risk. By retaining these outliers, we ensure that our analysis captures the full spectrum of market behaviors, including extreme but informative fluctuations. This approach allows us to maintain a comprehensive and realistic view of the market dynamics, which is crucial for accurate risk assessment."
   ]
  },
  {
   "cell_type": "markdown",
   "metadata": {},
   "source": [
    "## 2.4 Data Formatting"
   ]
  },
  {
   "cell_type": "code",
   "execution_count": 70,
   "metadata": {
    "id": "LIRZufYlAHEC",
    "outputId": "81bcfc0d-5c48-4db9-ca02-a989addf95af"
   },
   "outputs": [
    {
     "name": "stdout",
     "output_type": "stream",
     "text": [
      "<class 'pandas.core.frame.DataFrame'>\n",
      "DatetimeIndex: 8497106 entries, 2023-05-16 to 1999-11-01\n",
      "Data columns (total 11 columns):\n",
      " #   Column      Dtype   \n",
      "---  ------      -----   \n",
      " 0   id          int64   \n",
      " 1   open        float64 \n",
      " 2   high        float64 \n",
      " 3   low         float64 \n",
      " 4   close       float64 \n",
      " 5   volume      float64 \n",
      " 6   symbol      category\n",
      " 7   name        object  \n",
      " 8   exchange    category\n",
      " 9   asset_type  category\n",
      " 10  sector      category\n",
      "dtypes: category(4), float64(5), int64(1), object(1)\n",
      "memory usage: 559.2+ MB\n",
      "None\n"
     ]
    }
   ],
   "source": [
    "# Standardising data formats\n",
    "# 1. Converting Categorical Columns to Category Data Type\n",
    "\n",
    "categorical_columns = ['symbol', 'exchange', 'asset_type', 'sector']\n",
    "for col in categorical_columns:\n",
    "    merged_df[col] = merged_df[col].astype('category')\n",
    "print(merged_df.info())"
   ]
  },
  {
   "cell_type": "code",
   "execution_count": 71,
   "metadata": {
    "id": "-p9Mn7zGAHEC",
    "outputId": "243d2483-bd28-433d-f1d0-61bae2e368fc"
   },
   "outputs": [
    {
     "name": "stdout",
     "output_type": "stream",
     "text": [
      "<class 'pandas.core.frame.DataFrame'>\n",
      "DatetimeIndex: 8497106 entries, 2023-05-16 to 1999-11-01\n",
      "Data columns (total 11 columns):\n",
      " #   Column      Dtype   \n",
      "---  ------      -----   \n",
      " 0   id          int64   \n",
      " 1   open        float64 \n",
      " 2   high        float64 \n",
      " 3   low         float64 \n",
      " 4   close       float64 \n",
      " 5   volume      float64 \n",
      " 6   symbol      category\n",
      " 7   name        object  \n",
      " 8   exchange    category\n",
      " 9   asset_type  category\n",
      " 10  sector      category\n",
      "dtypes: category(4), float64(5), int64(1), object(1)\n",
      "memory usage: 559.2+ MB\n",
      "None\n"
     ]
    }
   ],
   "source": [
    "# 2. Ensuring Numerical Columns are in Correct Format using to numeric (just for thorough formatting)\n",
    "\n",
    "numerical_columns = ['open', 'high', 'low', 'close', 'volume']\n",
    "merged_df[numerical_columns] = merged_df[numerical_columns].apply(pd.to_numeric, errors='coerce')\n",
    "print(merged_df.info())"
   ]
  },
  {
   "cell_type": "markdown",
   "metadata": {},
   "source": [
    "In our data processing, we focused on ensuring that all numerical columns are correctly formatted. To achieve this, we specifically targeted columns like 'open', 'high', 'low', 'close', and 'volume'. We used the pd.to_numeric method from pandas to convert these columns into a numerical format. The errors='coerce' parameter is particularly important as it transforms any non-numeric values into NaNs, thereby avoiding data type conflicts. This step is crucial for maintaining the integrity and consistency of our dataset, as it ensures that all numerical data is in a format suitable for accurate and efficient statistical analysis. "
   ]
  },
  {
   "cell_type": "code",
   "execution_count": 72,
   "metadata": {
    "id": "w1dAegyoAHEC"
   },
   "outputs": [],
   "source": [
    "# changing date index to datetime format for easier manipulation\n",
    "\n",
    "merged_df.index = pd.to_datetime(merged_df.index)"
   ]
  },
  {
   "cell_type": "markdown",
   "metadata": {
    "id": "PMCrlklrAHEC",
    "outputId": "abe5d9c3-3c16-4df9-a613-f9a0e7bd0bf1"
   },
   "source": [
    "## 2.5 Adding additional required columns for Analysis"
   ]
  },
  {
   "cell_type": "code",
   "execution_count": 73,
   "metadata": {
    "id": "_GILLGc3AHEC"
   },
   "outputs": [],
   "source": [
    "import numpy as np\n",
    "# 1. Log Transformation \n",
    "\n",
    "# Log transformation of price and volume columns\n",
    "for column in ['open', 'high', 'low', 'close', 'volume']:\n",
    "    merged_df[f'log_{column}'] = np.log(merged_df[column] + 1) \n"
   ]
  },
  {
   "cell_type": "markdown",
   "metadata": {},
   "source": [
    "\n",
    "In our financial data analysis, we applied a log transformation to the price and volume columns ('open', 'high', 'low', 'close', 'volume'). We did this to stabilize the variance across these data points and to make their distribution more akin to a normal distribution. This transformation is particularly beneficial for certain types of statistical analyses where normality of data is a key assumption. By using the natural logarithm and adding one to each value (to avoid issues with zero values), we can better interpret and analyze trends and patterns in the data, especially when dealing with wide-ranging values. This step is crucial for enhancing the accuracy and effectiveness of our subsequent statistical and predictive modeling efforts."
   ]
  },
  {
   "cell_type": "code",
   "execution_count": 74,
   "metadata": {
    "id": "FLUf41AtAHEC"
   },
   "outputs": [],
   "source": [
    "# 2. Calculating Returns \n",
    "merged_df['daily_return'] = merged_df['close'].pct_change()"
   ]
  },
  {
   "cell_type": "markdown",
   "metadata": {},
   "source": [
    "\n",
    " we calculated daily returns instead of using absolute price values. This approach is more meaningful for risk and performance analysis. By computing the percentage change in the 'close' price from one day to the next using the pct_change() method, we capture the rate of return or loss for each day. This metric is crucial because it standardizes price movements across different stocks, allowing us to compare performance irrespective of the stock's absolute price. Returns provide a clearer picture of relative performance and risk, which is essential in financial analysis for making informed investment decisions and understanding market dynamics."
   ]
  },
  {
   "cell_type": "code",
   "execution_count": 75,
   "metadata": {
    "id": "5eXA1u-LAHED"
   },
   "outputs": [],
   "source": [
    "# 3. Moving Averages \n",
    "# 7-day and 30-day moving averages\n",
    "merged_df['ma_7'] = merged_df['close'].rolling(window=7).mean()\n",
    "merged_df['ma_30'] = merged_df['close'].rolling(window=30).mean()"
   ]
  },
  {
   "cell_type": "markdown",
   "metadata": {},
   "source": [
    " we calculated moving averages to identify trends over time. Specifically, we computed 7-day and 30-day moving averages of the 'close' prices, using the rolling() method followed by mean(). The 7-day moving average (ma_7) offers a short-term trend perspective, smoothing out daily price fluctuations and highlighting weekly trends. In contrast, the 30-day moving average (ma_30) provides a longer-term view, effectively indicating monthly trends. These moving averages are essential tools in financial analysis; they help us understand the direction in which a stock's price is moving and can signal potential future movements, aiding in making more informed predictions and decisions."
   ]
  },
  {
   "cell_type": "code",
   "execution_count": 76,
   "metadata": {
    "id": "2n6H8EiIAHED"
   },
   "outputs": [],
   "source": [
    "# 4. Volatility\n",
    "# 30-day rolling volatility\n",
    "merged_df['rolling_volatility'] = merged_df['daily_return'].rolling(window=30).std()"
   ]
  },
  {
   "cell_type": "markdown",
   "metadata": {},
   "source": [
    "we calculated rolling standard deviation of daily returns as a proxy for volatility. By using a 30-day rolling window on the 'daily_return' column and calculating the standard deviation (std) with the rolling() method, we are able to gauge the short-term volatility of stock prices. This rolling volatility measure reflects how much the returns fluctuate over a 30-day period, providing insights into the risk associated with the stock. \n",
    "\n",
    "\n",
    "\n",
    "\n",
    "\n",
    "\n"
   ]
  },
  {
   "cell_type": "code",
   "execution_count": 77,
   "metadata": {},
   "outputs": [
    {
     "data": {
      "text/html": [
       "<div>\n",
       "<style scoped>\n",
       "    .dataframe tbody tr th:only-of-type {\n",
       "        vertical-align: middle;\n",
       "    }\n",
       "\n",
       "    .dataframe tbody tr th {\n",
       "        vertical-align: top;\n",
       "    }\n",
       "\n",
       "    .dataframe thead th {\n",
       "        text-align: right;\n",
       "    }\n",
       "</style>\n",
       "<table border=\"1\" class=\"dataframe\">\n",
       "  <thead>\n",
       "    <tr style=\"text-align: right;\">\n",
       "      <th></th>\n",
       "      <th>id</th>\n",
       "      <th>open</th>\n",
       "      <th>high</th>\n",
       "      <th>low</th>\n",
       "      <th>close</th>\n",
       "      <th>volume</th>\n",
       "      <th>symbol</th>\n",
       "      <th>name</th>\n",
       "      <th>exchange</th>\n",
       "      <th>asset_type</th>\n",
       "      <th>sector</th>\n",
       "      <th>log_open</th>\n",
       "      <th>log_high</th>\n",
       "      <th>log_low</th>\n",
       "      <th>log_close</th>\n",
       "      <th>log_volume</th>\n",
       "      <th>daily_return</th>\n",
       "      <th>ma_7</th>\n",
       "      <th>ma_30</th>\n",
       "      <th>rolling_volatility</th>\n",
       "    </tr>\n",
       "    <tr>\n",
       "      <th>date</th>\n",
       "      <th></th>\n",
       "      <th></th>\n",
       "      <th></th>\n",
       "      <th></th>\n",
       "      <th></th>\n",
       "      <th></th>\n",
       "      <th></th>\n",
       "      <th></th>\n",
       "      <th></th>\n",
       "      <th></th>\n",
       "      <th></th>\n",
       "      <th></th>\n",
       "      <th></th>\n",
       "      <th></th>\n",
       "      <th></th>\n",
       "      <th></th>\n",
       "      <th></th>\n",
       "      <th></th>\n",
       "      <th></th>\n",
       "      <th></th>\n",
       "    </tr>\n",
       "  </thead>\n",
       "  <tbody>\n",
       "    <tr>\n",
       "      <th>2023-05-16</th>\n",
       "      <td>2957</td>\n",
       "      <td>8.350</td>\n",
       "      <td>8.46</td>\n",
       "      <td>7.87</td>\n",
       "      <td>7.93</td>\n",
       "      <td>766428.0</td>\n",
       "      <td>SMR</td>\n",
       "      <td>NuScale Power Corporation - Class A</td>\n",
       "      <td>NYSE</td>\n",
       "      <td>Stock</td>\n",
       "      <td>Industrials</td>\n",
       "      <td>2.235376</td>\n",
       "      <td>2.247072</td>\n",
       "      <td>2.182675</td>\n",
       "      <td>2.189416</td>\n",
       "      <td>13.549497</td>\n",
       "      <td>NaN</td>\n",
       "      <td>NaN</td>\n",
       "      <td>NaN</td>\n",
       "      <td>NaN</td>\n",
       "    </tr>\n",
       "    <tr>\n",
       "      <th>2023-05-15</th>\n",
       "      <td>2957</td>\n",
       "      <td>8.390</td>\n",
       "      <td>8.49</td>\n",
       "      <td>8.13</td>\n",
       "      <td>8.30</td>\n",
       "      <td>668672.0</td>\n",
       "      <td>SMR</td>\n",
       "      <td>NuScale Power Corporation - Class A</td>\n",
       "      <td>NYSE</td>\n",
       "      <td>Stock</td>\n",
       "      <td>Industrials</td>\n",
       "      <td>2.239645</td>\n",
       "      <td>2.250239</td>\n",
       "      <td>2.211566</td>\n",
       "      <td>2.230014</td>\n",
       "      <td>13.413050</td>\n",
       "      <td>0.046658</td>\n",
       "      <td>NaN</td>\n",
       "      <td>NaN</td>\n",
       "      <td>NaN</td>\n",
       "    </tr>\n",
       "    <tr>\n",
       "      <th>2023-05-12</th>\n",
       "      <td>2957</td>\n",
       "      <td>8.400</td>\n",
       "      <td>8.51</td>\n",
       "      <td>8.18</td>\n",
       "      <td>8.30</td>\n",
       "      <td>843669.0</td>\n",
       "      <td>SMR</td>\n",
       "      <td>NuScale Power Corporation - Class A</td>\n",
       "      <td>NYSE</td>\n",
       "      <td>Stock</td>\n",
       "      <td>Industrials</td>\n",
       "      <td>2.240710</td>\n",
       "      <td>2.252344</td>\n",
       "      <td>2.217027</td>\n",
       "      <td>2.230014</td>\n",
       "      <td>13.645517</td>\n",
       "      <td>0.000000</td>\n",
       "      <td>NaN</td>\n",
       "      <td>NaN</td>\n",
       "      <td>NaN</td>\n",
       "    </tr>\n",
       "    <tr>\n",
       "      <th>2023-05-11</th>\n",
       "      <td>2957</td>\n",
       "      <td>8.355</td>\n",
       "      <td>8.48</td>\n",
       "      <td>8.11</td>\n",
       "      <td>8.30</td>\n",
       "      <td>1279188.0</td>\n",
       "      <td>SMR</td>\n",
       "      <td>NuScale Power Corporation - Class A</td>\n",
       "      <td>NYSE</td>\n",
       "      <td>Stock</td>\n",
       "      <td>Industrials</td>\n",
       "      <td>2.235911</td>\n",
       "      <td>2.249184</td>\n",
       "      <td>2.209373</td>\n",
       "      <td>2.230014</td>\n",
       "      <td>14.061737</td>\n",
       "      <td>0.000000</td>\n",
       "      <td>NaN</td>\n",
       "      <td>NaN</td>\n",
       "      <td>NaN</td>\n",
       "    </tr>\n",
       "    <tr>\n",
       "      <th>2023-05-10</th>\n",
       "      <td>2957</td>\n",
       "      <td>8.000</td>\n",
       "      <td>8.04</td>\n",
       "      <td>7.60</td>\n",
       "      <td>7.94</td>\n",
       "      <td>712361.0</td>\n",
       "      <td>SMR</td>\n",
       "      <td>NuScale Power Corporation - Class A</td>\n",
       "      <td>NYSE</td>\n",
       "      <td>Stock</td>\n",
       "      <td>Industrials</td>\n",
       "      <td>2.197225</td>\n",
       "      <td>2.201659</td>\n",
       "      <td>2.151762</td>\n",
       "      <td>2.190536</td>\n",
       "      <td>13.476341</td>\n",
       "      <td>-0.043373</td>\n",
       "      <td>NaN</td>\n",
       "      <td>NaN</td>\n",
       "      <td>NaN</td>\n",
       "    </tr>\n",
       "  </tbody>\n",
       "</table>\n",
       "</div>"
      ],
      "text/plain": [
       "              id   open  high   low  close     volume symbol  \\\n",
       "date                                                           \n",
       "2023-05-16  2957  8.350  8.46  7.87   7.93   766428.0    SMR   \n",
       "2023-05-15  2957  8.390  8.49  8.13   8.30   668672.0    SMR   \n",
       "2023-05-12  2957  8.400  8.51  8.18   8.30   843669.0    SMR   \n",
       "2023-05-11  2957  8.355  8.48  8.11   8.30  1279188.0    SMR   \n",
       "2023-05-10  2957  8.000  8.04  7.60   7.94   712361.0    SMR   \n",
       "\n",
       "                                           name exchange asset_type  \\\n",
       "date                                                                  \n",
       "2023-05-16  NuScale Power Corporation - Class A     NYSE      Stock   \n",
       "2023-05-15  NuScale Power Corporation - Class A     NYSE      Stock   \n",
       "2023-05-12  NuScale Power Corporation - Class A     NYSE      Stock   \n",
       "2023-05-11  NuScale Power Corporation - Class A     NYSE      Stock   \n",
       "2023-05-10  NuScale Power Corporation - Class A     NYSE      Stock   \n",
       "\n",
       "                 sector  log_open  log_high   log_low  log_close  log_volume  \\\n",
       "date                                                                           \n",
       "2023-05-16  Industrials  2.235376  2.247072  2.182675   2.189416   13.549497   \n",
       "2023-05-15  Industrials  2.239645  2.250239  2.211566   2.230014   13.413050   \n",
       "2023-05-12  Industrials  2.240710  2.252344  2.217027   2.230014   13.645517   \n",
       "2023-05-11  Industrials  2.235911  2.249184  2.209373   2.230014   14.061737   \n",
       "2023-05-10  Industrials  2.197225  2.201659  2.151762   2.190536   13.476341   \n",
       "\n",
       "            daily_return  ma_7  ma_30  rolling_volatility  \n",
       "date                                                       \n",
       "2023-05-16           NaN   NaN    NaN                 NaN  \n",
       "2023-05-15      0.046658   NaN    NaN                 NaN  \n",
       "2023-05-12      0.000000   NaN    NaN                 NaN  \n",
       "2023-05-11      0.000000   NaN    NaN                 NaN  \n",
       "2023-05-10     -0.043373   NaN    NaN                 NaN  "
      ]
     },
     "execution_count": 77,
     "metadata": {},
     "output_type": "execute_result"
    }
   ],
   "source": [
    "# Storing it for further analysis\n",
    "\n",
    "df = merged_df.copy()"
   ]
  },
  {
   "cell_type": "code",
   "execution_count": 43,
   "metadata": {
    "id": "_fOw8hcEAHED"
   },
   "outputs": [],
   "source": [
    "# 5. Categorical Encoding \n",
    "merged_df = pd.get_dummies(merged_df, columns=['sector', 'asset_type'])\n"
   ]
  },
  {
   "cell_type": "markdown",
   "metadata": {},
   "source": [
    " we encoded the categorical variables 'sector' and 'asset_type' in our dataset. This step is essential because most machine learning algorithms work better with numerical input. We used the pd.get_dummies() function to convert these categorical columns into a format that is more suitable for machine learning. This function creates a new binary (0 or 1) column for each category within 'sector' and 'asset_type', effectively transforming these categorical variables into a numerical format."
   ]
  },
  {
   "cell_type": "code",
   "execution_count": 44,
   "metadata": {
    "id": "ew_ZV4OlAHED"
   },
   "outputs": [],
   "source": [
    "# 6. Data Normalization or Standardization \n",
    "from sklearn.preprocessing import StandardScaler\n",
    "\n",
    "scaler = StandardScaler()\n",
    "merged_df[['open', 'high', 'low', 'close', 'volume']] = scaler.fit_transform(merged_df[['open', 'high', 'low', 'close', 'volume']])\n",
    "df[['open', 'high', 'low', 'close', 'volume']] = scaler.fit_transform(df[['open', 'high', 'low', 'close', 'volume']])"
   ]
  },
  {
   "cell_type": "markdown",
   "metadata": {},
   "source": [
    "we applied normalization to our dataset's numerical features such as 'open', 'high', 'low', 'close', and 'volume'. We used the StandardScaler from the scikit-learn library for this purpose. The rationale behind standardizing these features is to scale them to a standard normal distribution, where the mean is 0 and the standard deviation is 1."
   ]
  },
  {
   "cell_type": "code",
   "execution_count": 45,
   "metadata": {
    "id": "vImyjY22AHED",
    "outputId": "1b626468-33e1-4ec0-f195-0f701bb01290"
   },
   "outputs": [
    {
     "name": "stdout",
     "output_type": "stream",
     "text": [
      "<class 'pandas.core.frame.DataFrame'>\n",
      "DatetimeIndex: 8497106 entries, 2023-05-16 to 1999-11-01\n",
      "Data columns (total 38 columns):\n",
      " #   Column                             Dtype   \n",
      "---  ------                             -----   \n",
      " 0   id                                 int64   \n",
      " 1   open                               float64 \n",
      " 2   high                               float64 \n",
      " 3   low                                float64 \n",
      " 4   close                              float64 \n",
      " 5   volume                             float64 \n",
      " 6   symbol                             category\n",
      " 7   name                               object  \n",
      " 8   exchange                           category\n",
      " 9   log_open                           float64 \n",
      " 10  log_high                           float64 \n",
      " 11  log_low                            float64 \n",
      " 12  log_close                          float64 \n",
      " 13  log_volume                         float64 \n",
      " 14  daily_return                       float64 \n",
      " 15  ma_7                               float64 \n",
      " 16  ma_30                              float64 \n",
      " 17  rolling_volatility                 float64 \n",
      " 18  sector_                            bool    \n",
      " 19  sector_Basic Materials             bool    \n",
      " 20  sector_Communication Services      bool    \n",
      " 21  sector_Consumer Cyclical           bool    \n",
      " 22  sector_Consumer Defensive          bool    \n",
      " 23  sector_ENERGY & TRANSPORTATION     bool    \n",
      " 24  sector_Energy                      bool    \n",
      " 25  sector_FINANCE                     bool    \n",
      " 26  sector_Financial Services          bool    \n",
      " 27  sector_Healthcare                  bool    \n",
      " 28  sector_Industrials                 bool    \n",
      " 29  sector_LIFE SCIENCES               bool    \n",
      " 30  sector_MANUFACTURING               bool    \n",
      " 31  sector_REAL ESTATE & CONSTRUCTION  bool    \n",
      " 32  sector_Real Estate                 bool    \n",
      " 33  sector_TECHNOLOGY                  bool    \n",
      " 34  sector_TRADE & SERVICES            bool    \n",
      " 35  sector_Technology                  bool    \n",
      " 36  sector_Utilities                   bool    \n",
      " 37  asset_type_Stock                   bool    \n",
      "dtypes: bool(20), category(2), float64(14), int64(1), object(1)\n",
      "memory usage: 1.3+ GB\n",
      "None\n"
     ]
    }
   ],
   "source": [
    "print(merged_df.info())"
   ]
  },
  {
   "cell_type": "code",
   "execution_count": 46,
   "metadata": {
    "id": "wv1zbvfgAHED"
   },
   "outputs": [],
   "source": [
    "# saving clean data\n",
    "\n",
    "# file_path = r'C:\\Users\\Venkata Narasa Reddy\\Desktop\\Assigments\\Final DAM pROJECT\\DAM-20231214T200149Z-001\\DAM\\clean_data.csv'\n",
    "\n",
    "# Saving the DataFrame to a CSV file\n",
    "# merged_df.to_csv(file_path, index=True)\n"
   ]
  },
  {
   "cell_type": "markdown",
   "metadata": {
    "id": "AvgMCRn2AHED"
   },
   "source": [
    "# 4 Portfolio Construction, Risk Assessment and Statistical Analysis"
   ]
  },
  {
   "cell_type": "code",
   "execution_count": 47,
   "metadata": {
    "id": "yQk0eiKhAHED"
   },
   "outputs": [],
   "source": [
    "# Identifying the names of the one-hot encoded sector columns in your DataFrame.\n",
    "sector_columns = [col for col in merged_df.columns if col.startswith('sector_')]\n",
    "unique_stocks = merged_df['symbol'].unique()"
   ]
  },
  {
   "cell_type": "code",
   "execution_count": 48,
   "metadata": {
    "id": "LC_HzaIUAHED"
   },
   "outputs": [],
   "source": [
    "# Random Selection Function \n",
    "import random\n",
    "\n",
    "def create_portfolio(num_stocks, num_sectors, unique_stocks, sector_columns):\n",
    "    'function to randomly select stocks and sectors based on the diversification criteria.'\n",
    "    selected_stocks = random.sample(list(unique_stocks), num_stocks)\n",
    "    selected_sectors = random.sample(sector_columns, num_sectors)\n",
    "    return selected_stocks, selected_sectors\n"
   ]
  },
  {
   "cell_type": "markdown",
   "metadata": {},
   "source": [
    "Generating portfolios for each diversification level. we are creating 4 portfolios for each level of diversification (low, medium, high) to get a total of 12."
   ]
  },
  {
   "cell_type": "code",
   "execution_count": 49,
   "metadata": {
    "id": "JwDOUstrAHED"
   },
   "outputs": [],
   "source": [
    "# Create Portfolios \n",
    "portfolios = {\n",
    "    'low_diversification': [],\n",
    "    'medium_diversification': [],\n",
    "    'high_diversification': []\n",
    "}\n",
    "\n",
    "for _ in range(4):\n",
    "    # Low Diversification: 1-5 stocks, 1-2 sectors\n",
    "    portfolios['low_diversification'].append(create_portfolio(random.randint(1, 5), random.randint(1, 2), unique_stocks, sector_columns))\n",
    "\n",
    "    # Medium Diversification: 6-15 stocks, 3-5 sectors\n",
    "    portfolios['medium_diversification'].append(create_portfolio(random.randint(6, 15), random.randint(3, 5), unique_stocks, sector_columns))\n",
    "\n",
    "    # High Diversification: >15 stocks, >5 sectors\n",
    "    portfolios['high_diversification'].append(create_portfolio(random.randint(16, len(unique_stocks)), random.randint(6, len(sector_columns)), unique_stocks, sector_columns))\n"
   ]
  },
  {
   "cell_type": "markdown",
   "metadata": {},
   "source": [
    "For each portfolio, creating a subset of your data that matches the selected stocks and sectors."
   ]
  },
  {
   "cell_type": "code",
   "execution_count": 50,
   "metadata": {
    "id": "w4q6zLwTAHED"
   },
   "outputs": [],
   "source": [
    "# Segment Data for Each Portfolio \n",
    "portfolio_data = []\n",
    "\n",
    "for category, portfolio_list in portfolios.items():\n",
    "    for stocks, sectors in portfolio_list:\n",
    "        subset = merged_df[(merged_df['symbol'].isin(stocks)) & (merged_df[sectors].sum(axis=1) > 0)]\n",
    "        portfolio_data.append((category, stocks, sectors, subset))"
   ]
  },
  {
   "cell_type": "markdown",
   "metadata": {},
   "source": [
    "Caluculating standard deviation on VaR (Value at Risk)"
   ]
  },
  {
   "cell_type": "code",
   "execution_count": 51,
   "metadata": {
    "id": "B6bgb2TqAHED",
    "outputId": "3c74c3c1-6b09-4e69-a710-1f61af5f9995"
   },
   "outputs": [
    {
     "name": "stdout",
     "output_type": "stream",
     "text": [
      "Portfolio low_diversification is empty and cannot compute Standard Deviation.\n",
      "Portfolio low_diversification is empty and cannot compute Standard Deviation.\n",
      "Portfolio low_diversification is empty and cannot compute Standard Deviation.\n",
      "Portfolio low_diversification is empty and cannot compute Standard Deviation.\n",
      "Standard Deviation for portfolio medium_diversification: 0.05084292934569104\n",
      "Standard Deviation for portfolio medium_diversification: 0.04732420326538744\n",
      "Standard Deviation for portfolio medium_diversification: 0.015106144714985652\n",
      "Standard Deviation for portfolio medium_diversification: 0.052170820760194705\n",
      "Standard Deviation for portfolio high_diversification: 0.6751610510388317\n",
      "Standard Deviation for portfolio high_diversification: 28.82439155734809\n",
      "Standard Deviation for portfolio high_diversification: 16.57780577064718\n",
      "Standard Deviation for portfolio high_diversification: 1.1816182560275919\n"
     ]
    }
   ],
   "source": [
    "for category, stocks, sectors, subset in portfolio_data:\n",
    "    if not subset.empty:\n",
    "        std_dev = subset['daily_return'].std()\n",
    "        print(f\"Standard Deviation for portfolio {category}: {std_dev}\")\n",
    "    else:\n",
    "        print(f\"Portfolio {category} is empty and cannot compute Standard Deviation.\")\n"
   ]
  },
  {
   "cell_type": "code",
   "execution_count": 52,
   "metadata": {
    "id": "rRRbH00PAHED",
    "outputId": "070969eb-a7c8-4208-9eb7-e895eae70827"
   },
   "outputs": [
    {
     "name": "stdout",
     "output_type": "stream",
     "text": [
      "VaR at 95% confidence level for portfolio low_diversification: nan\n",
      "VaR at 95% confidence level for portfolio low_diversification: nan\n",
      "VaR at 95% confidence level for portfolio low_diversification: nan\n",
      "VaR at 95% confidence level for portfolio low_diversification: nan\n",
      "VaR at 95% confidence level for portfolio medium_diversification: -0.03262044455855632\n",
      "VaR at 95% confidence level for portfolio medium_diversification: -0.05511539119920162\n",
      "VaR at 95% confidence level for portfolio medium_diversification: -0.01930235405063948\n",
      "VaR at 95% confidence level for portfolio medium_diversification: -0.056638419347020165\n",
      "VaR at 95% confidence level for portfolio high_diversification: -0.041916167664670656\n",
      "VaR at 95% confidence level for portfolio high_diversification: -0.034372253055394375\n",
      "VaR at 95% confidence level for portfolio high_diversification: -0.0379356741553707\n",
      "VaR at 95% confidence level for portfolio high_diversification: -0.03565713369963368\n"
     ]
    }
   ],
   "source": [
    "confidence_level = 0.05  # for 95% confidence level\n",
    "\n",
    "for category, stocks, sectors, subset in portfolio_data:\n",
    "    var = subset['daily_return'].dropna().quantile(confidence_level)\n",
    "    print(f\"VaR at 95% confidence level for portfolio {category}: {var}\")\n"
   ]
  },
  {
   "cell_type": "markdown",
   "metadata": {
    "id": "XmI0nul4AHEE"
   },
   "source": [
    "# Challenge\n",
    "The issue with the low diversification portfolios being empty was due to the way they are being constructed. Here are a few reasons and solutions:\n",
    "\n",
    "Selection Criteria Too Restrictive: The random selection criteria for stocks and sectors in the low diversification portfolios is too restrictive, resulting in no overlapping data. we may need to adjust the criteria and method of selection.\n",
    "\n",
    "Changing the code and creating an adjusted function which loops it untill the each portfolio is not empty."
   ]
  },
  {
   "cell_type": "code",
   "execution_count": 53,
   "metadata": {
    "id": "RxY_ehyjAHEE"
   },
   "outputs": [],
   "source": [
    "\n",
    "# unique_stocks = list(merged_df['symbol'].unique())\n",
    "# again Defining sector columns based on one-hot encoded sector data\n",
    "sector_columns = [col for col in merged_df.columns if col.startswith('sector_')]\n",
    "\n",
    "# Containers for each diversification level\n",
    "low_diversification = []\n",
    "medium_diversification = []\n",
    "high_diversification = []\n",
    "\n",
    "# Number of portfolios to create for each diversification level\n",
    "num_portfolios = 4  # Adjust as needed\n",
    "\n",
    "def filter_data(selected_stocks, selected_sectors, df):\n",
    "    '''Function to filter DataFrame based on selected stocks and sectors'''\n",
    "    sector_mask = df[selected_sectors].sum(axis=1) > 0\n",
    "    stock_mask = df['symbol'].isin(selected_stocks)\n",
    "    return df[sector_mask & stock_mask]\n",
    "\n",
    "def create_adjusted_low_div_portfolio(stock_list, num_sectors, sector_columns, df):\n",
    "    '''Adjusted Function to Create Low Diversification Portfolios'''\n",
    "    attempts = 0\n",
    "    max_attempts = 10  # Set a limit to avoid infinite loops\n",
    "    while attempts < max_attempts:\n",
    "        selected_sectors = random.sample(sector_columns, min(num_sectors, len(sector_columns)))\n",
    "        sector_subset = df[df[selected_sectors].sum(axis=1) > 0]\n",
    "        available_stocks = sector_subset['symbol'].unique()\n",
    "        if len(available_stocks) >= 1:\n",
    "            selected_stocks = random.sample(list(available_stocks), random.randint(1, min(5, len(available_stocks))))\n",
    "            subset = filter_data(selected_stocks, selected_sectors, df)\n",
    "            if not subset.empty:\n",
    "                return selected_stocks, selected_sectors, subset\n",
    "        attempts += 1\n",
    "    return [], [], pd.DataFrame()\n",
    "\n",
    "# Creating Portfolios\n",
    "for _ in range(num_portfolios):\n",
    "    # Low Diversification\n",
    "    stocks, sectors, subset = create_adjusted_low_div_portfolio(unique_stocks, random.randint(1, 2), sector_columns, merged_df)\n",
    "    if not subset.empty:\n",
    "        low_diversification.append((stocks, sectors, subset))\n",
    "    else:\n",
    "        print(\"Adjusted low diversification portfolio is empty.\")\n",
    "\n",
    "    # Medium Diversification\n",
    "    stocks, sectors, subset = create_adjusted_low_div_portfolio(unique_stocks, random.randint(3, 5), sector_columns, merged_df)\n",
    "    if not subset.empty:\n",
    "        medium_diversification.append((stocks, sectors, subset))\n",
    "\n",
    "    # High Diversification\n",
    "    stocks, sectors, subset = create_adjusted_low_div_portfolio(unique_stocks, random.randint(6, len(sector_columns)), sector_columns, merged_df)\n",
    "    if not subset.empty:\n",
    "        high_diversification.append((stocks, sectors, subset))\n",
    "\n",
    "# Prepare data for analysis\n",
    "portfolio_data = []\n",
    "for category, portfolios in [('low', low_diversification), ('medium', medium_diversification), ('high', high_diversification)]:\n",
    "    for stocks, sectors, subset in portfolios:\n",
    "        if not subset.empty:\n",
    "            portfolio_data.append((category, stocks, sectors, subset))\n",
    "        else:\n",
    "            print(f\"Portfolio in {category} diversification is empty.\")\n",
    "\n",
    "\n"
   ]
  },
  {
   "cell_type": "code",
   "execution_count": 54,
   "metadata": {
    "id": "JXaViAIlAHEE",
    "outputId": "268fde05-50f2-4c9c-8be3-8aee98007c99"
   },
   "outputs": [
    {
     "name": "stdout",
     "output_type": "stream",
     "text": [
      "Standard Deviation for portfolio low: 0.036509966982281705\n",
      "Standard Deviation for portfolio low: 0.05706497856113496\n",
      "Standard Deviation for portfolio low: 0.03920977278121291\n",
      "Standard Deviation for portfolio low: 0.22157288307262568\n",
      "Standard Deviation for portfolio medium: 1.0489430188894735\n",
      "Standard Deviation for portfolio medium: 0.1368627484076138\n",
      "Standard Deviation for portfolio medium: 0.036996468302565984\n",
      "Standard Deviation for portfolio medium: 0.04491182528897397\n",
      "Standard Deviation for portfolio high: 0.09116437828288156\n",
      "Standard Deviation for portfolio high: 0.5678682270959822\n",
      "Standard Deviation for portfolio high: 0.05813167169555002\n",
      "Standard Deviation for portfolio high: 0.10081975772334135\n"
     ]
    }
   ],
   "source": [
    "for category, stocks, sectors, subset in portfolio_data:\n",
    "    if not subset.empty:\n",
    "        std_dev = subset['daily_return'].std()\n",
    "        print(f\"Standard Deviation for portfolio {category}: {std_dev}\")\n",
    "    else:\n",
    "        print(f\"Portfolio {category} is empty and cannot compute Standard Deviation.\")"
   ]
  },
  {
   "cell_type": "markdown",
   "metadata": {
    "id": "Z701IKZBAHEE"
   },
   "source": [
    " ## Observations on Portfolio Standard Deviation\n",
    "\n",
    "### Low Diversification Portfolios (0.0365 - 0.2216):\n",
    "- We observe a **notable variation in risk** within these portfolios. The highest standard deviation at `0.2216` indicates a significantly volatile low diversification portfolio, suggesting **higher risk** and potential for larger fluctuations in value.\n",
    "- On the other hand, the lowest standard deviation at `0.0365` denotes a portfolio with **reduced fluctuations** in returns, implying it carries **lower risk**.\n",
    "\n",
    "### Medium Diversification Portfolios (0.0370 - 1.0489):\n",
    "- This category shows a **wide spectrum of risk levels**. The highest standard deviation at `1.0489` is substantially higher than the other categories, indicating that some medium diversification portfolios might be exposed to **very high risk**, possibly due to the inclusion of particularly volatile stocks or sectors.\n",
    "- The lowest standard deviation here, at `0.0370`, points to a portfolio that is **comparatively stable**, suggesting effective risk mitigation through diversification.\n",
    "\n",
    "### High Diversification Portfolios (0.0581 - 0.5679):\n",
    "- The range of standard deviations in these portfolios is broader, but it indicates a **moderate consistency in the risk profile** across highly diversified portfolios.\n",
    "- The risk levels vary from moderate to high, which aligns with the principle of the **diversification effect**—though high diversification generally balances risk, the presence of certain volatile elements can still introduce significant risk.\n",
    "\n",
    "#### General Interpretation:\n",
    "- **Diversification Effect**: Our findings reinforce that higher diversification typically leads to a reduction in unsystematic risk. However, the presence of certain high-risk stocks or sectors can offset this effect, as seen in the high diversification category.\n",
    "- **Influence of Specific Stocks or Sectors**: The varied risk levels across all categories underline the significant impact of the **specific stocks and sectors** chosen. Some inherently have higher volatility.\n",
    "- **Risk-Return Trade-off**: It's important to consider the **risk-return trade-off**; portfolios with higher risk may offer the potential for higher returns. Finding a balance that aligns with investment goals and risk tolerance remains crucial.\n",
    "\n",
    "#### Conclusion:\n",
    "- Our analysis underscores the importance of diversification in risk management. However, the effectiveness of diversification is highly dependent on the **specific composition** of each portfolio. It’s not just the quantity of stocks or sectors that matters, but also **choosing the right combination**. Strategic diversification, considering the unique characteristics of each stock and sector, is essential in effective portfolio management.\n",
    "\n",
    "\n",
    "\n",
    "\n",
    "\n",
    "\n",
    "\n"
   ]
  },
  {
   "cell_type": "code",
   "execution_count": 55,
   "metadata": {
    "id": "YC99bunhAHEE",
    "outputId": "6135ba92-926e-4f36-dfae-c4f5c1484d4a"
   },
   "outputs": [
    {
     "name": "stdout",
     "output_type": "stream",
     "text": [
      "VaR at 95% confidence level for portfolio low: -0.045454545454545525\n",
      "VaR at 95% confidence level for portfolio low: -0.014299681423358168\n",
      "VaR at 95% confidence level for portfolio low: -0.051099227569815664\n",
      "VaR at 95% confidence level for portfolio low: -0.09763202314926445\n",
      "VaR at 95% confidence level for portfolio medium: -0.01987618620573046\n",
      "VaR at 95% confidence level for portfolio medium: -0.030914251752850362\n",
      "VaR at 95% confidence level for portfolio medium: -0.029869617430090954\n",
      "VaR at 95% confidence level for portfolio medium: -0.04443120250492535\n",
      "VaR at 95% confidence level for portfolio high: -0.045705663418440276\n",
      "VaR at 95% confidence level for portfolio high: -0.018587202006046948\n",
      "VaR at 95% confidence level for portfolio high: -0.012447097480832415\n",
      "VaR at 95% confidence level for portfolio high: -0.033702652417956655\n"
     ]
    }
   ],
   "source": [
    "confidence_level = 0.05  # for 95% confidence level\n",
    "\n",
    "for category, stocks, sectors, subset in portfolio_data:\n",
    "    var = subset['daily_return'].dropna().quantile(confidence_level)\n",
    "    print(f\"VaR at 95% confidence level for portfolio {category}: {var}\")"
   ]
  },
  {
   "cell_type": "markdown",
   "metadata": {
    "id": "o_mym02zAHEF"
   },
   "source": [
    "## Observations on Value at Risk (VaR) Analysis\n",
    "\n",
    "### Low Diversification Portfolios (VaR: -0.0143 to -0.0976):\n",
    "- These portfolios show a range of VaR values, indicating **varied potential for losses**. \n",
    "- The **highest VaR value (-0.0976)** signals a scenario with the most significant potential loss, pointing to higher risk in one of the low diversification portfolios.\n",
    "- The **lowest VaR value (-0.0143)**, though suggesting a smaller risk of loss, still underscores the inherent uncertainties and risks in the stock market.\n",
    "\n",
    "### Medium Diversification Portfolios (VaR: -0.0199 to -0.0444):\n",
    "- The range of VaR in these portfolios suggests a **moderately lower potential loss** compared to the low diversification portfolios, possibly due to the effects of medium-level diversification in risk reduction.\n",
    "- Despite the relatively lower potential losses, the risk remains noteworthy, highlighting the importance of cautious investment strategies.\n",
    "\n",
    "### High Diversification Portfolios (VaR: -0.0124 to -0.0457):\n",
    "- High diversification portfolios exhibit a range of VaR values. Some of these are comparable to, or even lower than, those in the medium diversification category.\n",
    "- This indicates that while diversification is beneficial in risk management, the **specific composition of the portfolio** is also crucial in dictating overall risk.\n",
    "\n",
    "#### General Interpretation:\n",
    "- **Diversification and Risk**: Although diversification is a fundamental risk mitigation strategy, the VaR values indicate that it's not solely about the level of diversification. The **choices of specific stocks and sectors** significantly impact potential losses.\n",
    "- **Negative VaR Values**: All VaR values being negative is expected, representing potential losses. The size of these values indicates the **extent of potential losses** under normal market conditions.\n",
    "- **Risk Management**: These VaR figures underscore the necessity of effective risk management in portfolio construction, offering a quantitative perspective on risk, even in diversified settings.\n",
    "\n",
    "#### Conclusion:\n",
    "The VaR analysis for different diversification levels in our portfolios reveals varying extents of potential losses. This analysis accentuates the significance of strategic portfolio construction and meticulous risk assessment. While diversification is integral in managing risk, the particular make-up of each portfolio is equally vital in shaping its risk profile. This underscores\n"
   ]
  },
  {
   "cell_type": "markdown",
   "metadata": {
    "id": "8jWSlKHvAHEN"
   },
   "source": [
    "-----------"
   ]
  },
  {
   "cell_type": "markdown",
   "metadata": {
    "id": "zmP5_pktAHEN"
   },
   "source": [
    "# 5. Optimisation and Visualisation"
   ]
  },
  {
   "cell_type": "markdown",
   "metadata": {},
   "source": [
    "### 5.1 Optimisation"
   ]
  },
  {
   "cell_type": "markdown",
   "metadata": {},
   "source": [
    "We will try to fit the Cubic Spline function to predict the next element. Since we have sequential data, interpolation is a good method. We will do it for both the variables and the logarithm of their values. "
   ]
  },
  {
   "cell_type": "code",
   "execution_count": 82,
   "metadata": {},
   "outputs": [],
   "source": [
    "df.head()\n",
    "df =df.dropna()\n",
    "sliced_df = df.drop(['id', 'symbol', 'name', 'exchange'], axis=1).copy()\n",
    "# Resetting the index\n",
    "sliced_df.reset_index(inplace = True)\n",
    "\n",
    "# Dropping the date column\n",
    "sliced_df.drop(['date'], axis = 1, inplace = True)\n"
   ]
  },
  {
   "cell_type": "code",
   "execution_count": 83,
   "metadata": {},
   "outputs": [
    {
     "data": {
      "text/html": [
       "<div>\n",
       "<style scoped>\n",
       "    .dataframe tbody tr th:only-of-type {\n",
       "        vertical-align: middle;\n",
       "    }\n",
       "\n",
       "    .dataframe tbody tr th {\n",
       "        vertical-align: top;\n",
       "    }\n",
       "\n",
       "    .dataframe thead th {\n",
       "        text-align: right;\n",
       "    }\n",
       "</style>\n",
       "<table border=\"1\" class=\"dataframe\">\n",
       "  <thead>\n",
       "    <tr style=\"text-align: right;\">\n",
       "      <th></th>\n",
       "      <th>open</th>\n",
       "      <th>high</th>\n",
       "      <th>low</th>\n",
       "      <th>close</th>\n",
       "      <th>volume</th>\n",
       "      <th>asset_type</th>\n",
       "      <th>sector</th>\n",
       "      <th>log_open</th>\n",
       "      <th>log_high</th>\n",
       "      <th>log_low</th>\n",
       "      <th>log_close</th>\n",
       "      <th>log_volume</th>\n",
       "      <th>daily_return</th>\n",
       "      <th>ma_7</th>\n",
       "      <th>ma_30</th>\n",
       "      <th>rolling_volatility</th>\n",
       "    </tr>\n",
       "  </thead>\n",
       "  <tbody>\n",
       "    <tr>\n",
       "      <th>0</th>\n",
       "      <td>9.16</td>\n",
       "      <td>9.27</td>\n",
       "      <td>9.000</td>\n",
       "      <td>9.05</td>\n",
       "      <td>357292.0</td>\n",
       "      <td>Stock</td>\n",
       "      <td>Industrials</td>\n",
       "      <td>2.318458</td>\n",
       "      <td>2.329227</td>\n",
       "      <td>2.302585</td>\n",
       "      <td>2.307573</td>\n",
       "      <td>12.786311</td>\n",
       "      <td>0.047454</td>\n",
       "      <td>8.635714</td>\n",
       "      <td>8.494667</td>\n",
       "      <td>0.025626</td>\n",
       "    </tr>\n",
       "    <tr>\n",
       "      <th>1</th>\n",
       "      <td>8.90</td>\n",
       "      <td>9.15</td>\n",
       "      <td>8.830</td>\n",
       "      <td>9.09</td>\n",
       "      <td>464772.0</td>\n",
       "      <td>Stock</td>\n",
       "      <td>Industrials</td>\n",
       "      <td>2.292535</td>\n",
       "      <td>2.317474</td>\n",
       "      <td>2.285439</td>\n",
       "      <td>2.311545</td>\n",
       "      <td>13.049304</td>\n",
       "      <td>0.004420</td>\n",
       "      <td>8.678571</td>\n",
       "      <td>8.521000</td>\n",
       "      <td>0.024372</td>\n",
       "    </tr>\n",
       "    <tr>\n",
       "      <th>2</th>\n",
       "      <td>8.65</td>\n",
       "      <td>8.92</td>\n",
       "      <td>8.630</td>\n",
       "      <td>8.83</td>\n",
       "      <td>565275.0</td>\n",
       "      <td>Stock</td>\n",
       "      <td>Industrials</td>\n",
       "      <td>2.266958</td>\n",
       "      <td>2.294553</td>\n",
       "      <td>2.264883</td>\n",
       "      <td>2.285439</td>\n",
       "      <td>13.245069</td>\n",
       "      <td>-0.028603</td>\n",
       "      <td>8.687143</td>\n",
       "      <td>8.538667</td>\n",
       "      <td>0.025057</td>\n",
       "    </tr>\n",
       "    <tr>\n",
       "      <th>3</th>\n",
       "      <td>8.29</td>\n",
       "      <td>8.59</td>\n",
       "      <td>8.252</td>\n",
       "      <td>8.53</td>\n",
       "      <td>379352.0</td>\n",
       "      <td>Stock</td>\n",
       "      <td>Industrials</td>\n",
       "      <td>2.228939</td>\n",
       "      <td>2.260721</td>\n",
       "      <td>2.224840</td>\n",
       "      <td>2.254445</td>\n",
       "      <td>12.846222</td>\n",
       "      <td>-0.033975</td>\n",
       "      <td>8.700000</td>\n",
       "      <td>8.546333</td>\n",
       "      <td>0.025920</td>\n",
       "    </tr>\n",
       "    <tr>\n",
       "      <th>4</th>\n",
       "      <td>8.35</td>\n",
       "      <td>8.39</td>\n",
       "      <td>8.090</td>\n",
       "      <td>8.22</td>\n",
       "      <td>676412.0</td>\n",
       "      <td>Stock</td>\n",
       "      <td>Industrials</td>\n",
       "      <td>2.235376</td>\n",
       "      <td>2.239645</td>\n",
       "      <td>2.207175</td>\n",
       "      <td>2.221375</td>\n",
       "      <td>13.424559</td>\n",
       "      <td>-0.036342</td>\n",
       "      <td>8.692857</td>\n",
       "      <td>8.555667</td>\n",
       "      <td>0.025532</td>\n",
       "    </tr>\n",
       "  </tbody>\n",
       "</table>\n",
       "</div>"
      ],
      "text/plain": [
       "   open  high    low  close    volume asset_type       sector  log_open  \\\n",
       "0  9.16  9.27  9.000   9.05  357292.0      Stock  Industrials  2.318458   \n",
       "1  8.90  9.15  8.830   9.09  464772.0      Stock  Industrials  2.292535   \n",
       "2  8.65  8.92  8.630   8.83  565275.0      Stock  Industrials  2.266958   \n",
       "3  8.29  8.59  8.252   8.53  379352.0      Stock  Industrials  2.228939   \n",
       "4  8.35  8.39  8.090   8.22  676412.0      Stock  Industrials  2.235376   \n",
       "\n",
       "   log_high   log_low  log_close  log_volume  daily_return      ma_7  \\\n",
       "0  2.329227  2.302585   2.307573   12.786311      0.047454  8.635714   \n",
       "1  2.317474  2.285439   2.311545   13.049304      0.004420  8.678571   \n",
       "2  2.294553  2.264883   2.285439   13.245069     -0.028603  8.687143   \n",
       "3  2.260721  2.224840   2.254445   12.846222     -0.033975  8.700000   \n",
       "4  2.239645  2.207175   2.221375   13.424559     -0.036342  8.692857   \n",
       "\n",
       "      ma_30  rolling_volatility  \n",
       "0  8.494667            0.025626  \n",
       "1  8.521000            0.024372  \n",
       "2  8.538667            0.025057  \n",
       "3  8.546333            0.025920  \n",
       "4  8.555667            0.025532  "
      ]
     },
     "execution_count": 83,
     "metadata": {},
     "output_type": "execute_result"
    }
   ],
   "source": [
    "sliced_df.head()"
   ]
  },
  {
   "cell_type": "code",
   "execution_count": 97,
   "metadata": {},
   "outputs": [],
   "source": [
    "open_ = np.array(sliced_df['open'])\n",
    "high = np.array(sliced_df['high'])\n",
    "low = np.array(sliced_df['low'])\n",
    "close = np.array(sliced_df['close'])\n",
    "volume = np.array(sliced_df['volume'])"
   ]
  },
  {
   "cell_type": "code",
   "execution_count": 98,
   "metadata": {},
   "outputs": [],
   "source": [
    "# Obtaining the features in the form of numpy arrays\n",
    "log_open = np.array(sliced_df['log_open'])\n",
    "log_high = np.array(sliced_df['log_high'])\n",
    "log_low = np.array(sliced_df['log_low'])\n",
    "log_close = np.array(sliced_df['log_close'])\n",
    "log_volume = np.array(sliced_df['log_volume'])\n",
    "daily_returns = np.array(sliced_df['daily_return'])"
   ]
  },
  {
   "cell_type": "code",
   "execution_count": 99,
   "metadata": {},
   "outputs": [
    {
     "data": {
      "image/png": "[encoded data removed]",
      "text/plain": [
       "<Figure size 640x480 with 1 Axes>"
      ]
     },
     "metadata": {},
     "output_type": "display_data"
    }
   ],
   "source": [
    "# Plotting the last 200 values\n",
    "plt.plot(log_open[-200:])\n",
    "\n",
    "# Setting the x-axis label\n",
    "plt.xlabel('time')\n",
    "\n",
    "# Setting the y-axis label\n",
    "plt.ylabel('log(open) values')\n",
    "\n",
    "# Setting the title of the plot\n",
    "plt.title('log(open) variation with time')\n",
    "plt.show()"
   ]
  },
  {
   "cell_type": "code",
   "execution_count": 100,
   "metadata": {},
   "outputs": [
    {
     "data": {
      "image/png": "[encoded data removed]",
      "text/plain": [
       "<Figure size 640x480 with 1 Axes>"
      ]
     },
     "metadata": {},
     "output_type": "display_data"
    }
   ],
   "source": [
    "# Plotting the last 200 values\n",
    "plt.plot(log_high[-200:])\n",
    "\n",
    "# Setting the x-axis label\n",
    "plt.xlabel('time')\n",
    "\n",
    "# Setting the y-axis label\n",
    "plt.ylabel('log(high) values')\n",
    "\n",
    "# Setting the title of the plot\n",
    "plt.title('log(high) variation with time')\n",
    "\n",
    "plt.show()"
   ]
  },
  {
   "cell_type": "code",
   "execution_count": 101,
   "metadata": {},
   "outputs": [
    {
     "data": {
      "image/png": "[encoded data removed]",
      "text/plain": [
       "<Figure size 640x480 with 1 Axes>"
      ]
     },
     "metadata": {},
     "output_type": "display_data"
    }
   ],
   "source": [
    "# Plotting the last 200 values\n",
    "plt.plot(log_low[-200:])\n",
    "\n",
    "# Setting the x-axis label\n",
    "plt.xlabel('time')\n",
    "\n",
    "# Setting the y-axis label\n",
    "plt.ylabel('log(low) values')\n",
    "\n",
    "# Setting the title of the plot\n",
    "plt.title('log(low) variation with time')\n",
    "\n",
    "plt.show()"
   ]
  },
  {
   "cell_type": "code",
   "execution_count": 102,
   "metadata": {},
   "outputs": [
    {
     "data": {
      "image/png": "[encoded data removed]",
      "text/plain": [
       "<Figure size 640x480 with 1 Axes>"
      ]
     },
     "metadata": {},
     "output_type": "display_data"
    }
   ],
   "source": [
    "# Plotting the last 200 values\n",
    "plt.plot(log_close[-200:])\n",
    "\n",
    "# Setting the x-axis label\n",
    "plt.xlabel('time')\n",
    "\n",
    "# Setting the y-axis label\n",
    "plt.ylabel('log(close) values')\n",
    "\n",
    "# Setting the title of the plot\n",
    "plt.title('log(close) variation with time')\n",
    "\n",
    "plt.show()"
   ]
  },
  {
   "cell_type": "code",
   "execution_count": 103,
   "metadata": {},
   "outputs": [
    {
     "data": {
      "image/png": "[encoded data removed]",
      "text/plain": [
       "<Figure size 640x480 with 1 Axes>"
      ]
     },
     "metadata": {},
     "output_type": "display_data"
    }
   ],
   "source": [
    "# Plotting the last 30 values\n",
    "plt.plot(log_volume[-30:])\n",
    "\n",
    "# Setting the x-axis label\n",
    "plt.xlabel('time')\n",
    "\n",
    "# Setting the y-axis label\n",
    "plt.ylabel('log(volume) values')\n",
    "\n",
    "# Setting the title of the plot\n",
    "plt.title('log(volume) variation with time')\n",
    "\n",
    "plt.show()"
   ]
  },
  {
   "cell_type": "code",
   "execution_count": 104,
   "metadata": {},
   "outputs": [
    {
     "data": {
      "image/png": "[encoded data removed]",
      "text/plain": [
       "<Figure size 640x480 with 1 Axes>"
      ]
     },
     "metadata": {},
     "output_type": "display_data"
    }
   ],
   "source": [
    "# Plotting the last 30 values\n",
    "plt.plot(daily_returns[-30:])\n",
    "\n",
    "# Setting the x-axis label\n",
    "plt.xlabel('time')\n",
    "\n",
    "# Setting the y-axis label\n",
    "plt.ylabel('daily return values')\n",
    "\n",
    "# Setting the title of the plot\n",
    "plt.title('daily return variation with time')\n",
    "\n",
    "plt.show()"
   ]
  },
  {
   "cell_type": "markdown",
   "metadata": {},
   "source": [
    "This is real world data so these curves are not perfectly smooth. Let's still try to fit a curve to these variables."
   ]
  },
  {
   "cell_type": "markdown",
   "metadata": {},
   "source": [
    "Using Cubic Interpolation to predict the next value of these variables"
   ]
  },
  {
   "cell_type": "code",
   "execution_count": 105,
   "metadata": {},
   "outputs": [],
   "source": [
    "from scipy.interpolate import CubicSpline\n",
    "import numpy as np\n",
    "import matplotlib.pyplot as plt\n",
    "from sklearn.metrics import r2_score"
   ]
  },
  {
   "cell_type": "code",
   "execution_count": 106,
   "metadata": {},
   "outputs": [],
   "source": [
    "def get_function(array):\n",
    "    '''\n",
    "    This function takes in the sequential array as the input\n",
    "    It fits the Cubic Spline over that, we are essentially interpolating the curve \n",
    "    Then it returns the fitted function and the r2_score\n",
    "    '''\n",
    "    f = CubicSpline(np.arange(0, len(array)), array, bc_type='natural')\n",
    "    y_pred = f(np.arange(0, len(array)))\n",
    "    return f, r2_score(array, y_pred)\n",
    "    "
   ]
  },
  {
   "cell_type": "code",
   "execution_count": 107,
   "metadata": {},
   "outputs": [
    {
     "data": {
      "text/plain": [
       "1.0"
      ]
     },
     "execution_count": 107,
     "metadata": {},
     "output_type": "execute_result"
    }
   ],
   "source": [
    "get_function(daily_returns)[1]"
   ]
  },
  {
   "cell_type": "code",
   "execution_count": 108,
   "metadata": {},
   "outputs": [
    {
     "name": "stdout",
     "output_type": "stream",
     "text": [
      "Interpolated functions with their R2_Score\n",
      "------------------------------------------\n",
      "open: 1.0\n",
      "high: 1.0\n",
      "low: 1.0\n",
      "close: 1.0\n",
      "volume: 1.0\n",
      "log_open: 1.0\n",
      "log_high: 1.0\n",
      "log_low: 1.0\n",
      "log_close: 1.0\n",
      "log_volume: 1.0\n",
      "daily_return: 1.0\n"
     ]
    }
   ],
   "source": [
    "print('Interpolated functions with their R2_Score')\n",
    "print('------------------------------------------')\n",
    "names = ['open', 'high', 'low', 'close', 'volume', 'log_open', 'log_high', 'log_low', 'log_close', 'log_volume', 'daily_return']\n",
    "\n",
    "i = 0\n",
    "for array in [open_, high, low, close, volume, log_open, log_high, log_low, log_close, log_volume, daily_returns]:\n",
    "    print(names[i] + ': ' + str(get_function(array)[1]))\n",
    "    i+=1\n",
    "\n"
   ]
  },
  {
   "cell_type": "markdown",
   "metadata": {},
   "source": [
    "-------"
   ]
  },
  {
   "cell_type": "markdown",
   "metadata": {},
   "source": [
    "**Approach**\n",
    "\n",
    "- We will obtain data for n randomly selected sectors\n",
    "- We will fit the Cubic Spline and interpolate over the daily_return variable\n",
    "- Then we will predict the daily_return for the next 100 timestamps and take the mean of that\n",
    "- We will select n sectors randomly 10 times and do this\n",
    "- After that, we will plot 10 means of daily returns predicted by our function \n",
    "- This will help us understand the variation of daily returns as we diversify our portfolio"
   ]
  },
  {
   "cell_type": "code",
   "execution_count": 109,
   "metadata": {},
   "outputs": [
    {
     "data": {
      "text/plain": [
       "['',\n",
       " 'Utilities',\n",
       " 'Technology',\n",
       " 'Consumer Cyclical',\n",
       " 'Basic Materials',\n",
       " 'REAL ESTATE & CONSTRUCTION',\n",
       " 'Energy',\n",
       " 'Consumer Defensive',\n",
       " 'FINANCE',\n",
       " 'Financial Services',\n",
       " 'LIFE SCIENCES',\n",
       " 'TRADE & SERVICES',\n",
       " 'Healthcare',\n",
       " 'Industrials',\n",
       " 'MANUFACTURING',\n",
       " 'TECHNOLOGY',\n",
       " 'Communication Services',\n",
       " 'Real Estate',\n",
       " 'ENERGY & TRANSPORTATION']"
      ]
     },
     "execution_count": 109,
     "metadata": {},
     "output_type": "execute_result"
    }
   ],
   "source": [
    "# Here are all the sectors\n",
    "sectors = list(set(sliced_df.sector))\n",
    "sectors"
   ]
  },
  {
   "cell_type": "code",
   "execution_count": 110,
   "metadata": {},
   "outputs": [],
   "source": [
    "def predicted_returns(no_of_sectors):\n",
    "    '''\n",
    "    This function takes in the number of sectors as 'n'\n",
    "    It generates 10 randomly selected n sectors \n",
    "    Then it gets the rows from the dataframe which belong to those sectors\n",
    "    Then it obtain the daily returns for those sectors\n",
    "    \n",
    "    Using those returns, we fit the Cubic Spline function using the get_function() method\n",
    "    Using the fitted function, we predict the daily returns for the next 100 timestamps and then we take the mean of that\n",
    "    \n",
    "    Since we generated n random sectors 10 times, we get 10 means as our output\n",
    "    '''\n",
    "    \n",
    "    # Creating a list of lists\n",
    "    # wherein each list is n randomly selected sectors\n",
    "    s = [random.sample(sectors, no_of_sectors) for i in range(10)]\n",
    "    \n",
    "    # Initialisng a list to store the mean of returns\n",
    "    means = []\n",
    "    \n",
    "    for sector in s:\n",
    "        \n",
    "        df_temp = sliced_df[sliced_df.sector.isin(sector)]\n",
    "        \n",
    "        returns = daily_returns[sliced_df.sector.isin(sector)]\n",
    "        \n",
    "        f, score = get_function(returns)\n",
    "    \n",
    "        # Predict for the next 100 timestamps\n",
    "        timestamps = np.arange(len(returns), len(returns)+100)\n",
    "        y_pred = f(timestamps)\n",
    "        \n",
    "        # Appending the mean of the returns\n",
    "        means.append(y_pred.mean())\n",
    "    \n",
    "    return sum(means)/len(means)\n",
    "    \n"
   ]
  },
  {
   "cell_type": "markdown",
   "metadata": {},
   "source": [
    "When we randomly choose sectors 10 times. We can understand the estimated returns we would get for a level of diversification. Earlier we worked on our data, now we are making predictions using the cubic curves we have fit over our data."
   ]
  },
  {
   "cell_type": "code",
   "execution_count": 111,
   "metadata": {},
   "outputs": [],
   "source": [
    "j = 10\n",
    "one_sector = [predicted_returns(1) for i in range(j)]\n",
    "two_sectors = [predicted_returns(2) for i in range(j)]\n",
    "three_sectors = [predicted_returns(3) for i in range(j)]\n",
    "four_sectors = [predicted_returns(4) for i in range(j)]\n",
    "five_sectors = [predicted_returns(5) for i in range(j)]\n",
    "six_sectors = [predicted_returns(6) for i in range(j)]\n",
    "seven_sectors = [predicted_returns(7) for i in range(j)]\n",
    "eight_sectors = [predicted_returns(8) for i in range(j)]\n",
    "nine_sectors = [predicted_returns(9) for i in range(j)]\n",
    "ten_sectors = [predicted_returns(10) for i in range(j)]\n",
    "eleven_sectors = [predicted_returns(11) for i in range(j)]\n",
    "twelve_sectors = [predicted_returns(12) for i in range(j)]\n",
    "thirteen_sectors = [predicted_returns(13) for i in range(j)]\n",
    "fourteen_sectors = [predicted_returns(14) for i in range(j)]\n",
    "fifteen_sectors = [predicted_returns(15) for i in range(j)]\n",
    "sixteen_sectors = [predicted_returns(16) for i in range(j)]\n",
    "seventeen_sectors = [predicted_returns(17) for i in range(j)]\n",
    "eighteen_sectors = [predicted_returns(18) for i in range(j)]"
   ]
  },
  {
   "cell_type": "code",
   "execution_count": 112,
   "metadata": {},
   "outputs": [
    {
     "data": {
      "text/html": [
       "<div>\n",
       "<style scoped>\n",
       "    .dataframe tbody tr th:only-of-type {\n",
       "        vertical-align: middle;\n",
       "    }\n",
       "\n",
       "    .dataframe tbody tr th {\n",
       "        vertical-align: top;\n",
       "    }\n",
       "\n",
       "    .dataframe thead th {\n",
       "        text-align: right;\n",
       "    }\n",
       "</style>\n",
       "<table border=\"1\" class=\"dataframe\">\n",
       "  <thead>\n",
       "    <tr style=\"text-align: right;\">\n",
       "      <th></th>\n",
       "      <th>1</th>\n",
       "      <th>2</th>\n",
       "      <th>3</th>\n",
       "      <th>4</th>\n",
       "      <th>5</th>\n",
       "      <th>6</th>\n",
       "      <th>7</th>\n",
       "      <th>8</th>\n",
       "      <th>9</th>\n",
       "      <th>10</th>\n",
       "      <th>11</th>\n",
       "      <th>12</th>\n",
       "      <th>13</th>\n",
       "      <th>14</th>\n",
       "      <th>15</th>\n",
       "      <th>16</th>\n",
       "      <th>17</th>\n",
       "      <th>18</th>\n",
       "    </tr>\n",
       "  </thead>\n",
       "  <tbody>\n",
       "    <tr>\n",
       "      <th>0</th>\n",
       "      <td>1887.482697</td>\n",
       "      <td>-3489.720076</td>\n",
       "      <td>-4159.064550</td>\n",
       "      <td>-4296.079654</td>\n",
       "      <td>-6906.246685</td>\n",
       "      <td>-6685.001204</td>\n",
       "      <td>-5296.592898</td>\n",
       "      <td>-4918.071488</td>\n",
       "      <td>-4396.292022</td>\n",
       "      <td>-4718.064117</td>\n",
       "      <td>-4995.794599</td>\n",
       "      <td>-5285.058990</td>\n",
       "      <td>-5894.001454</td>\n",
       "      <td>-5894.001454</td>\n",
       "      <td>-4963.286895</td>\n",
       "      <td>-5273.525081</td>\n",
       "      <td>-4653.048709</td>\n",
       "      <td>-4653.048709</td>\n",
       "    </tr>\n",
       "    <tr>\n",
       "      <th>1</th>\n",
       "      <td>5282.999848</td>\n",
       "      <td>-7133.207878</td>\n",
       "      <td>-5389.572127</td>\n",
       "      <td>-10933.964349</td>\n",
       "      <td>-705.313258</td>\n",
       "      <td>-5916.633615</td>\n",
       "      <td>-5952.769092</td>\n",
       "      <td>-6329.196481</td>\n",
       "      <td>-5005.234486</td>\n",
       "      <td>-4685.556413</td>\n",
       "      <td>-5583.763268</td>\n",
       "      <td>-4674.022505</td>\n",
       "      <td>-4674.022505</td>\n",
       "      <td>-4674.022505</td>\n",
       "      <td>-4984.260691</td>\n",
       "      <td>-4653.048709</td>\n",
       "      <td>-4653.048709</td>\n",
       "      <td>-4653.048709</td>\n",
       "    </tr>\n",
       "    <tr>\n",
       "      <th>2</th>\n",
       "      <td>-3208.611643</td>\n",
       "      <td>4886.463910</td>\n",
       "      <td>-4407.335099</td>\n",
       "      <td>-6855.173452</td>\n",
       "      <td>-7636.033646</td>\n",
       "      <td>-3491.384819</td>\n",
       "      <td>-5916.993573</td>\n",
       "      <td>-5926.509158</td>\n",
       "      <td>-5595.297176</td>\n",
       "      <td>-4585.344044</td>\n",
       "      <td>-4095.493723</td>\n",
       "      <td>-4694.996300</td>\n",
       "      <td>-5894.001454</td>\n",
       "      <td>-5294.498877</td>\n",
       "      <td>-5894.001454</td>\n",
       "      <td>-4984.260691</td>\n",
       "      <td>-5273.525081</td>\n",
       "      <td>-4963.286895</td>\n",
       "    </tr>\n",
       "    <tr>\n",
       "      <th>3</th>\n",
       "      <td>6248.486446</td>\n",
       "      <td>-6096.392726</td>\n",
       "      <td>-2156.678152</td>\n",
       "      <td>-115.399312</td>\n",
       "      <td>-6611.124468</td>\n",
       "      <td>-3755.497767</td>\n",
       "      <td>-5751.009367</td>\n",
       "      <td>-5561.615677</td>\n",
       "      <td>-5088.243736</td>\n",
       "      <td>-5786.443219</td>\n",
       "      <td>-4984.260691</td>\n",
       "      <td>-5294.498877</td>\n",
       "      <td>-6204.239640</td>\n",
       "      <td>-4963.286895</td>\n",
       "      <td>-5273.525081</td>\n",
       "      <td>-5273.525081</td>\n",
       "      <td>-4653.048709</td>\n",
       "      <td>-4963.286895</td>\n",
       "    </tr>\n",
       "    <tr>\n",
       "      <th>4</th>\n",
       "      <td>-2191.661807</td>\n",
       "      <td>-4272.282991</td>\n",
       "      <td>-7832.898785</td>\n",
       "      <td>-7820.931920</td>\n",
       "      <td>-8314.917699</td>\n",
       "      <td>-8536.334522</td>\n",
       "      <td>-5051.370120</td>\n",
       "      <td>-2573.487505</td>\n",
       "      <td>-4984.260691</td>\n",
       "      <td>-5561.615677</td>\n",
       "      <td>-5315.472673</td>\n",
       "      <td>-4986.354712</td>\n",
       "      <td>-5294.498877</td>\n",
       "      <td>-4086.053836</td>\n",
       "      <td>-5273.525081</td>\n",
       "      <td>-5273.525081</td>\n",
       "      <td>-4653.048709</td>\n",
       "      <td>-4653.048709</td>\n",
       "    </tr>\n",
       "  </tbody>\n",
       "</table>\n",
       "</div>"
      ],
      "text/plain": [
       "             1            2            3             4            5  \\\n",
       "0  1887.482697 -3489.720076 -4159.064550  -4296.079654 -6906.246685   \n",
       "1  5282.999848 -7133.207878 -5389.572127 -10933.964349  -705.313258   \n",
       "2 -3208.611643  4886.463910 -4407.335099  -6855.173452 -7636.033646   \n",
       "3  6248.486446 -6096.392726 -2156.678152   -115.399312 -6611.124468   \n",
       "4 -2191.661807 -4272.282991 -7832.898785  -7820.931920 -8314.917699   \n",
       "\n",
       "             6            7            8            9           10  \\\n",
       "0 -6685.001204 -5296.592898 -4918.071488 -4396.292022 -4718.064117   \n",
       "1 -5916.633615 -5952.769092 -6329.196481 -5005.234486 -4685.556413   \n",
       "2 -3491.384819 -5916.993573 -5926.509158 -5595.297176 -4585.344044   \n",
       "3 -3755.497767 -5751.009367 -5561.615677 -5088.243736 -5786.443219   \n",
       "4 -8536.334522 -5051.370120 -2573.487505 -4984.260691 -5561.615677   \n",
       "\n",
       "            11           12           13           14           15  \\\n",
       "0 -4995.794599 -5285.058990 -5894.001454 -5894.001454 -4963.286895   \n",
       "1 -5583.763268 -4674.022505 -4674.022505 -4674.022505 -4984.260691   \n",
       "2 -4095.493723 -4694.996300 -5894.001454 -5294.498877 -5894.001454   \n",
       "3 -4984.260691 -5294.498877 -6204.239640 -4963.286895 -5273.525081   \n",
       "4 -5315.472673 -4986.354712 -5294.498877 -4086.053836 -5273.525081   \n",
       "\n",
       "            16           17           18  \n",
       "0 -5273.525081 -4653.048709 -4653.048709  \n",
       "1 -4653.048709 -4653.048709 -4653.048709  \n",
       "2 -4984.260691 -5273.525081 -4963.286895  \n",
       "3 -5273.525081 -4653.048709 -4963.286895  \n",
       "4 -5273.525081 -4653.048709 -4653.048709  "
      ]
     },
     "execution_count": 112,
     "metadata": {},
     "output_type": "execute_result"
    }
   ],
   "source": [
    "temp = pd.DataFrame({'1': one_sector, '2':two_sectors, '3':three_sectors,\n",
    "                     '4': four_sectors, '5':five_sectors, '6':six_sectors,\n",
    "                     '7': seven_sectors, '8':eight_sectors, '9':nine_sectors,\n",
    "                     '10': ten_sectors, '11':eleven_sectors, '12':twelve_sectors,\n",
    "                     '13': thirteen_sectors, '14': fourteen_sectors, '15': fifteen_sectors,\n",
    "                     '16': sixteen_sectors, '17': seventeen_sectors, '18': eighteen_sectors\n",
    "                    })\n",
    "temp.head()"
   ]
  },
  {
   "cell_type": "code",
   "execution_count": 113,
   "metadata": {},
   "outputs": [
    {
     "data": {
      "text/html": [
       "<div>\n",
       "<style scoped>\n",
       "    .dataframe tbody tr th:only-of-type {\n",
       "        vertical-align: middle;\n",
       "    }\n",
       "\n",
       "    .dataframe tbody tr th {\n",
       "        vertical-align: top;\n",
       "    }\n",
       "\n",
       "    .dataframe thead th {\n",
       "        text-align: right;\n",
       "    }\n",
       "</style>\n",
       "<table border=\"1\" class=\"dataframe\">\n",
       "  <thead>\n",
       "    <tr style=\"text-align: right;\">\n",
       "      <th></th>\n",
       "      <th>1</th>\n",
       "      <th>2</th>\n",
       "      <th>3</th>\n",
       "      <th>4</th>\n",
       "      <th>5</th>\n",
       "      <th>6</th>\n",
       "      <th>7</th>\n",
       "      <th>8</th>\n",
       "      <th>9</th>\n",
       "      <th>10</th>\n",
       "      <th>11</th>\n",
       "      <th>12</th>\n",
       "      <th>13</th>\n",
       "      <th>14</th>\n",
       "      <th>15</th>\n",
       "      <th>16</th>\n",
       "      <th>17</th>\n",
       "      <th>18</th>\n",
       "    </tr>\n",
       "  </thead>\n",
       "  <tbody>\n",
       "    <tr>\n",
       "      <th>0</th>\n",
       "      <td>1887.482697</td>\n",
       "      <td>-3489.720076</td>\n",
       "      <td>-4159.064550</td>\n",
       "      <td>-4296.079654</td>\n",
       "      <td>-6906.246685</td>\n",
       "      <td>-6685.001204</td>\n",
       "      <td>-5296.592898</td>\n",
       "      <td>-4918.071488</td>\n",
       "      <td>-4396.292022</td>\n",
       "      <td>-4718.064117</td>\n",
       "      <td>-4995.794599</td>\n",
       "      <td>-5285.058990</td>\n",
       "      <td>-5894.001454</td>\n",
       "      <td>-5894.001454</td>\n",
       "      <td>-4963.286895</td>\n",
       "      <td>-5273.525081</td>\n",
       "      <td>-4653.048709</td>\n",
       "      <td>-4653.048709</td>\n",
       "    </tr>\n",
       "    <tr>\n",
       "      <th>1</th>\n",
       "      <td>5282.999848</td>\n",
       "      <td>-7133.207878</td>\n",
       "      <td>-5389.572127</td>\n",
       "      <td>-10933.964349</td>\n",
       "      <td>-705.313258</td>\n",
       "      <td>-5916.633615</td>\n",
       "      <td>-5952.769092</td>\n",
       "      <td>-6329.196481</td>\n",
       "      <td>-5005.234486</td>\n",
       "      <td>-4685.556413</td>\n",
       "      <td>-5583.763268</td>\n",
       "      <td>-4674.022505</td>\n",
       "      <td>-4674.022505</td>\n",
       "      <td>-4674.022505</td>\n",
       "      <td>-4984.260691</td>\n",
       "      <td>-4653.048709</td>\n",
       "      <td>-4653.048709</td>\n",
       "      <td>-4653.048709</td>\n",
       "    </tr>\n",
       "    <tr>\n",
       "      <th>2</th>\n",
       "      <td>-3208.611643</td>\n",
       "      <td>4886.463910</td>\n",
       "      <td>-4407.335099</td>\n",
       "      <td>-6855.173452</td>\n",
       "      <td>-7636.033646</td>\n",
       "      <td>-3491.384819</td>\n",
       "      <td>-5916.993573</td>\n",
       "      <td>-5926.509158</td>\n",
       "      <td>-5595.297176</td>\n",
       "      <td>-4585.344044</td>\n",
       "      <td>-4095.493723</td>\n",
       "      <td>-4694.996300</td>\n",
       "      <td>-5894.001454</td>\n",
       "      <td>-5294.498877</td>\n",
       "      <td>-5894.001454</td>\n",
       "      <td>-4984.260691</td>\n",
       "      <td>-5273.525081</td>\n",
       "      <td>-4963.286895</td>\n",
       "    </tr>\n",
       "    <tr>\n",
       "      <th>3</th>\n",
       "      <td>6248.486446</td>\n",
       "      <td>-6096.392726</td>\n",
       "      <td>-2156.678152</td>\n",
       "      <td>-115.399312</td>\n",
       "      <td>-6611.124468</td>\n",
       "      <td>-3755.497767</td>\n",
       "      <td>-5751.009367</td>\n",
       "      <td>-5561.615677</td>\n",
       "      <td>-5088.243736</td>\n",
       "      <td>-5786.443219</td>\n",
       "      <td>-4984.260691</td>\n",
       "      <td>-5294.498877</td>\n",
       "      <td>-6204.239640</td>\n",
       "      <td>-4963.286895</td>\n",
       "      <td>-5273.525081</td>\n",
       "      <td>-5273.525081</td>\n",
       "      <td>-4653.048709</td>\n",
       "      <td>-4963.286895</td>\n",
       "    </tr>\n",
       "    <tr>\n",
       "      <th>4</th>\n",
       "      <td>-2191.661807</td>\n",
       "      <td>-4272.282991</td>\n",
       "      <td>-7832.898785</td>\n",
       "      <td>-7820.931920</td>\n",
       "      <td>-8314.917699</td>\n",
       "      <td>-8536.334522</td>\n",
       "      <td>-5051.370120</td>\n",
       "      <td>-2573.487505</td>\n",
       "      <td>-4984.260691</td>\n",
       "      <td>-5561.615677</td>\n",
       "      <td>-5315.472673</td>\n",
       "      <td>-4986.354712</td>\n",
       "      <td>-5294.498877</td>\n",
       "      <td>-4086.053836</td>\n",
       "      <td>-5273.525081</td>\n",
       "      <td>-5273.525081</td>\n",
       "      <td>-4653.048709</td>\n",
       "      <td>-4653.048709</td>\n",
       "    </tr>\n",
       "    <tr>\n",
       "      <th>5</th>\n",
       "      <td>-5374.670967</td>\n",
       "      <td>4850.846847</td>\n",
       "      <td>-6126.370349</td>\n",
       "      <td>-1829.947610</td>\n",
       "      <td>-4719.740772</td>\n",
       "      <td>-5175.936826</td>\n",
       "      <td>-4897.676252</td>\n",
       "      <td>-4918.071488</td>\n",
       "      <td>-7493.873686</td>\n",
       "      <td>-4694.996300</td>\n",
       "      <td>-6215.773548</td>\n",
       "      <td>-5583.763268</td>\n",
       "      <td>-5273.525081</td>\n",
       "      <td>-4363.784318</td>\n",
       "      <td>-6204.239640</td>\n",
       "      <td>-4963.286895</td>\n",
       "      <td>-4963.286895</td>\n",
       "      <td>-4963.286895</td>\n",
       "    </tr>\n",
       "    <tr>\n",
       "      <th>6</th>\n",
       "      <td>230.745547</td>\n",
       "      <td>-5281.031904</td>\n",
       "      <td>-3533.682635</td>\n",
       "      <td>-4605.475201</td>\n",
       "      <td>-9538.445263</td>\n",
       "      <td>-6671.637589</td>\n",
       "      <td>-5559.521656</td>\n",
       "      <td>-5648.778675</td>\n",
       "      <td>-5795.883106</td>\n",
       "      <td>-4095.493723</td>\n",
       "      <td>-4995.794599</td>\n",
       "      <td>-5315.472673</td>\n",
       "      <td>-5273.525081</td>\n",
       "      <td>-5273.525081</td>\n",
       "      <td>-5273.525081</td>\n",
       "      <td>-4653.048709</td>\n",
       "      <td>-4653.048709</td>\n",
       "      <td>-4653.048709</td>\n",
       "    </tr>\n",
       "    <tr>\n",
       "      <th>7</th>\n",
       "      <td>-4243.437036</td>\n",
       "      <td>-3739.470480</td>\n",
       "      <td>-3785.919963</td>\n",
       "      <td>-4073.346133</td>\n",
       "      <td>-4109.444411</td>\n",
       "      <td>-3706.358632</td>\n",
       "      <td>-5886.579890</td>\n",
       "      <td>-4116.467519</td>\n",
       "      <td>-6338.636368</td>\n",
       "      <td>-4396.292022</td>\n",
       "      <td>-5273.525081</td>\n",
       "      <td>-5294.498877</td>\n",
       "      <td>-4653.048709</td>\n",
       "      <td>-4664.582617</td>\n",
       "      <td>-5583.763268</td>\n",
       "      <td>-4963.286895</td>\n",
       "      <td>-4653.048709</td>\n",
       "      <td>-4653.048709</td>\n",
       "    </tr>\n",
       "    <tr>\n",
       "      <th>8</th>\n",
       "      <td>-2645.599403</td>\n",
       "      <td>-4141.679051</td>\n",
       "      <td>-124.661771</td>\n",
       "      <td>-6819.406446</td>\n",
       "      <td>-3552.951256</td>\n",
       "      <td>-4748.477799</td>\n",
       "      <td>-6393.633330</td>\n",
       "      <td>-5239.843583</td>\n",
       "      <td>-5327.006581</td>\n",
       "      <td>-3806.229333</td>\n",
       "      <td>-5005.234486</td>\n",
       "      <td>-5583.763268</td>\n",
       "      <td>-5294.498877</td>\n",
       "      <td>-5583.763268</td>\n",
       "      <td>-5296.592898</td>\n",
       "      <td>-5583.763268</td>\n",
       "      <td>-5273.525081</td>\n",
       "      <td>-4963.286895</td>\n",
       "    </tr>\n",
       "    <tr>\n",
       "      <th>9</th>\n",
       "      <td>-5801.995635</td>\n",
       "      <td>-1587.033029</td>\n",
       "      <td>-3715.798519</td>\n",
       "      <td>-6011.402396</td>\n",
       "      <td>-4474.679559</td>\n",
       "      <td>-7503.655241</td>\n",
       "      <td>-3995.623022</td>\n",
       "      <td>-6071.861235</td>\n",
       "      <td>-6170.558142</td>\n",
       "      <td>-4384.758114</td>\n",
       "      <td>-6514.477826</td>\n",
       "      <td>-6514.477826</td>\n",
       "      <td>-5583.763268</td>\n",
       "      <td>-4653.048709</td>\n",
       "      <td>-5894.001454</td>\n",
       "      <td>-4653.048709</td>\n",
       "      <td>-4963.286895</td>\n",
       "      <td>-4653.048709</td>\n",
       "    </tr>\n",
       "  </tbody>\n",
       "</table>\n",
       "</div>"
      ],
      "text/plain": [
       "             1            2            3             4            5  \\\n",
       "0  1887.482697 -3489.720076 -4159.064550  -4296.079654 -6906.246685   \n",
       "1  5282.999848 -7133.207878 -5389.572127 -10933.964349  -705.313258   \n",
       "2 -3208.611643  4886.463910 -4407.335099  -6855.173452 -7636.033646   \n",
       "3  6248.486446 -6096.392726 -2156.678152   -115.399312 -6611.124468   \n",
       "4 -2191.661807 -4272.282991 -7832.898785  -7820.931920 -8314.917699   \n",
       "5 -5374.670967  4850.846847 -6126.370349  -1829.947610 -4719.740772   \n",
       "6   230.745547 -5281.031904 -3533.682635  -4605.475201 -9538.445263   \n",
       "7 -4243.437036 -3739.470480 -3785.919963  -4073.346133 -4109.444411   \n",
       "8 -2645.599403 -4141.679051  -124.661771  -6819.406446 -3552.951256   \n",
       "9 -5801.995635 -1587.033029 -3715.798519  -6011.402396 -4474.679559   \n",
       "\n",
       "             6            7            8            9           10  \\\n",
       "0 -6685.001204 -5296.592898 -4918.071488 -4396.292022 -4718.064117   \n",
       "1 -5916.633615 -5952.769092 -6329.196481 -5005.234486 -4685.556413   \n",
       "2 -3491.384819 -5916.993573 -5926.509158 -5595.297176 -4585.344044   \n",
       "3 -3755.497767 -5751.009367 -5561.615677 -5088.243736 -5786.443219   \n",
       "4 -8536.334522 -5051.370120 -2573.487505 -4984.260691 -5561.615677   \n",
       "5 -5175.936826 -4897.676252 -4918.071488 -7493.873686 -4694.996300   \n",
       "6 -6671.637589 -5559.521656 -5648.778675 -5795.883106 -4095.493723   \n",
       "7 -3706.358632 -5886.579890 -4116.467519 -6338.636368 -4396.292022   \n",
       "8 -4748.477799 -6393.633330 -5239.843583 -5327.006581 -3806.229333   \n",
       "9 -7503.655241 -3995.623022 -6071.861235 -6170.558142 -4384.758114   \n",
       "\n",
       "            11           12           13           14           15  \\\n",
       "0 -4995.794599 -5285.058990 -5894.001454 -5894.001454 -4963.286895   \n",
       "1 -5583.763268 -4674.022505 -4674.022505 -4674.022505 -4984.260691   \n",
       "2 -4095.493723 -4694.996300 -5894.001454 -5294.498877 -5894.001454   \n",
       "3 -4984.260691 -5294.498877 -6204.239640 -4963.286895 -5273.525081   \n",
       "4 -5315.472673 -4986.354712 -5294.498877 -4086.053836 -5273.525081   \n",
       "5 -6215.773548 -5583.763268 -5273.525081 -4363.784318 -6204.239640   \n",
       "6 -4995.794599 -5315.472673 -5273.525081 -5273.525081 -5273.525081   \n",
       "7 -5273.525081 -5294.498877 -4653.048709 -4664.582617 -5583.763268   \n",
       "8 -5005.234486 -5583.763268 -5294.498877 -5583.763268 -5296.592898   \n",
       "9 -6514.477826 -6514.477826 -5583.763268 -4653.048709 -5894.001454   \n",
       "\n",
       "            16           17           18  \n",
       "0 -5273.525081 -4653.048709 -4653.048709  \n",
       "1 -4653.048709 -4653.048709 -4653.048709  \n",
       "2 -4984.260691 -5273.525081 -4963.286895  \n",
       "3 -5273.525081 -4653.048709 -4963.286895  \n",
       "4 -5273.525081 -4653.048709 -4653.048709  \n",
       "5 -4963.286895 -4963.286895 -4963.286895  \n",
       "6 -4653.048709 -4653.048709 -4653.048709  \n",
       "7 -4963.286895 -4653.048709 -4653.048709  \n",
       "8 -5583.763268 -5273.525081 -4963.286895  \n",
       "9 -4653.048709 -4963.286895 -4653.048709  "
      ]
     },
     "execution_count": 113,
     "metadata": {},
     "output_type": "execute_result"
    }
   ],
   "source": [
    "temp"
   ]
  },
  {
   "cell_type": "code",
   "execution_count": 114,
   "metadata": {},
   "outputs": [
    {
     "data": {
      "image/png": "[encoded data removed]",
      "text/plain": [
       "<Figure size 640x480 with 1 Axes>"
      ]
     },
     "metadata": {},
     "output_type": "display_data"
    }
   ],
   "source": [
    "# Plotting the graph\n",
    "temp.T.plot.barh(legend = False)\n",
    "\n",
    "# Setting the x-axis label\n",
    "plt.xlabel('Variation')\n",
    "\n",
    "# Setting the y-axis label\n",
    "plt.ylabel('Diversification level')\n",
    "\n",
    "# Setting the title for the plot\n",
    "plt.title('Diversification vs Variation')\n",
    "\n",
    "plt.show()"
   ]
  },
  {
   "cell_type": "markdown",
   "metadata": {},
   "source": [
    "We can see as we diversify our stocks, the variations in the daily returns reduce significantly. This is not surprising. But we can see that the variations are really high for 7 or less number of stocks. After we have 7 more stocks, the variation reduces significantly. **Therefore, 7 is the point of diminishing returns, after which additional diversification no longer significantly reduces risk.**"
   ]
  },
  {
   "cell_type": "markdown",
   "metadata": {},
   "source": [
    "### 5.2 Visualisation"
   ]
  },
  {
   "cell_type": "code",
   "execution_count": 115,
   "metadata": {
    "id": "qBOSewS_AHEN",
    "outputId": "5f7c0139-3879-479f-831f-61387fb14326"
   },
   "outputs": [
    {
     "data": {
      "text/html": [
       "<div>\n",
       "<style scoped>\n",
       "    .dataframe tbody tr th:only-of-type {\n",
       "        vertical-align: middle;\n",
       "    }\n",
       "\n",
       "    .dataframe tbody tr th {\n",
       "        vertical-align: top;\n",
       "    }\n",
       "\n",
       "    .dataframe thead th {\n",
       "        text-align: right;\n",
       "    }\n",
       "</style>\n",
       "<table border=\"1\" class=\"dataframe\">\n",
       "  <thead>\n",
       "    <tr style=\"text-align: right;\">\n",
       "      <th></th>\n",
       "      <th>id</th>\n",
       "      <th>open</th>\n",
       "      <th>high</th>\n",
       "      <th>low</th>\n",
       "      <th>close</th>\n",
       "      <th>volume</th>\n",
       "      <th>symbol</th>\n",
       "      <th>name</th>\n",
       "      <th>exchange</th>\n",
       "      <th>asset_type</th>\n",
       "      <th>sector</th>\n",
       "      <th>log_open</th>\n",
       "      <th>log_high</th>\n",
       "      <th>log_low</th>\n",
       "      <th>log_close</th>\n",
       "      <th>log_volume</th>\n",
       "      <th>daily_return</th>\n",
       "      <th>ma_7</th>\n",
       "      <th>ma_30</th>\n",
       "      <th>rolling_volatility</th>\n",
       "    </tr>\n",
       "    <tr>\n",
       "      <th>date</th>\n",
       "      <th></th>\n",
       "      <th></th>\n",
       "      <th></th>\n",
       "      <th></th>\n",
       "      <th></th>\n",
       "      <th></th>\n",
       "      <th></th>\n",
       "      <th></th>\n",
       "      <th></th>\n",
       "      <th></th>\n",
       "      <th></th>\n",
       "      <th></th>\n",
       "      <th></th>\n",
       "      <th></th>\n",
       "      <th></th>\n",
       "      <th></th>\n",
       "      <th></th>\n",
       "      <th></th>\n",
       "      <th></th>\n",
       "      <th></th>\n",
       "    </tr>\n",
       "  </thead>\n",
       "  <tbody>\n",
       "    <tr>\n",
       "      <th>2023-04-03</th>\n",
       "      <td>2957</td>\n",
       "      <td>9.16</td>\n",
       "      <td>9.27</td>\n",
       "      <td>9.000</td>\n",
       "      <td>9.05</td>\n",
       "      <td>357292.0</td>\n",
       "      <td>SMR</td>\n",
       "      <td>NuScale Power Corporation - Class A</td>\n",
       "      <td>NYSE</td>\n",
       "      <td>Stock</td>\n",
       "      <td>Industrials</td>\n",
       "      <td>2.318458</td>\n",
       "      <td>2.329227</td>\n",
       "      <td>2.302585</td>\n",
       "      <td>2.307573</td>\n",
       "      <td>12.786311</td>\n",
       "      <td>0.047454</td>\n",
       "      <td>8.635714</td>\n",
       "      <td>8.494667</td>\n",
       "      <td>0.025626</td>\n",
       "    </tr>\n",
       "    <tr>\n",
       "      <th>2023-03-31</th>\n",
       "      <td>2957</td>\n",
       "      <td>8.90</td>\n",
       "      <td>9.15</td>\n",
       "      <td>8.830</td>\n",
       "      <td>9.09</td>\n",
       "      <td>464772.0</td>\n",
       "      <td>SMR</td>\n",
       "      <td>NuScale Power Corporation - Class A</td>\n",
       "      <td>NYSE</td>\n",
       "      <td>Stock</td>\n",
       "      <td>Industrials</td>\n",
       "      <td>2.292535</td>\n",
       "      <td>2.317474</td>\n",
       "      <td>2.285439</td>\n",
       "      <td>2.311545</td>\n",
       "      <td>13.049304</td>\n",
       "      <td>0.004420</td>\n",
       "      <td>8.678571</td>\n",
       "      <td>8.521000</td>\n",
       "      <td>0.024372</td>\n",
       "    </tr>\n",
       "    <tr>\n",
       "      <th>2023-03-30</th>\n",
       "      <td>2957</td>\n",
       "      <td>8.65</td>\n",
       "      <td>8.92</td>\n",
       "      <td>8.630</td>\n",
       "      <td>8.83</td>\n",
       "      <td>565275.0</td>\n",
       "      <td>SMR</td>\n",
       "      <td>NuScale Power Corporation - Class A</td>\n",
       "      <td>NYSE</td>\n",
       "      <td>Stock</td>\n",
       "      <td>Industrials</td>\n",
       "      <td>2.266958</td>\n",
       "      <td>2.294553</td>\n",
       "      <td>2.264883</td>\n",
       "      <td>2.285439</td>\n",
       "      <td>13.245069</td>\n",
       "      <td>-0.028603</td>\n",
       "      <td>8.687143</td>\n",
       "      <td>8.538667</td>\n",
       "      <td>0.025057</td>\n",
       "    </tr>\n",
       "    <tr>\n",
       "      <th>2023-03-29</th>\n",
       "      <td>2957</td>\n",
       "      <td>8.29</td>\n",
       "      <td>8.59</td>\n",
       "      <td>8.252</td>\n",
       "      <td>8.53</td>\n",
       "      <td>379352.0</td>\n",
       "      <td>SMR</td>\n",
       "      <td>NuScale Power Corporation - Class A</td>\n",
       "      <td>NYSE</td>\n",
       "      <td>Stock</td>\n",
       "      <td>Industrials</td>\n",
       "      <td>2.228939</td>\n",
       "      <td>2.260721</td>\n",
       "      <td>2.224840</td>\n",
       "      <td>2.254445</td>\n",
       "      <td>12.846222</td>\n",
       "      <td>-0.033975</td>\n",
       "      <td>8.700000</td>\n",
       "      <td>8.546333</td>\n",
       "      <td>0.025920</td>\n",
       "    </tr>\n",
       "    <tr>\n",
       "      <th>2023-03-28</th>\n",
       "      <td>2957</td>\n",
       "      <td>8.35</td>\n",
       "      <td>8.39</td>\n",
       "      <td>8.090</td>\n",
       "      <td>8.22</td>\n",
       "      <td>676412.0</td>\n",
       "      <td>SMR</td>\n",
       "      <td>NuScale Power Corporation - Class A</td>\n",
       "      <td>NYSE</td>\n",
       "      <td>Stock</td>\n",
       "      <td>Industrials</td>\n",
       "      <td>2.235376</td>\n",
       "      <td>2.239645</td>\n",
       "      <td>2.207175</td>\n",
       "      <td>2.221375</td>\n",
       "      <td>13.424559</td>\n",
       "      <td>-0.036342</td>\n",
       "      <td>8.692857</td>\n",
       "      <td>8.555667</td>\n",
       "      <td>0.025532</td>\n",
       "    </tr>\n",
       "  </tbody>\n",
       "</table>\n",
       "</div>"
      ],
      "text/plain": [
       "              id  open  high    low  close    volume symbol  \\\n",
       "date                                                          \n",
       "2023-04-03  2957  9.16  9.27  9.000   9.05  357292.0    SMR   \n",
       "2023-03-31  2957  8.90  9.15  8.830   9.09  464772.0    SMR   \n",
       "2023-03-30  2957  8.65  8.92  8.630   8.83  565275.0    SMR   \n",
       "2023-03-29  2957  8.29  8.59  8.252   8.53  379352.0    SMR   \n",
       "2023-03-28  2957  8.35  8.39  8.090   8.22  676412.0    SMR   \n",
       "\n",
       "                                           name exchange asset_type  \\\n",
       "date                                                                  \n",
       "2023-04-03  NuScale Power Corporation - Class A     NYSE      Stock   \n",
       "2023-03-31  NuScale Power Corporation - Class A     NYSE      Stock   \n",
       "2023-03-30  NuScale Power Corporation - Class A     NYSE      Stock   \n",
       "2023-03-29  NuScale Power Corporation - Class A     NYSE      Stock   \n",
       "2023-03-28  NuScale Power Corporation - Class A     NYSE      Stock   \n",
       "\n",
       "                 sector  log_open  log_high   log_low  log_close  log_volume  \\\n",
       "date                                                                           \n",
       "2023-04-03  Industrials  2.318458  2.329227  2.302585   2.307573   12.786311   \n",
       "2023-03-31  Industrials  2.292535  2.317474  2.285439   2.311545   13.049304   \n",
       "2023-03-30  Industrials  2.266958  2.294553  2.264883   2.285439   13.245069   \n",
       "2023-03-29  Industrials  2.228939  2.260721  2.224840   2.254445   12.846222   \n",
       "2023-03-28  Industrials  2.235376  2.239645  2.207175   2.221375   13.424559   \n",
       "\n",
       "            daily_return      ma_7     ma_30  rolling_volatility  \n",
       "date                                                              \n",
       "2023-04-03      0.047454  8.635714  8.494667            0.025626  \n",
       "2023-03-31      0.004420  8.678571  8.521000            0.024372  \n",
       "2023-03-30     -0.028603  8.687143  8.538667            0.025057  \n",
       "2023-03-29     -0.033975  8.700000  8.546333            0.025920  \n",
       "2023-03-28     -0.036342  8.692857  8.555667            0.025532  "
      ]
     },
     "execution_count": 115,
     "metadata": {},
     "output_type": "execute_result"
    }
   ],
   "source": [
    "df.head()"
   ]
  },
  {
   "cell_type": "code",
   "execution_count": 116,
   "metadata": {
    "id": "k7YEGBw2AHEN"
   },
   "outputs": [],
   "source": [
    "# Setting to option to show all the columns and rows\n",
    "pd.set_option('display.max_columns', None)\n",
    "pd.set_option('display.max_rows', None)"
   ]
  },
  {
   "cell_type": "code",
   "execution_count": 117,
   "metadata": {
    "id": "ixj2ybmIAHEN",
    "outputId": "23676de6-2bdb-46be-de20-5dc51145fd29"
   },
   "outputs": [
    {
     "data": {
      "text/plain": [
       "Index(['id', 'open', 'high', 'low', 'close', 'volume', 'symbol', 'name',\n",
       "       'exchange', 'asset_type', 'sector', 'log_open', 'log_high', 'log_low',\n",
       "       'log_close', 'log_volume', 'daily_return', 'ma_7', 'ma_30',\n",
       "       'rolling_volatility'],\n",
       "      dtype='object')"
      ]
     },
     "execution_count": 117,
     "metadata": {},
     "output_type": "execute_result"
    }
   ],
   "source": [
    "# Here are the columns\n",
    "df.columns"
   ]
  },
  {
   "cell_type": "code",
   "execution_count": 119,
   "metadata": {
    "id": "Mnk75wPUAHEN",
    "outputId": "079c4be4-a562-4ebb-eb75-5d6032b57c02"
   },
   "outputs": [
    {
     "data": {
      "text/plain": [
       "id                    0.0\n",
       "open                  0.0\n",
       "high                  0.0\n",
       "low                   0.0\n",
       "close                 0.0\n",
       "volume                0.0\n",
       "symbol                0.0\n",
       "name                  0.0\n",
       "exchange              0.0\n",
       "asset_type            0.0\n",
       "sector                0.0\n",
       "log_open              0.0\n",
       "log_high              0.0\n",
       "log_low               0.0\n",
       "log_close             0.0\n",
       "log_volume            0.0\n",
       "daily_return          0.0\n",
       "ma_7                  0.0\n",
       "ma_30                 0.0\n",
       "rolling_volatility    0.0\n",
       "dtype: float64"
      ]
     },
     "execution_count": 119,
     "metadata": {},
     "output_type": "execute_result"
    }
   ],
   "source": [
    "# We have a couple of missing values which are less than 0.001%\n",
    "df.isnull().sum() / (len(df)) * 100"
   ]
  },
  {
   "cell_type": "markdown",
   "metadata": {},
   "source": [
    "Stock data is highly variable. In this case, imputing mean/median or using some model to impute the missing values would be just wrong since there is too much variation. That would be adding wrong information. That's why, we are dropping these minute number of values."
   ]
  },
  {
   "cell_type": "code",
   "execution_count": 120,
   "metadata": {
    "id": "yx_zIqSXAHEN"
   },
   "outputs": [],
   "source": [
    "# Dropping missing values\n",
    "df = df.dropna()"
   ]
  },
  {
   "cell_type": "code",
   "execution_count": 121,
   "metadata": {
    "id": "dt2OcKhdAHEN",
    "outputId": "120dd79b-1dbe-4994-bffb-2ceb108db328"
   },
   "outputs": [
    {
     "data": {
      "text/plain": [
       "id                    0\n",
       "open                  0\n",
       "high                  0\n",
       "low                   0\n",
       "close                 0\n",
       "volume                0\n",
       "symbol                0\n",
       "name                  0\n",
       "exchange              0\n",
       "asset_type            0\n",
       "sector                0\n",
       "log_open              0\n",
       "log_high              0\n",
       "log_low               0\n",
       "log_close             0\n",
       "log_volume            0\n",
       "daily_return          0\n",
       "ma_7                  0\n",
       "ma_30                 0\n",
       "rolling_volatility    0\n",
       "dtype: int64"
      ]
     },
     "execution_count": 121,
     "metadata": {},
     "output_type": "execute_result"
    }
   ],
   "source": [
    "df.isnull().sum()"
   ]
  },
  {
   "cell_type": "code",
   "execution_count": 122,
   "metadata": {},
   "outputs": [
    {
     "data": {
      "text/html": [
       "<div>\n",
       "<style scoped>\n",
       "    .dataframe tbody tr th:only-of-type {\n",
       "        vertical-align: middle;\n",
       "    }\n",
       "\n",
       "    .dataframe tbody tr th {\n",
       "        vertical-align: top;\n",
       "    }\n",
       "\n",
       "    .dataframe thead th {\n",
       "        text-align: right;\n",
       "    }\n",
       "</style>\n",
       "<table border=\"1\" class=\"dataframe\">\n",
       "  <thead>\n",
       "    <tr style=\"text-align: right;\">\n",
       "      <th></th>\n",
       "      <th>id</th>\n",
       "      <th>open</th>\n",
       "      <th>high</th>\n",
       "      <th>low</th>\n",
       "      <th>close</th>\n",
       "      <th>volume</th>\n",
       "      <th>symbol</th>\n",
       "      <th>name</th>\n",
       "      <th>exchange</th>\n",
       "      <th>asset_type</th>\n",
       "      <th>sector</th>\n",
       "      <th>log_open</th>\n",
       "      <th>log_high</th>\n",
       "      <th>log_low</th>\n",
       "      <th>log_close</th>\n",
       "      <th>log_volume</th>\n",
       "      <th>daily_return</th>\n",
       "      <th>ma_7</th>\n",
       "      <th>ma_30</th>\n",
       "      <th>rolling_volatility</th>\n",
       "    </tr>\n",
       "    <tr>\n",
       "      <th>date</th>\n",
       "      <th></th>\n",
       "      <th></th>\n",
       "      <th></th>\n",
       "      <th></th>\n",
       "      <th></th>\n",
       "      <th></th>\n",
       "      <th></th>\n",
       "      <th></th>\n",
       "      <th></th>\n",
       "      <th></th>\n",
       "      <th></th>\n",
       "      <th></th>\n",
       "      <th></th>\n",
       "      <th></th>\n",
       "      <th></th>\n",
       "      <th></th>\n",
       "      <th></th>\n",
       "      <th></th>\n",
       "      <th></th>\n",
       "      <th></th>\n",
       "    </tr>\n",
       "  </thead>\n",
       "  <tbody>\n",
       "    <tr>\n",
       "      <th>2023-04-03</th>\n",
       "      <td>2957</td>\n",
       "      <td>9.16</td>\n",
       "      <td>9.27</td>\n",
       "      <td>9.000</td>\n",
       "      <td>9.05</td>\n",
       "      <td>357292.0</td>\n",
       "      <td>SMR</td>\n",
       "      <td>NuScale Power Corporation - Class A</td>\n",
       "      <td>NYSE</td>\n",
       "      <td>Stock</td>\n",
       "      <td>Industrials</td>\n",
       "      <td>2.318458</td>\n",
       "      <td>2.329227</td>\n",
       "      <td>2.302585</td>\n",
       "      <td>2.307573</td>\n",
       "      <td>12.786311</td>\n",
       "      <td>0.047454</td>\n",
       "      <td>8.635714</td>\n",
       "      <td>8.494667</td>\n",
       "      <td>0.025626</td>\n",
       "    </tr>\n",
       "    <tr>\n",
       "      <th>2023-03-31</th>\n",
       "      <td>2957</td>\n",
       "      <td>8.90</td>\n",
       "      <td>9.15</td>\n",
       "      <td>8.830</td>\n",
       "      <td>9.09</td>\n",
       "      <td>464772.0</td>\n",
       "      <td>SMR</td>\n",
       "      <td>NuScale Power Corporation - Class A</td>\n",
       "      <td>NYSE</td>\n",
       "      <td>Stock</td>\n",
       "      <td>Industrials</td>\n",
       "      <td>2.292535</td>\n",
       "      <td>2.317474</td>\n",
       "      <td>2.285439</td>\n",
       "      <td>2.311545</td>\n",
       "      <td>13.049304</td>\n",
       "      <td>0.004420</td>\n",
       "      <td>8.678571</td>\n",
       "      <td>8.521000</td>\n",
       "      <td>0.024372</td>\n",
       "    </tr>\n",
       "    <tr>\n",
       "      <th>2023-03-30</th>\n",
       "      <td>2957</td>\n",
       "      <td>8.65</td>\n",
       "      <td>8.92</td>\n",
       "      <td>8.630</td>\n",
       "      <td>8.83</td>\n",
       "      <td>565275.0</td>\n",
       "      <td>SMR</td>\n",
       "      <td>NuScale Power Corporation - Class A</td>\n",
       "      <td>NYSE</td>\n",
       "      <td>Stock</td>\n",
       "      <td>Industrials</td>\n",
       "      <td>2.266958</td>\n",
       "      <td>2.294553</td>\n",
       "      <td>2.264883</td>\n",
       "      <td>2.285439</td>\n",
       "      <td>13.245069</td>\n",
       "      <td>-0.028603</td>\n",
       "      <td>8.687143</td>\n",
       "      <td>8.538667</td>\n",
       "      <td>0.025057</td>\n",
       "    </tr>\n",
       "    <tr>\n",
       "      <th>2023-03-29</th>\n",
       "      <td>2957</td>\n",
       "      <td>8.29</td>\n",
       "      <td>8.59</td>\n",
       "      <td>8.252</td>\n",
       "      <td>8.53</td>\n",
       "      <td>379352.0</td>\n",
       "      <td>SMR</td>\n",
       "      <td>NuScale Power Corporation - Class A</td>\n",
       "      <td>NYSE</td>\n",
       "      <td>Stock</td>\n",
       "      <td>Industrials</td>\n",
       "      <td>2.228939</td>\n",
       "      <td>2.260721</td>\n",
       "      <td>2.224840</td>\n",
       "      <td>2.254445</td>\n",
       "      <td>12.846222</td>\n",
       "      <td>-0.033975</td>\n",
       "      <td>8.700000</td>\n",
       "      <td>8.546333</td>\n",
       "      <td>0.025920</td>\n",
       "    </tr>\n",
       "    <tr>\n",
       "      <th>2023-03-28</th>\n",
       "      <td>2957</td>\n",
       "      <td>8.35</td>\n",
       "      <td>8.39</td>\n",
       "      <td>8.090</td>\n",
       "      <td>8.22</td>\n",
       "      <td>676412.0</td>\n",
       "      <td>SMR</td>\n",
       "      <td>NuScale Power Corporation - Class A</td>\n",
       "      <td>NYSE</td>\n",
       "      <td>Stock</td>\n",
       "      <td>Industrials</td>\n",
       "      <td>2.235376</td>\n",
       "      <td>2.239645</td>\n",
       "      <td>2.207175</td>\n",
       "      <td>2.221375</td>\n",
       "      <td>13.424559</td>\n",
       "      <td>-0.036342</td>\n",
       "      <td>8.692857</td>\n",
       "      <td>8.555667</td>\n",
       "      <td>0.025532</td>\n",
       "    </tr>\n",
       "  </tbody>\n",
       "</table>\n",
       "</div>"
      ],
      "text/plain": [
       "              id  open  high    low  close    volume symbol  \\\n",
       "date                                                          \n",
       "2023-04-03  2957  9.16  9.27  9.000   9.05  357292.0    SMR   \n",
       "2023-03-31  2957  8.90  9.15  8.830   9.09  464772.0    SMR   \n",
       "2023-03-30  2957  8.65  8.92  8.630   8.83  565275.0    SMR   \n",
       "2023-03-29  2957  8.29  8.59  8.252   8.53  379352.0    SMR   \n",
       "2023-03-28  2957  8.35  8.39  8.090   8.22  676412.0    SMR   \n",
       "\n",
       "                                           name exchange asset_type  \\\n",
       "date                                                                  \n",
       "2023-04-03  NuScale Power Corporation - Class A     NYSE      Stock   \n",
       "2023-03-31  NuScale Power Corporation - Class A     NYSE      Stock   \n",
       "2023-03-30  NuScale Power Corporation - Class A     NYSE      Stock   \n",
       "2023-03-29  NuScale Power Corporation - Class A     NYSE      Stock   \n",
       "2023-03-28  NuScale Power Corporation - Class A     NYSE      Stock   \n",
       "\n",
       "                 sector  log_open  log_high   log_low  log_close  log_volume  \\\n",
       "date                                                                           \n",
       "2023-04-03  Industrials  2.318458  2.329227  2.302585   2.307573   12.786311   \n",
       "2023-03-31  Industrials  2.292535  2.317474  2.285439   2.311545   13.049304   \n",
       "2023-03-30  Industrials  2.266958  2.294553  2.264883   2.285439   13.245069   \n",
       "2023-03-29  Industrials  2.228939  2.260721  2.224840   2.254445   12.846222   \n",
       "2023-03-28  Industrials  2.235376  2.239645  2.207175   2.221375   13.424559   \n",
       "\n",
       "            daily_return      ma_7     ma_30  rolling_volatility  \n",
       "date                                                              \n",
       "2023-04-03      0.047454  8.635714  8.494667            0.025626  \n",
       "2023-03-31      0.004420  8.678571  8.521000            0.024372  \n",
       "2023-03-30     -0.028603  8.687143  8.538667            0.025057  \n",
       "2023-03-29     -0.033975  8.700000  8.546333            0.025920  \n",
       "2023-03-28     -0.036342  8.692857  8.555667            0.025532  "
      ]
     },
     "execution_count": 122,
     "metadata": {},
     "output_type": "execute_result"
    }
   ],
   "source": [
    "df.head()"
   ]
  },
  {
   "cell_type": "code",
   "execution_count": 123,
   "metadata": {
    "id": "uMcW0qU4AHEO"
   },
   "outputs": [],
   "source": [
    "sliced_df = df.drop(['id', 'symbol', 'name', 'exchange'], axis=1).copy()"
   ]
  },
  {
   "cell_type": "code",
   "execution_count": 124,
   "metadata": {
    "id": "qz2Fx_2CAHEO",
    "outputId": "6138906a-03a7-4067-b384-3a204124a08e"
   },
   "outputs": [
    {
     "data": {
      "text/html": [
       "<div>\n",
       "<style scoped>\n",
       "    .dataframe tbody tr th:only-of-type {\n",
       "        vertical-align: middle;\n",
       "    }\n",
       "\n",
       "    .dataframe tbody tr th {\n",
       "        vertical-align: top;\n",
       "    }\n",
       "\n",
       "    .dataframe thead th {\n",
       "        text-align: right;\n",
       "    }\n",
       "</style>\n",
       "<table border=\"1\" class=\"dataframe\">\n",
       "  <thead>\n",
       "    <tr style=\"text-align: right;\">\n",
       "      <th></th>\n",
       "      <th>open</th>\n",
       "      <th>high</th>\n",
       "      <th>low</th>\n",
       "      <th>close</th>\n",
       "      <th>volume</th>\n",
       "      <th>asset_type</th>\n",
       "      <th>sector</th>\n",
       "      <th>log_open</th>\n",
       "      <th>log_high</th>\n",
       "      <th>log_low</th>\n",
       "      <th>log_close</th>\n",
       "      <th>log_volume</th>\n",
       "      <th>daily_return</th>\n",
       "      <th>ma_7</th>\n",
       "      <th>ma_30</th>\n",
       "      <th>rolling_volatility</th>\n",
       "    </tr>\n",
       "    <tr>\n",
       "      <th>date</th>\n",
       "      <th></th>\n",
       "      <th></th>\n",
       "      <th></th>\n",
       "      <th></th>\n",
       "      <th></th>\n",
       "      <th></th>\n",
       "      <th></th>\n",
       "      <th></th>\n",
       "      <th></th>\n",
       "      <th></th>\n",
       "      <th></th>\n",
       "      <th></th>\n",
       "      <th></th>\n",
       "      <th></th>\n",
       "      <th></th>\n",
       "      <th></th>\n",
       "    </tr>\n",
       "  </thead>\n",
       "  <tbody>\n",
       "    <tr>\n",
       "      <th>2023-04-03</th>\n",
       "      <td>9.16</td>\n",
       "      <td>9.27</td>\n",
       "      <td>9.000</td>\n",
       "      <td>9.05</td>\n",
       "      <td>357292.0</td>\n",
       "      <td>Stock</td>\n",
       "      <td>Industrials</td>\n",
       "      <td>2.318458</td>\n",
       "      <td>2.329227</td>\n",
       "      <td>2.302585</td>\n",
       "      <td>2.307573</td>\n",
       "      <td>12.786311</td>\n",
       "      <td>0.047454</td>\n",
       "      <td>8.635714</td>\n",
       "      <td>8.494667</td>\n",
       "      <td>0.025626</td>\n",
       "    </tr>\n",
       "    <tr>\n",
       "      <th>2023-03-31</th>\n",
       "      <td>8.90</td>\n",
       "      <td>9.15</td>\n",
       "      <td>8.830</td>\n",
       "      <td>9.09</td>\n",
       "      <td>464772.0</td>\n",
       "      <td>Stock</td>\n",
       "      <td>Industrials</td>\n",
       "      <td>2.292535</td>\n",
       "      <td>2.317474</td>\n",
       "      <td>2.285439</td>\n",
       "      <td>2.311545</td>\n",
       "      <td>13.049304</td>\n",
       "      <td>0.004420</td>\n",
       "      <td>8.678571</td>\n",
       "      <td>8.521000</td>\n",
       "      <td>0.024372</td>\n",
       "    </tr>\n",
       "    <tr>\n",
       "      <th>2023-03-30</th>\n",
       "      <td>8.65</td>\n",
       "      <td>8.92</td>\n",
       "      <td>8.630</td>\n",
       "      <td>8.83</td>\n",
       "      <td>565275.0</td>\n",
       "      <td>Stock</td>\n",
       "      <td>Industrials</td>\n",
       "      <td>2.266958</td>\n",
       "      <td>2.294553</td>\n",
       "      <td>2.264883</td>\n",
       "      <td>2.285439</td>\n",
       "      <td>13.245069</td>\n",
       "      <td>-0.028603</td>\n",
       "      <td>8.687143</td>\n",
       "      <td>8.538667</td>\n",
       "      <td>0.025057</td>\n",
       "    </tr>\n",
       "    <tr>\n",
       "      <th>2023-03-29</th>\n",
       "      <td>8.29</td>\n",
       "      <td>8.59</td>\n",
       "      <td>8.252</td>\n",
       "      <td>8.53</td>\n",
       "      <td>379352.0</td>\n",
       "      <td>Stock</td>\n",
       "      <td>Industrials</td>\n",
       "      <td>2.228939</td>\n",
       "      <td>2.260721</td>\n",
       "      <td>2.224840</td>\n",
       "      <td>2.254445</td>\n",
       "      <td>12.846222</td>\n",
       "      <td>-0.033975</td>\n",
       "      <td>8.700000</td>\n",
       "      <td>8.546333</td>\n",
       "      <td>0.025920</td>\n",
       "    </tr>\n",
       "    <tr>\n",
       "      <th>2023-03-28</th>\n",
       "      <td>8.35</td>\n",
       "      <td>8.39</td>\n",
       "      <td>8.090</td>\n",
       "      <td>8.22</td>\n",
       "      <td>676412.0</td>\n",
       "      <td>Stock</td>\n",
       "      <td>Industrials</td>\n",
       "      <td>2.235376</td>\n",
       "      <td>2.239645</td>\n",
       "      <td>2.207175</td>\n",
       "      <td>2.221375</td>\n",
       "      <td>13.424559</td>\n",
       "      <td>-0.036342</td>\n",
       "      <td>8.692857</td>\n",
       "      <td>8.555667</td>\n",
       "      <td>0.025532</td>\n",
       "    </tr>\n",
       "  </tbody>\n",
       "</table>\n",
       "</div>"
      ],
      "text/plain": [
       "            open  high    low  close    volume asset_type       sector  \\\n",
       "date                                                                     \n",
       "2023-04-03  9.16  9.27  9.000   9.05  357292.0      Stock  Industrials   \n",
       "2023-03-31  8.90  9.15  8.830   9.09  464772.0      Stock  Industrials   \n",
       "2023-03-30  8.65  8.92  8.630   8.83  565275.0      Stock  Industrials   \n",
       "2023-03-29  8.29  8.59  8.252   8.53  379352.0      Stock  Industrials   \n",
       "2023-03-28  8.35  8.39  8.090   8.22  676412.0      Stock  Industrials   \n",
       "\n",
       "            log_open  log_high   log_low  log_close  log_volume  daily_return  \\\n",
       "date                                                                            \n",
       "2023-04-03  2.318458  2.329227  2.302585   2.307573   12.786311      0.047454   \n",
       "2023-03-31  2.292535  2.317474  2.285439   2.311545   13.049304      0.004420   \n",
       "2023-03-30  2.266958  2.294553  2.264883   2.285439   13.245069     -0.028603   \n",
       "2023-03-29  2.228939  2.260721  2.224840   2.254445   12.846222     -0.033975   \n",
       "2023-03-28  2.235376  2.239645  2.207175   2.221375   13.424559     -0.036342   \n",
       "\n",
       "                ma_7     ma_30  rolling_volatility  \n",
       "date                                                \n",
       "2023-04-03  8.635714  8.494667            0.025626  \n",
       "2023-03-31  8.678571  8.521000            0.024372  \n",
       "2023-03-30  8.687143  8.538667            0.025057  \n",
       "2023-03-29  8.700000  8.546333            0.025920  \n",
       "2023-03-28  8.692857  8.555667            0.025532  "
      ]
     },
     "execution_count": 124,
     "metadata": {},
     "output_type": "execute_result"
    }
   ],
   "source": [
    "sliced_df.head()"
   ]
  },
  {
   "cell_type": "code",
   "execution_count": 125,
   "metadata": {
    "id": "WpuDTO3kAHEO",
    "outputId": "114e2ba6-36da-4bcf-f9e8-3ed0fa13b51d"
   },
   "outputs": [
    {
     "data": {
      "text/html": [
       "<div>\n",
       "<style scoped>\n",
       "    .dataframe tbody tr th:only-of-type {\n",
       "        vertical-align: middle;\n",
       "    }\n",
       "\n",
       "    .dataframe tbody tr th {\n",
       "        vertical-align: top;\n",
       "    }\n",
       "\n",
       "    .dataframe thead th {\n",
       "        text-align: right;\n",
       "    }\n",
       "</style>\n",
       "<table border=\"1\" class=\"dataframe\">\n",
       "  <thead>\n",
       "    <tr style=\"text-align: right;\">\n",
       "      <th></th>\n",
       "      <th>open</th>\n",
       "      <th>high</th>\n",
       "      <th>low</th>\n",
       "      <th>close</th>\n",
       "      <th>volume</th>\n",
       "      <th>asset_type</th>\n",
       "      <th>sector</th>\n",
       "      <th>log_open</th>\n",
       "      <th>log_high</th>\n",
       "      <th>log_low</th>\n",
       "      <th>log_close</th>\n",
       "      <th>log_volume</th>\n",
       "      <th>daily_return</th>\n",
       "      <th>ma_7</th>\n",
       "      <th>ma_30</th>\n",
       "      <th>rolling_volatility</th>\n",
       "    </tr>\n",
       "  </thead>\n",
       "  <tbody>\n",
       "    <tr>\n",
       "      <th>0</th>\n",
       "      <td>9.16</td>\n",
       "      <td>9.27</td>\n",
       "      <td>9.000</td>\n",
       "      <td>9.05</td>\n",
       "      <td>357292.0</td>\n",
       "      <td>Stock</td>\n",
       "      <td>Industrials</td>\n",
       "      <td>2.318458</td>\n",
       "      <td>2.329227</td>\n",
       "      <td>2.302585</td>\n",
       "      <td>2.307573</td>\n",
       "      <td>12.786311</td>\n",
       "      <td>0.047454</td>\n",
       "      <td>8.635714</td>\n",
       "      <td>8.494667</td>\n",
       "      <td>0.025626</td>\n",
       "    </tr>\n",
       "    <tr>\n",
       "      <th>1</th>\n",
       "      <td>8.90</td>\n",
       "      <td>9.15</td>\n",
       "      <td>8.830</td>\n",
       "      <td>9.09</td>\n",
       "      <td>464772.0</td>\n",
       "      <td>Stock</td>\n",
       "      <td>Industrials</td>\n",
       "      <td>2.292535</td>\n",
       "      <td>2.317474</td>\n",
       "      <td>2.285439</td>\n",
       "      <td>2.311545</td>\n",
       "      <td>13.049304</td>\n",
       "      <td>0.004420</td>\n",
       "      <td>8.678571</td>\n",
       "      <td>8.521000</td>\n",
       "      <td>0.024372</td>\n",
       "    </tr>\n",
       "    <tr>\n",
       "      <th>2</th>\n",
       "      <td>8.65</td>\n",
       "      <td>8.92</td>\n",
       "      <td>8.630</td>\n",
       "      <td>8.83</td>\n",
       "      <td>565275.0</td>\n",
       "      <td>Stock</td>\n",
       "      <td>Industrials</td>\n",
       "      <td>2.266958</td>\n",
       "      <td>2.294553</td>\n",
       "      <td>2.264883</td>\n",
       "      <td>2.285439</td>\n",
       "      <td>13.245069</td>\n",
       "      <td>-0.028603</td>\n",
       "      <td>8.687143</td>\n",
       "      <td>8.538667</td>\n",
       "      <td>0.025057</td>\n",
       "    </tr>\n",
       "    <tr>\n",
       "      <th>3</th>\n",
       "      <td>8.29</td>\n",
       "      <td>8.59</td>\n",
       "      <td>8.252</td>\n",
       "      <td>8.53</td>\n",
       "      <td>379352.0</td>\n",
       "      <td>Stock</td>\n",
       "      <td>Industrials</td>\n",
       "      <td>2.228939</td>\n",
       "      <td>2.260721</td>\n",
       "      <td>2.224840</td>\n",
       "      <td>2.254445</td>\n",
       "      <td>12.846222</td>\n",
       "      <td>-0.033975</td>\n",
       "      <td>8.700000</td>\n",
       "      <td>8.546333</td>\n",
       "      <td>0.025920</td>\n",
       "    </tr>\n",
       "    <tr>\n",
       "      <th>4</th>\n",
       "      <td>8.35</td>\n",
       "      <td>8.39</td>\n",
       "      <td>8.090</td>\n",
       "      <td>8.22</td>\n",
       "      <td>676412.0</td>\n",
       "      <td>Stock</td>\n",
       "      <td>Industrials</td>\n",
       "      <td>2.235376</td>\n",
       "      <td>2.239645</td>\n",
       "      <td>2.207175</td>\n",
       "      <td>2.221375</td>\n",
       "      <td>13.424559</td>\n",
       "      <td>-0.036342</td>\n",
       "      <td>8.692857</td>\n",
       "      <td>8.555667</td>\n",
       "      <td>0.025532</td>\n",
       "    </tr>\n",
       "  </tbody>\n",
       "</table>\n",
       "</div>"
      ],
      "text/plain": [
       "   open  high    low  close    volume asset_type       sector  log_open  \\\n",
       "0  9.16  9.27  9.000   9.05  357292.0      Stock  Industrials  2.318458   \n",
       "1  8.90  9.15  8.830   9.09  464772.0      Stock  Industrials  2.292535   \n",
       "2  8.65  8.92  8.630   8.83  565275.0      Stock  Industrials  2.266958   \n",
       "3  8.29  8.59  8.252   8.53  379352.0      Stock  Industrials  2.228939   \n",
       "4  8.35  8.39  8.090   8.22  676412.0      Stock  Industrials  2.235376   \n",
       "\n",
       "   log_high   log_low  log_close  log_volume  daily_return      ma_7  \\\n",
       "0  2.329227  2.302585   2.307573   12.786311      0.047454  8.635714   \n",
       "1  2.317474  2.285439   2.311545   13.049304      0.004420  8.678571   \n",
       "2  2.294553  2.264883   2.285439   13.245069     -0.028603  8.687143   \n",
       "3  2.260721  2.224840   2.254445   12.846222     -0.033975  8.700000   \n",
       "4  2.239645  2.207175   2.221375   13.424559     -0.036342  8.692857   \n",
       "\n",
       "      ma_30  rolling_volatility  \n",
       "0  8.494667            0.025626  \n",
       "1  8.521000            0.024372  \n",
       "2  8.538667            0.025057  \n",
       "3  8.546333            0.025920  \n",
       "4  8.555667            0.025532  "
      ]
     },
     "execution_count": 125,
     "metadata": {},
     "output_type": "execute_result"
    }
   ],
   "source": [
    "# Resetting the index\n",
    "sliced_df.reset_index(inplace = True)\n",
    "\n",
    "# Dropping the date column\n",
    "sliced_df.drop(['date'], axis = 1, inplace = True)\n",
    "\n",
    "sliced_df.head()"
   ]
  },
  {
   "cell_type": "markdown",
   "metadata": {
    "id": "ROboWPEsAHEO"
   },
   "source": [
    "Our objective is to understand at what point does diversification stops being helpful. Diversification is defined by the number of sectors that we invest it. At a certain diversification level, the mean of the daily returns tells us the average earnings while the standard deviation tells us the risk. Plotting both of these together can be really insightful.\n",
    "We already talked about the optimal level of diversification levels while we created portfolios using random sectors and analysed the mean and standard deviations to understand the daily returns and associated risks. Another important question is to understand which stock to choose when we want to diversify. It depends on the earning goals and the risks we are willing to take. "
   ]
  },
  {
   "cell_type": "markdown",
   "metadata": {},
   "source": [
    "Let's understand the distribution of sectors we have in our dataset"
   ]
  },
  {
   "cell_type": "code",
   "execution_count": 126,
   "metadata": {},
   "outputs": [
    {
     "data": {
      "text/plain": [
       "sector\n",
       "Industrials                   14.475321\n",
       "Financial Services            14.221892\n",
       "Consumer Cyclical             10.757689\n",
       "Real Estate                    9.031048\n",
       "Energy                         7.575029\n",
       "Basic Materials                6.750911\n",
       "Technology                     5.869619\n",
       "Healthcare                     5.161893\n",
       "Consumer Defensive             4.677574\n",
       "Utilities                      3.736709\n",
       "Communication Services         3.052038\n",
       "ENERGY & TRANSPORTATION        2.592198\n",
       "REAL ESTATE & CONSTRUCTION     2.567825\n",
       "TECHNOLOGY                     2.449066\n",
       "FINANCE                        2.302686\n",
       "MANUFACTURING                  1.810340\n",
       "TRADE & SERVICES               1.693712\n",
       "LIFE SCIENCES                  0.658791\n",
       "                               0.615659\n",
       "Name: proportion, dtype: float64"
      ]
     },
     "execution_count": 126,
     "metadata": {},
     "output_type": "execute_result"
    }
   ],
   "source": [
    "sliced_df.sector.value_counts(normalize = True).sort_values(ascending = False) * 100"
   ]
  },
  {
   "cell_type": "markdown",
   "metadata": {},
   "source": [
    "**Here are the top stocks that represent the market:-**\n",
    "\n",
    "| Stocks             | Percentage |\n",
    "| ------------------ | ---------- |\n",
    "| Industrials        |   14.57%   |\n",
    "| Financial Services |   14.31%   |\n",
    "| Consumer Services  |   10.83%   |\n",
    "| Real Estate        |    9.09%   |\n",
    "| Energy             |    7.62%   |\n",
    "| Basic Materials    |    6.79%   |"
   ]
  },
  {
   "cell_type": "code",
   "execution_count": 127,
   "metadata": {},
   "outputs": [
    {
     "data": {
      "text/plain": [
       "asset_type\n",
       "Stock    1.0\n",
       "Name: proportion, dtype: float64"
      ]
     },
     "execution_count": 127,
     "metadata": {},
     "output_type": "execute_result"
    }
   ],
   "source": [
    "# This column is useless\n",
    "sliced_df['asset_type'].value_counts(normalize = True)"
   ]
  },
  {
   "cell_type": "code",
   "execution_count": 128,
   "metadata": {
    "id": "G8GA3bNeAHEQ"
   },
   "outputs": [],
   "source": [
    "# Dropping this column\n",
    "sliced_df.drop(['asset_type'], axis = 1, inplace = True)"
   ]
  },
  {
   "cell_type": "code",
   "execution_count": 129,
   "metadata": {},
   "outputs": [],
   "source": [
    "import matplotlib.pyplot as plt"
   ]
  },
  {
   "cell_type": "code",
   "execution_count": 130,
   "metadata": {},
   "outputs": [
    {
     "data": {
      "image/png": "[encoded data removed]",
      "text/plain": [
       "<Figure size 640x480 with 1 Axes>"
      ]
     },
     "metadata": {},
     "output_type": "display_data"
    }
   ],
   "source": [
    "sliced_df.groupby(by = 'sector')['daily_return'].mean().sort_values().plot.barh()\n",
    "plt.xlabel('On Average Daily Returns')\n",
    "plt.title('Sector vs Average Daily Returns')\n",
    "plt.show()"
   ]
  },
  {
   "cell_type": "code",
   "execution_count": 131,
   "metadata": {},
   "outputs": [
    {
     "data": {
      "image/png": "[encoded data removed]",
      "text/plain": [
       "<Figure size 640x480 with 1 Axes>"
      ]
     },
     "metadata": {},
     "output_type": "display_data"
    }
   ],
   "source": [
    "sliced_df.groupby(by = 'sector')['daily_return'].std().sort_values().plot.barh()\n",
    "plt.xlabel('Associated Risk and Fluctuation')\n",
    "plt.title('Sector vs Risk')\n",
    "plt.show()"
   ]
  },
  {
   "cell_type": "code",
   "execution_count": 132,
   "metadata": {
    "id": "lU0xKFUyAHER",
    "outputId": "98175abd-a6b0-42e7-a9cf-2700bed70d7c"
   },
   "outputs": [
    {
     "data": {
      "text/html": [
       "<div>\n",
       "<style scoped>\n",
       "    .dataframe tbody tr th:only-of-type {\n",
       "        vertical-align: middle;\n",
       "    }\n",
       "\n",
       "    .dataframe tbody tr th {\n",
       "        vertical-align: top;\n",
       "    }\n",
       "\n",
       "    .dataframe thead th {\n",
       "        text-align: right;\n",
       "    }\n",
       "</style>\n",
       "<table border=\"1\" class=\"dataframe\">\n",
       "  <thead>\n",
       "    <tr style=\"text-align: right;\">\n",
       "      <th></th>\n",
       "      <th>open</th>\n",
       "      <th>high</th>\n",
       "      <th>low</th>\n",
       "      <th>close</th>\n",
       "      <th>volume</th>\n",
       "      <th>sector</th>\n",
       "      <th>log_open</th>\n",
       "      <th>log_high</th>\n",
       "      <th>log_low</th>\n",
       "      <th>log_close</th>\n",
       "      <th>log_volume</th>\n",
       "      <th>daily_return</th>\n",
       "      <th>ma_7</th>\n",
       "      <th>ma_30</th>\n",
       "      <th>rolling_volatility</th>\n",
       "    </tr>\n",
       "  </thead>\n",
       "  <tbody>\n",
       "    <tr>\n",
       "      <th>22112</th>\n",
       "      <td>0.95</td>\n",
       "      <td>0.95</td>\n",
       "      <td>0.85</td>\n",
       "      <td>0.85</td>\n",
       "      <td>13600.0</td>\n",
       "      <td>Financial Services</td>\n",
       "      <td>0.667829</td>\n",
       "      <td>0.667829</td>\n",
       "      <td>0.615186</td>\n",
       "      <td>0.615186</td>\n",
       "      <td>9.517899</td>\n",
       "      <td>-0.827935</td>\n",
       "      <td>4.408571</td>\n",
       "      <td>5.140333</td>\n",
       "      <td>0.153066</td>\n",
       "    </tr>\n",
       "    <tr>\n",
       "      <th>22113</th>\n",
       "      <td>0.95</td>\n",
       "      <td>0.95</td>\n",
       "      <td>0.90</td>\n",
       "      <td>0.90</td>\n",
       "      <td>5000.0</td>\n",
       "      <td>Financial Services</td>\n",
       "      <td>0.667829</td>\n",
       "      <td>0.667829</td>\n",
       "      <td>0.641854</td>\n",
       "      <td>0.641854</td>\n",
       "      <td>8.517393</td>\n",
       "      <td>0.058824</td>\n",
       "      <td>3.795714</td>\n",
       "      <td>4.980667</td>\n",
       "      <td>0.153637</td>\n",
       "    </tr>\n",
       "    <tr>\n",
       "      <th>22114</th>\n",
       "      <td>0.95</td>\n",
       "      <td>1.01</td>\n",
       "      <td>0.85</td>\n",
       "      <td>0.93</td>\n",
       "      <td>7900.0</td>\n",
       "      <td>Financial Services</td>\n",
       "      <td>0.667829</td>\n",
       "      <td>0.698135</td>\n",
       "      <td>0.615186</td>\n",
       "      <td>0.657520</td>\n",
       "      <td>8.974745</td>\n",
       "      <td>0.033333</td>\n",
       "      <td>3.205714</td>\n",
       "      <td>4.824333</td>\n",
       "      <td>0.154043</td>\n",
       "    </tr>\n",
       "    <tr>\n",
       "      <th>22115</th>\n",
       "      <td>0.87</td>\n",
       "      <td>0.95</td>\n",
       "      <td>0.80</td>\n",
       "      <td>0.95</td>\n",
       "      <td>40800.0</td>\n",
       "      <td>Financial Services</td>\n",
       "      <td>0.625938</td>\n",
       "      <td>0.667829</td>\n",
       "      <td>0.587787</td>\n",
       "      <td>0.667829</td>\n",
       "      <td>10.616462</td>\n",
       "      <td>0.021505</td>\n",
       "      <td>2.627143</td>\n",
       "      <td>4.676667</td>\n",
       "      <td>0.154284</td>\n",
       "    </tr>\n",
       "    <tr>\n",
       "      <th>22116</th>\n",
       "      <td>0.87</td>\n",
       "      <td>0.87</td>\n",
       "      <td>0.87</td>\n",
       "      <td>0.87</td>\n",
       "      <td>0.0</td>\n",
       "      <td>Financial Services</td>\n",
       "      <td>0.625938</td>\n",
       "      <td>0.625938</td>\n",
       "      <td>0.625938</td>\n",
       "      <td>0.625938</td>\n",
       "      <td>0.000000</td>\n",
       "      <td>-0.084211</td>\n",
       "      <td>2.045714</td>\n",
       "      <td>4.528667</td>\n",
       "      <td>0.154620</td>\n",
       "    </tr>\n",
       "  </tbody>\n",
       "</table>\n",
       "</div>"
      ],
      "text/plain": [
       "       open  high   low  close   volume              sector  log_open  \\\n",
       "22112  0.95  0.95  0.85   0.85  13600.0  Financial Services  0.667829   \n",
       "22113  0.95  0.95  0.90   0.90   5000.0  Financial Services  0.667829   \n",
       "22114  0.95  1.01  0.85   0.93   7900.0  Financial Services  0.667829   \n",
       "22115  0.87  0.95  0.80   0.95  40800.0  Financial Services  0.625938   \n",
       "22116  0.87  0.87  0.87   0.87      0.0  Financial Services  0.625938   \n",
       "\n",
       "       log_high   log_low  log_close  log_volume  daily_return      ma_7  \\\n",
       "22112  0.667829  0.615186   0.615186    9.517899     -0.827935  4.408571   \n",
       "22113  0.667829  0.641854   0.641854    8.517393      0.058824  3.795714   \n",
       "22114  0.698135  0.615186   0.657520    8.974745      0.033333  3.205714   \n",
       "22115  0.667829  0.587787   0.667829   10.616462      0.021505  2.627143   \n",
       "22116  0.625938  0.625938   0.625938    0.000000     -0.084211  2.045714   \n",
       "\n",
       "          ma_30  rolling_volatility  \n",
       "22112  5.140333            0.153066  \n",
       "22113  4.980667            0.153637  \n",
       "22114  4.824333            0.154043  \n",
       "22115  4.676667            0.154284  \n",
       "22116  4.528667            0.154620  "
      ]
     },
     "execution_count": 132,
     "metadata": {},
     "output_type": "execute_result"
    }
   ],
   "source": [
    "df_major_sectors = sliced_df[sliced_df.sector.isin(['Financial Services', 'Basic Materials', 'Real Estate'])].copy()\n",
    "df_major_sectors.head()"
   ]
  },
  {
   "cell_type": "code",
   "execution_count": 133,
   "metadata": {
    "id": "Nlu-FKI_AHER",
    "outputId": "4983c6a8-3335-433b-b15e-d4f4971d3bef"
   },
   "outputs": [
    {
     "data": {
      "text/html": [
       "<div>\n",
       "<style scoped>\n",
       "    .dataframe tbody tr th:only-of-type {\n",
       "        vertical-align: middle;\n",
       "    }\n",
       "\n",
       "    .dataframe tbody tr th {\n",
       "        vertical-align: top;\n",
       "    }\n",
       "\n",
       "    .dataframe thead th {\n",
       "        text-align: right;\n",
       "    }\n",
       "</style>\n",
       "<table border=\"1\" class=\"dataframe\">\n",
       "  <thead>\n",
       "    <tr style=\"text-align: right;\">\n",
       "      <th></th>\n",
       "      <th>open</th>\n",
       "      <th>high</th>\n",
       "      <th>low</th>\n",
       "      <th>close</th>\n",
       "      <th>volume</th>\n",
       "      <th>sector</th>\n",
       "      <th>log_open</th>\n",
       "      <th>log_high</th>\n",
       "      <th>log_low</th>\n",
       "      <th>log_close</th>\n",
       "      <th>log_volume</th>\n",
       "      <th>daily_return</th>\n",
       "      <th>ma_7</th>\n",
       "      <th>ma_30</th>\n",
       "      <th>rolling_volatility</th>\n",
       "    </tr>\n",
       "  </thead>\n",
       "  <tbody>\n",
       "    <tr>\n",
       "      <th>0</th>\n",
       "      <td>9.16</td>\n",
       "      <td>9.27</td>\n",
       "      <td>9.000</td>\n",
       "      <td>9.05</td>\n",
       "      <td>357292.0</td>\n",
       "      <td>Industrials</td>\n",
       "      <td>2.318458</td>\n",
       "      <td>2.329227</td>\n",
       "      <td>2.302585</td>\n",
       "      <td>2.307573</td>\n",
       "      <td>12.786311</td>\n",
       "      <td>0.047454</td>\n",
       "      <td>8.635714</td>\n",
       "      <td>8.494667</td>\n",
       "      <td>0.025626</td>\n",
       "    </tr>\n",
       "    <tr>\n",
       "      <th>1</th>\n",
       "      <td>8.90</td>\n",
       "      <td>9.15</td>\n",
       "      <td>8.830</td>\n",
       "      <td>9.09</td>\n",
       "      <td>464772.0</td>\n",
       "      <td>Industrials</td>\n",
       "      <td>2.292535</td>\n",
       "      <td>2.317474</td>\n",
       "      <td>2.285439</td>\n",
       "      <td>2.311545</td>\n",
       "      <td>13.049304</td>\n",
       "      <td>0.004420</td>\n",
       "      <td>8.678571</td>\n",
       "      <td>8.521000</td>\n",
       "      <td>0.024372</td>\n",
       "    </tr>\n",
       "    <tr>\n",
       "      <th>2</th>\n",
       "      <td>8.65</td>\n",
       "      <td>8.92</td>\n",
       "      <td>8.630</td>\n",
       "      <td>8.83</td>\n",
       "      <td>565275.0</td>\n",
       "      <td>Industrials</td>\n",
       "      <td>2.266958</td>\n",
       "      <td>2.294553</td>\n",
       "      <td>2.264883</td>\n",
       "      <td>2.285439</td>\n",
       "      <td>13.245069</td>\n",
       "      <td>-0.028603</td>\n",
       "      <td>8.687143</td>\n",
       "      <td>8.538667</td>\n",
       "      <td>0.025057</td>\n",
       "    </tr>\n",
       "    <tr>\n",
       "      <th>3</th>\n",
       "      <td>8.29</td>\n",
       "      <td>8.59</td>\n",
       "      <td>8.252</td>\n",
       "      <td>8.53</td>\n",
       "      <td>379352.0</td>\n",
       "      <td>Industrials</td>\n",
       "      <td>2.228939</td>\n",
       "      <td>2.260721</td>\n",
       "      <td>2.224840</td>\n",
       "      <td>2.254445</td>\n",
       "      <td>12.846222</td>\n",
       "      <td>-0.033975</td>\n",
       "      <td>8.700000</td>\n",
       "      <td>8.546333</td>\n",
       "      <td>0.025920</td>\n",
       "    </tr>\n",
       "    <tr>\n",
       "      <th>4</th>\n",
       "      <td>8.35</td>\n",
       "      <td>8.39</td>\n",
       "      <td>8.090</td>\n",
       "      <td>8.22</td>\n",
       "      <td>676412.0</td>\n",
       "      <td>Industrials</td>\n",
       "      <td>2.235376</td>\n",
       "      <td>2.239645</td>\n",
       "      <td>2.207175</td>\n",
       "      <td>2.221375</td>\n",
       "      <td>13.424559</td>\n",
       "      <td>-0.036342</td>\n",
       "      <td>8.692857</td>\n",
       "      <td>8.555667</td>\n",
       "      <td>0.025532</td>\n",
       "    </tr>\n",
       "  </tbody>\n",
       "</table>\n",
       "</div>"
      ],
      "text/plain": [
       "   open  high    low  close    volume       sector  log_open  log_high  \\\n",
       "0  9.16  9.27  9.000   9.05  357292.0  Industrials  2.318458  2.329227   \n",
       "1  8.90  9.15  8.830   9.09  464772.0  Industrials  2.292535  2.317474   \n",
       "2  8.65  8.92  8.630   8.83  565275.0  Industrials  2.266958  2.294553   \n",
       "3  8.29  8.59  8.252   8.53  379352.0  Industrials  2.228939  2.260721   \n",
       "4  8.35  8.39  8.090   8.22  676412.0  Industrials  2.235376  2.239645   \n",
       "\n",
       "    log_low  log_close  log_volume  daily_return      ma_7     ma_30  \\\n",
       "0  2.302585   2.307573   12.786311      0.047454  8.635714  8.494667   \n",
       "1  2.285439   2.311545   13.049304      0.004420  8.678571  8.521000   \n",
       "2  2.264883   2.285439   13.245069     -0.028603  8.687143  8.538667   \n",
       "3  2.224840   2.254445   12.846222     -0.033975  8.700000  8.546333   \n",
       "4  2.207175   2.221375   13.424559     -0.036342  8.692857  8.555667   \n",
       "\n",
       "   rolling_volatility  \n",
       "0            0.025626  \n",
       "1            0.024372  \n",
       "2            0.025057  \n",
       "3            0.025920  \n",
       "4            0.025532  "
      ]
     },
     "execution_count": 133,
     "metadata": {},
     "output_type": "execute_result"
    }
   ],
   "source": [
    "df_other_factors = sliced_df[~sliced_df.sector.isin(['Financial Services', 'Basic Materials', 'Real Estate'])].copy()\n",
    "df_other_factors.head()"
   ]
  },
  {
   "cell_type": "code",
   "execution_count": 134,
   "metadata": {
    "id": "SLYXyAlYAHER",
    "outputId": "e2a6cf82-7ebc-4a67-9659-d9851c1f153f"
   },
   "outputs": [
    {
     "data": {
      "image/png": "[encoded data removed]",
      "text/plain": [
       "<Figure size 640x480 with 1 Axes>"
      ]
     },
     "metadata": {},
     "output_type": "display_data"
    }
   ],
   "source": [
    "df_other_factors.groupby(by = 'sector')['daily_return'].mean().sort_values().plot.barh()\n",
    "plt.xlabel('On Average Daily Returns')\n",
    "plt.title('Sector vs Average Daily Returns')\n",
    "plt.show()"
   ]
  },
  {
   "cell_type": "code",
   "execution_count": 135,
   "metadata": {
    "id": "7M_55APAAHER",
    "outputId": "405ebf80-71fc-410e-b09b-a01d39cb7768"
   },
   "outputs": [
    {
     "data": {
      "image/png": "[encoded data removed]",
      "text/plain": [
       "<Figure size 640x480 with 1 Axes>"
      ]
     },
     "metadata": {},
     "output_type": "display_data"
    }
   ],
   "source": [
    "df_other_factors.groupby(by = 'sector')['daily_return'].std().sort_values().plot.barh()\n",
    "plt.xlabel('Associated Risk and Fluctuation')\n",
    "plt.title('Sector vs Risk')\n",
    "plt.show()"
   ]
  },
  {
   "cell_type": "markdown",
   "metadata": {
    "id": "a8uPJqDQAHER"
   },
   "source": [
    "Let's create a new feature to measure the daily_return vs risk factor. That would tell us the relative risk and reward ratio of these sectors"
   ]
  },
  {
   "cell_type": "code",
   "execution_count": 136,
   "metadata": {
    "id": "SLGVeA1UAHER",
    "outputId": "6b5e75a6-07a6-4da9-9cc3-79a47c822102"
   },
   "outputs": [
    {
     "data": {
      "text/plain": [
       "sector\n",
       "                              0.001209\n",
       "Basic Materials               0.027707\n",
       "Communication Services        0.001662\n",
       "Consumer Cyclical             0.002352\n",
       "Consumer Defensive            0.002979\n",
       "ENERGY & TRANSPORTATION       0.006284\n",
       "Energy                        0.001746\n",
       "FINANCE                       0.001627\n",
       "Financial Services            0.032436\n",
       "Healthcare                    0.004395\n",
       "Industrials                   0.002312\n",
       "LIFE SCIENCES                 0.001596\n",
       "MANUFACTURING                 0.001392\n",
       "REAL ESTATE & CONSTRUCTION    0.002613\n",
       "Real Estate                   0.016463\n",
       "TECHNOLOGY                    0.003101\n",
       "TRADE & SERVICES              0.001358\n",
       "Technology                    0.004689\n",
       "Utilities                     0.001164\n",
       "Name: daily_return, dtype: float64"
      ]
     },
     "execution_count": 136,
     "metadata": {},
     "output_type": "execute_result"
    }
   ],
   "source": [
    "sliced_df.groupby(by = 'sector')['daily_return'].mean()"
   ]
  },
  {
   "cell_type": "code",
   "execution_count": 137,
   "metadata": {
    "id": "qKEGvM72AHER",
    "outputId": "e878c2e6-5a1b-4821-de77-89f10e0df019"
   },
   "outputs": [
    {
     "data": {
      "text/plain": [
       "sector\n",
       "                               0.150913\n",
       "Basic Materials               18.990199\n",
       "Communication Services         0.186499\n",
       "Consumer Cyclical              0.375808\n",
       "Consumer Defensive             0.598131\n",
       "ENERGY & TRANSPORTATION        2.139189\n",
       "Energy                         0.268995\n",
       "FINANCE                        0.244189\n",
       "Financial Services            33.709833\n",
       "Healthcare                     1.441458\n",
       "Industrials                    0.611931\n",
       "LIFE SCIENCES                  0.128825\n",
       "MANUFACTURING                  0.166374\n",
       "REAL ESTATE & CONSTRUCTION     0.190858\n",
       "Real Estate                   10.673959\n",
       "TECHNOLOGY                     0.626656\n",
       "TRADE & SERVICES               0.136120\n",
       "Technology                     0.918345\n",
       "Utilities                      0.268851\n",
       "Name: daily_return, dtype: float64"
      ]
     },
     "execution_count": 137,
     "metadata": {},
     "output_type": "execute_result"
    }
   ],
   "source": [
    "sliced_df.groupby(by = 'sector')['daily_return'].std()"
   ]
  },
  {
   "cell_type": "code",
   "execution_count": 138,
   "metadata": {
    "id": "dc4717GlAHER",
    "outputId": "c6b982fc-5e8d-4e42-9b6b-d192914b1d03"
   },
   "outputs": [
    {
     "data": {
      "text/plain": [
       "sector\n",
       "                              0.008011\n",
       "Basic Materials               0.001459\n",
       "Communication Services        0.008909\n",
       "Consumer Cyclical             0.006257\n",
       "Consumer Defensive            0.004980\n",
       "ENERGY & TRANSPORTATION       0.002938\n",
       "Energy                        0.006489\n",
       "FINANCE                       0.006663\n",
       "Financial Services            0.000962\n",
       "Healthcare                    0.003049\n",
       "Industrials                   0.003778\n",
       "LIFE SCIENCES                 0.012388\n",
       "MANUFACTURING                 0.008364\n",
       "REAL ESTATE & CONSTRUCTION    0.013689\n",
       "Real Estate                   0.001542\n",
       "TECHNOLOGY                    0.004949\n",
       "TRADE & SERVICES              0.009976\n",
       "Technology                    0.005106\n",
       "Utilities                     0.004328\n",
       "Name: daily_return, dtype: float64"
      ]
     },
     "execution_count": 138,
     "metadata": {},
     "output_type": "execute_result"
    }
   ],
   "source": [
    "reward_vs_risk = sliced_df.groupby(by = 'sector')['daily_return'].mean() / sliced_df.groupby(by = 'sector')['daily_return'].std()\n",
    "reward_vs_risk"
   ]
  },
  {
   "cell_type": "code",
   "execution_count": 139,
   "metadata": {
    "id": "fz88ulMrAHER",
    "outputId": "6db2c0e9-e2b8-421d-d46e-419d0b3d9d40"
   },
   "outputs": [
    {
     "data": {
      "image/png": "[encoded data removed]",
      "text/plain": [
       "<Figure size 640x480 with 1 Axes>"
      ]
     },
     "metadata": {},
     "output_type": "display_data"
    }
   ],
   "source": [
    "reward_vs_risk.sort_values().plot.barh()\n",
    "plt.xlabel('Reward/Risk')\n",
    "plt.title('Reward relative to Risk')\n",
    "plt.show()"
   ]
  },
  {
   "cell_type": "markdown",
   "metadata": {
    "id": "tyK2pdibAHER"
   },
   "source": [
    "This tells us that Trade & Services, Real Estate & Construction, Communication services, Manufacturing, Finance and Life Science are some of the most rewarding sectors. Whereas, Financial Services, Basic Materials and Real Estate are some of the worst."
   ]
  },
  {
   "cell_type": "markdown",
   "metadata": {
    "id": "QYb8UDeYAHER"
   },
   "source": [
    "So, in order to obtain a high stable income, these are the sectors one should diversify their investments into if they want the maximum reward with minimum risk."
   ]
  },
  {
   "cell_type": "markdown",
   "metadata": {},
   "source": [
    "## 6. Interpretation, Conclusion and Reporting"
   ]
  },
  {
   "cell_type": "markdown",
   "metadata": {},
   "source": [
    "We saw that after number of sectors increase to 7, the optimal level of diversification has been achieved after which we don't get that much improvement on the reward. We did this by choosing random number of sectors 10 times and calculating the mean of their daily returns. We did this to our data after the Database Cleaning (3.3) part when we build our portfolios. "
   ]
  },
  {
   "cell_type": "markdown",
   "metadata": {},
   "source": [
    "If someone is randomly diversifying their portfolio, they need to diversify with a lot of stocks. Their investment becomes safer but they don't get significant returns. It is also difficult to keep track of so many stocks and analysing which one is performing well and which ones are bad. \n",
    "On the other hand, diversification is necessary. We can't put all of our bags in one basket. But it should be done thoughtfully. Ideally, 5-6 stocks should be enough since the investor also needs to keep track of these stocks. Investing in more stocks would eventually become unmanageable. "
   ]
  },
  {
   "cell_type": "markdown",
   "metadata": {},
   "source": [
    "We analysed this in the Optimisation and Visualisation part where we fit our daily returns with n randomly selected sectors, we did this 10 times for each sector. We saw in the plot that after the number of stocks have increased to 7, we no longer see significant improvements in our daily returns. "
   ]
  },
  {
   "cell_type": "markdown",
   "metadata": {},
   "source": [
    "When someone is looking to diversify their portfolio, they have their own set of priorities. So depending on their priorities, different stocks would fit to their requirements and goals.  \n",
    "Here's a table that is valuable information for anyone looking to choose stocks when diversifying their portfolio"
   ]
  },
  {
   "cell_type": "markdown",
   "metadata": {},
   "source": [
    "| Highest Returns    | Lowest Risks     | Highest Returns with Lowest Risks |\n",
    "| ------------------ | ---------------- | --------------------------------- |\n",
    "| Financial Services | Trade & Services | Trade & Services                  |\n",
    "| Basic Materials    | Life Sciences    | Real Estate & Construction        |\n",
    "| Real Estate        | Manufacturing    | Life Sciences                     |"
   ]
  },
  {
   "cell_type": "markdown",
   "metadata": {},
   "source": [
    "The stock market is influenced by a range of factors. When we tried to fit a Linear Regression model, we saw it couldn't predict the daily_returns accurately. This is not surprising at all. We would definitely need more data and bigger models to train in order to achieve a satisfactory accuracy. On the other hand, we can still analyse a particular range of sectors as a whole and make decisive and informed actions. "
   ]
  },
  {
   "cell_type": "markdown",
   "metadata": {},
   "source": [
    "-------"
   ]
  }
 ],
 "metadata": {
  "colab": {
   "provenance": []
  },
  "kernelspec": {
   "display_name": "Python 3 (ipykernel)",
   "language": "python",
   "name": "python3"
  },
  "language_info": {
   "codemirror_mode": {
    "name": "ipython",
    "version": 3
   },
   "file_extension": ".py",
   "mimetype": "text/x-python",
   "name": "python",
   "nbconvert_exporter": "python",
   "pygments_lexer": "ipython3",
   "version": "3.11.5"
  }
 },
 "nbformat": 4,
 "nbformat_minor": 1
}
